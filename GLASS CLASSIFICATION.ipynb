{
 "cells": [
  {
   "cell_type": "markdown",
   "id": "3d8e6272",
   "metadata": {},
   "source": [
    "GLASS IDENTIFICATION DATASET(CLASSIFICATION)"
   ]
  },
  {
   "cell_type": "code",
   "execution_count": 23,
   "id": "ef727d2a",
   "metadata": {},
   "outputs": [],
   "source": [
    "import pandas as pd\n",
    "import numpy as np\n",
    "import seaborn as sns\n",
    "import matplotlib.pyplot as plt\n",
    "import warnings\n",
    "warnings.filterwarnings('ignore')"
   ]
  },
  {
   "cell_type": "markdown",
   "id": "96ce0657",
   "metadata": {},
   "source": [
    "IMPORTING THE CSV FILE USING PANDAS WITH COLUMN NAMES=['Id','RI','Na','Mg','Al','Si','K','Ca','Ba','Fe','Type of glass']"
   ]
  },
  {
   "cell_type": "code",
   "execution_count": 24,
   "id": "c54ee848",
   "metadata": {},
   "outputs": [],
   "source": [
    "df=pd.read_csv('glass.csv',names=['Id','RI','Na','Mg','Al','Si','K','Ca','Ba','Fe','Type of glass'])"
   ]
  },
  {
   "cell_type": "markdown",
   "id": "dfb34603",
   "metadata": {},
   "source": [
    "GENERAL INFORMATION ABOUT THE GLASSES <BR><BR><BR>\n",
    "WE HAVE BEEN GIVEN   A DATASET WHICH HAVE TYPE OF CLASS CLASSIFIED IN 7 CATEGORIES<BR>\n",
    "    CATEGORY 1 TO 4 ARE WINDOW GLASSES <BR>\n",
    "    IT CONTAINS BOTH FLOATED(ANNEALED/TEMPERATURE TREATED ) GLASSES AND NON FLAOTED GLASSES IN THE DATASET<BR>\n",
    "    FLOATED GLASSES HAVE HIGHLY EVEN SURFACES AND STRENth WHEN COMPARED TO NON FLOATING GLASS\n",
    "    THOUGH IT HAVE  DISADVANTAGE OVER NON FLOATING THAT IT IS NOT CAPABLE OF BEARING SUDDEN AND THERMAL LOADSIMPARTED<BR>\n",
    "    CATEGORY 5 TO 7 IS A NON WINDOW GLASS TYPE WHICH IS USED IN PURPOSES LIKE CONTAINERS ,HEADLAMPS AND TABLEWEARS\n"
   ]
  },
  {
   "cell_type": "code",
   "execution_count": 25,
   "id": "336c6a44",
   "metadata": {},
   "outputs": [
    {
     "data": {
      "text/html": [
       "<div>\n",
       "<style scoped>\n",
       "    .dataframe tbody tr th:only-of-type {\n",
       "        vertical-align: middle;\n",
       "    }\n",
       "\n",
       "    .dataframe tbody tr th {\n",
       "        vertical-align: top;\n",
       "    }\n",
       "\n",
       "    .dataframe thead th {\n",
       "        text-align: right;\n",
       "    }\n",
       "</style>\n",
       "<table border=\"1\" class=\"dataframe\">\n",
       "  <thead>\n",
       "    <tr style=\"text-align: right;\">\n",
       "      <th></th>\n",
       "      <th>Id</th>\n",
       "      <th>RI</th>\n",
       "      <th>Na</th>\n",
       "      <th>Mg</th>\n",
       "      <th>Al</th>\n",
       "      <th>Si</th>\n",
       "      <th>K</th>\n",
       "      <th>Ca</th>\n",
       "      <th>Ba</th>\n",
       "      <th>Fe</th>\n",
       "      <th>Type of glass</th>\n",
       "    </tr>\n",
       "  </thead>\n",
       "  <tbody>\n",
       "    <tr>\n",
       "      <th>0</th>\n",
       "      <td>1</td>\n",
       "      <td>1.52101</td>\n",
       "      <td>13.64</td>\n",
       "      <td>4.49</td>\n",
       "      <td>1.10</td>\n",
       "      <td>71.78</td>\n",
       "      <td>0.06</td>\n",
       "      <td>8.75</td>\n",
       "      <td>0.0</td>\n",
       "      <td>0.0</td>\n",
       "      <td>1</td>\n",
       "    </tr>\n",
       "    <tr>\n",
       "      <th>1</th>\n",
       "      <td>2</td>\n",
       "      <td>1.51761</td>\n",
       "      <td>13.89</td>\n",
       "      <td>3.60</td>\n",
       "      <td>1.36</td>\n",
       "      <td>72.73</td>\n",
       "      <td>0.48</td>\n",
       "      <td>7.83</td>\n",
       "      <td>0.0</td>\n",
       "      <td>0.0</td>\n",
       "      <td>1</td>\n",
       "    </tr>\n",
       "    <tr>\n",
       "      <th>2</th>\n",
       "      <td>3</td>\n",
       "      <td>1.51618</td>\n",
       "      <td>13.53</td>\n",
       "      <td>3.55</td>\n",
       "      <td>1.54</td>\n",
       "      <td>72.99</td>\n",
       "      <td>0.39</td>\n",
       "      <td>7.78</td>\n",
       "      <td>0.0</td>\n",
       "      <td>0.0</td>\n",
       "      <td>1</td>\n",
       "    </tr>\n",
       "    <tr>\n",
       "      <th>3</th>\n",
       "      <td>4</td>\n",
       "      <td>1.51766</td>\n",
       "      <td>13.21</td>\n",
       "      <td>3.69</td>\n",
       "      <td>1.29</td>\n",
       "      <td>72.61</td>\n",
       "      <td>0.57</td>\n",
       "      <td>8.22</td>\n",
       "      <td>0.0</td>\n",
       "      <td>0.0</td>\n",
       "      <td>1</td>\n",
       "    </tr>\n",
       "    <tr>\n",
       "      <th>4</th>\n",
       "      <td>5</td>\n",
       "      <td>1.51742</td>\n",
       "      <td>13.27</td>\n",
       "      <td>3.62</td>\n",
       "      <td>1.24</td>\n",
       "      <td>73.08</td>\n",
       "      <td>0.55</td>\n",
       "      <td>8.07</td>\n",
       "      <td>0.0</td>\n",
       "      <td>0.0</td>\n",
       "      <td>1</td>\n",
       "    </tr>\n",
       "  </tbody>\n",
       "</table>\n",
       "</div>"
      ],
      "text/plain": [
       "   Id       RI     Na    Mg    Al     Si     K    Ca   Ba   Fe  Type of glass\n",
       "0   1  1.52101  13.64  4.49  1.10  71.78  0.06  8.75  0.0  0.0              1\n",
       "1   2  1.51761  13.89  3.60  1.36  72.73  0.48  7.83  0.0  0.0              1\n",
       "2   3  1.51618  13.53  3.55  1.54  72.99  0.39  7.78  0.0  0.0              1\n",
       "3   4  1.51766  13.21  3.69  1.29  72.61  0.57  8.22  0.0  0.0              1\n",
       "4   5  1.51742  13.27  3.62  1.24  73.08  0.55  8.07  0.0  0.0              1"
      ]
     },
     "execution_count": 25,
     "metadata": {},
     "output_type": "execute_result"
    }
   ],
   "source": [
    "df.head()"
   ]
  },
  {
   "cell_type": "markdown",
   "id": "518f35fc",
   "metadata": {},
   "source": [
    "IN THIS DATASET WE HAVE BEEN GIVEN DIFFERENT WEIGHT PERCENTAGES OF OXIDES OF ELEMENTS LIKE<BR>\n",
    "Sodium<br>\n",
    "Magnesium<br>\n",
    "Aluminium<br>\n",
    "SILICON<BR>\n",
    "POTTASIUM<BR>\n",
    "CALCIUM<BR>\n",
    "BARIUM<BR>\n",
    "IRON<BR>\n",
    "and the refractive index is also given which helps in knowing about the visibility of the glass"
   ]
  },
  {
   "cell_type": "markdown",
   "id": "d68d7454",
   "metadata": {},
   "source": [
    "OBSERVATION LEVEL 1<BR>\n",
    "    THERE ARE TOTAL 10 FEATURES AND A TARGET NAMED TYPE OF GLASS <BR>\n",
    "    WE HAVE TO FURTHER CLASSIFY THE TYPE OF GLASS IN WINDOW GLASS AND NON WINDOW GLASS<BR>\n",
    "    \n",
    "    "
   ]
  },
  {
   "cell_type": "markdown",
   "id": "cfd5be2a",
   "metadata": {},
   "source": [
    "CHEKING FOR THE UNIQUE FEATURES IN TYPE OF GLASS"
   ]
  },
  {
   "cell_type": "code",
   "execution_count": 26,
   "id": "12b91b05",
   "metadata": {},
   "outputs": [
    {
     "data": {
      "text/plain": [
       "array([1, 2, 3, 5, 6, 7], dtype=int64)"
      ]
     },
     "execution_count": 26,
     "metadata": {},
     "output_type": "execute_result"
    }
   ],
   "source": [
    "df['Type of glass'].unique()"
   ]
  },
  {
   "cell_type": "markdown",
   "id": "6cd65572",
   "metadata": {},
   "source": [
    "GLASS QUALITIES CLASSIFICATIONS LEVELS ARE-[1,2,3,5,6,7]"
   ]
  },
  {
   "cell_type": "markdown",
   "id": "85f3902a",
   "metadata": {},
   "source": [
    "VALUE COUNTS FOR EACH CLASSIFICATION LEVEL"
   ]
  },
  {
   "cell_type": "code",
   "execution_count": 27,
   "id": "547714a0",
   "metadata": {},
   "outputs": [
    {
     "data": {
      "text/plain": [
       "2    76\n",
       "1    70\n",
       "7    29\n",
       "3    17\n",
       "5    13\n",
       "6     9\n",
       "Name: Type of glass, dtype: int64"
      ]
     },
     "execution_count": 27,
     "metadata": {},
     "output_type": "execute_result"
    }
   ],
   "source": [
    "df['Type of glass'].value_counts()"
   ]
  },
  {
   "cell_type": "markdown",
   "id": "f9db2af9",
   "metadata": {},
   "source": [
    "WE GOT THE MAXIMUM ROWS FOR THE QUALITY LEVEL 2-76\n",
    "AND COUNTS FOR OTHER LEVELS ARE ALSO SHOWN ABOVE"
   ]
  },
  {
   "cell_type": "markdown",
   "id": "c0898647",
   "metadata": {},
   "source": [
    "CHECKING THE DATATYPES OF THE DATA"
   ]
  },
  {
   "cell_type": "code",
   "execution_count": 28,
   "id": "9b3e2ff5",
   "metadata": {},
   "outputs": [
    {
     "data": {
      "text/plain": [
       "Id                 int64\n",
       "RI               float64\n",
       "Na               float64\n",
       "Mg               float64\n",
       "Al               float64\n",
       "Si               float64\n",
       "K                float64\n",
       "Ca               float64\n",
       "Ba               float64\n",
       "Fe               float64\n",
       "Type of glass      int64\n",
       "dtype: object"
      ]
     },
     "execution_count": 28,
     "metadata": {},
     "output_type": "execute_result"
    }
   ],
   "source": [
    "df.dtypes"
   ]
  },
  {
   "cell_type": "markdown",
   "id": "31985597",
   "metadata": {},
   "source": [
    "AS WE CAN OBSERVE THERE ARE 9 FLOAT64 FEATURES AND 1 INT64 AND A TARGET WHICH IS INT64 DATATYPE "
   ]
  },
  {
   "cell_type": "markdown",
   "id": "8ef8bf57",
   "metadata": {},
   "source": [
    "CHECKING FOR THE NULLS"
   ]
  },
  {
   "cell_type": "code",
   "execution_count": 29,
   "id": "b270686a",
   "metadata": {},
   "outputs": [
    {
     "data": {
      "text/plain": [
       "Id               0\n",
       "RI               0\n",
       "Na               0\n",
       "Mg               0\n",
       "Al               0\n",
       "Si               0\n",
       "K                0\n",
       "Ca               0\n",
       "Ba               0\n",
       "Fe               0\n",
       "Type of glass    0\n",
       "dtype: int64"
      ]
     },
     "execution_count": 29,
     "metadata": {},
     "output_type": "execute_result"
    }
   ],
   "source": [
    "df.isnull().sum()"
   ]
  },
  {
   "cell_type": "markdown",
   "id": "1a4e2c18",
   "metadata": {},
   "source": [
    "DATASET IS HAVING 0 NULLS AND ITS A HEALTHY DATASET IN TERMS OF NULL"
   ]
  },
  {
   "cell_type": "markdown",
   "id": "e1894253",
   "metadata": {},
   "source": [
    "DESCRIBING THE DATASET"
   ]
  },
  {
   "cell_type": "code",
   "execution_count": 30,
   "id": "0160283b",
   "metadata": {},
   "outputs": [
    {
     "data": {
      "text/html": [
       "<div>\n",
       "<style scoped>\n",
       "    .dataframe tbody tr th:only-of-type {\n",
       "        vertical-align: middle;\n",
       "    }\n",
       "\n",
       "    .dataframe tbody tr th {\n",
       "        vertical-align: top;\n",
       "    }\n",
       "\n",
       "    .dataframe thead th {\n",
       "        text-align: right;\n",
       "    }\n",
       "</style>\n",
       "<table border=\"1\" class=\"dataframe\">\n",
       "  <thead>\n",
       "    <tr style=\"text-align: right;\">\n",
       "      <th></th>\n",
       "      <th>count</th>\n",
       "      <th>mean</th>\n",
       "      <th>std</th>\n",
       "      <th>min</th>\n",
       "      <th>25%</th>\n",
       "      <th>50%</th>\n",
       "      <th>75%</th>\n",
       "      <th>max</th>\n",
       "    </tr>\n",
       "  </thead>\n",
       "  <tbody>\n",
       "    <tr>\n",
       "      <th>Id</th>\n",
       "      <td>214.0</td>\n",
       "      <td>107.500000</td>\n",
       "      <td>61.920648</td>\n",
       "      <td>1.00000</td>\n",
       "      <td>54.250000</td>\n",
       "      <td>107.50000</td>\n",
       "      <td>160.750000</td>\n",
       "      <td>214.00000</td>\n",
       "    </tr>\n",
       "    <tr>\n",
       "      <th>RI</th>\n",
       "      <td>214.0</td>\n",
       "      <td>1.518365</td>\n",
       "      <td>0.003037</td>\n",
       "      <td>1.51115</td>\n",
       "      <td>1.516522</td>\n",
       "      <td>1.51768</td>\n",
       "      <td>1.519157</td>\n",
       "      <td>1.53393</td>\n",
       "    </tr>\n",
       "    <tr>\n",
       "      <th>Na</th>\n",
       "      <td>214.0</td>\n",
       "      <td>13.407850</td>\n",
       "      <td>0.816604</td>\n",
       "      <td>10.73000</td>\n",
       "      <td>12.907500</td>\n",
       "      <td>13.30000</td>\n",
       "      <td>13.825000</td>\n",
       "      <td>17.38000</td>\n",
       "    </tr>\n",
       "    <tr>\n",
       "      <th>Mg</th>\n",
       "      <td>214.0</td>\n",
       "      <td>2.684533</td>\n",
       "      <td>1.442408</td>\n",
       "      <td>0.00000</td>\n",
       "      <td>2.115000</td>\n",
       "      <td>3.48000</td>\n",
       "      <td>3.600000</td>\n",
       "      <td>4.49000</td>\n",
       "    </tr>\n",
       "    <tr>\n",
       "      <th>Al</th>\n",
       "      <td>214.0</td>\n",
       "      <td>1.444907</td>\n",
       "      <td>0.499270</td>\n",
       "      <td>0.29000</td>\n",
       "      <td>1.190000</td>\n",
       "      <td>1.36000</td>\n",
       "      <td>1.630000</td>\n",
       "      <td>3.50000</td>\n",
       "    </tr>\n",
       "    <tr>\n",
       "      <th>Si</th>\n",
       "      <td>214.0</td>\n",
       "      <td>72.650935</td>\n",
       "      <td>0.774546</td>\n",
       "      <td>69.81000</td>\n",
       "      <td>72.280000</td>\n",
       "      <td>72.79000</td>\n",
       "      <td>73.087500</td>\n",
       "      <td>75.41000</td>\n",
       "    </tr>\n",
       "    <tr>\n",
       "      <th>K</th>\n",
       "      <td>214.0</td>\n",
       "      <td>0.497056</td>\n",
       "      <td>0.652192</td>\n",
       "      <td>0.00000</td>\n",
       "      <td>0.122500</td>\n",
       "      <td>0.55500</td>\n",
       "      <td>0.610000</td>\n",
       "      <td>6.21000</td>\n",
       "    </tr>\n",
       "    <tr>\n",
       "      <th>Ca</th>\n",
       "      <td>214.0</td>\n",
       "      <td>8.956963</td>\n",
       "      <td>1.423153</td>\n",
       "      <td>5.43000</td>\n",
       "      <td>8.240000</td>\n",
       "      <td>8.60000</td>\n",
       "      <td>9.172500</td>\n",
       "      <td>16.19000</td>\n",
       "    </tr>\n",
       "    <tr>\n",
       "      <th>Ba</th>\n",
       "      <td>214.0</td>\n",
       "      <td>0.175047</td>\n",
       "      <td>0.497219</td>\n",
       "      <td>0.00000</td>\n",
       "      <td>0.000000</td>\n",
       "      <td>0.00000</td>\n",
       "      <td>0.000000</td>\n",
       "      <td>3.15000</td>\n",
       "    </tr>\n",
       "    <tr>\n",
       "      <th>Fe</th>\n",
       "      <td>214.0</td>\n",
       "      <td>0.057009</td>\n",
       "      <td>0.097439</td>\n",
       "      <td>0.00000</td>\n",
       "      <td>0.000000</td>\n",
       "      <td>0.00000</td>\n",
       "      <td>0.100000</td>\n",
       "      <td>0.51000</td>\n",
       "    </tr>\n",
       "    <tr>\n",
       "      <th>Type of glass</th>\n",
       "      <td>214.0</td>\n",
       "      <td>2.780374</td>\n",
       "      <td>2.103739</td>\n",
       "      <td>1.00000</td>\n",
       "      <td>1.000000</td>\n",
       "      <td>2.00000</td>\n",
       "      <td>3.000000</td>\n",
       "      <td>7.00000</td>\n",
       "    </tr>\n",
       "  </tbody>\n",
       "</table>\n",
       "</div>"
      ],
      "text/plain": [
       "               count        mean        std       min        25%        50%  \\\n",
       "Id             214.0  107.500000  61.920648   1.00000  54.250000  107.50000   \n",
       "RI             214.0    1.518365   0.003037   1.51115   1.516522    1.51768   \n",
       "Na             214.0   13.407850   0.816604  10.73000  12.907500   13.30000   \n",
       "Mg             214.0    2.684533   1.442408   0.00000   2.115000    3.48000   \n",
       "Al             214.0    1.444907   0.499270   0.29000   1.190000    1.36000   \n",
       "Si             214.0   72.650935   0.774546  69.81000  72.280000   72.79000   \n",
       "K              214.0    0.497056   0.652192   0.00000   0.122500    0.55500   \n",
       "Ca             214.0    8.956963   1.423153   5.43000   8.240000    8.60000   \n",
       "Ba             214.0    0.175047   0.497219   0.00000   0.000000    0.00000   \n",
       "Fe             214.0    0.057009   0.097439   0.00000   0.000000    0.00000   \n",
       "Type of glass  214.0    2.780374   2.103739   1.00000   1.000000    2.00000   \n",
       "\n",
       "                      75%        max  \n",
       "Id             160.750000  214.00000  \n",
       "RI               1.519157    1.53393  \n",
       "Na              13.825000   17.38000  \n",
       "Mg               3.600000    4.49000  \n",
       "Al               1.630000    3.50000  \n",
       "Si              73.087500   75.41000  \n",
       "K                0.610000    6.21000  \n",
       "Ca               9.172500   16.19000  \n",
       "Ba               0.000000    3.15000  \n",
       "Fe               0.100000    0.51000  \n",
       "Type of glass    3.000000    7.00000  "
      ]
     },
     "execution_count": 30,
     "metadata": {},
     "output_type": "execute_result"
    }
   ],
   "source": [
    "df.describe().T"
   ]
  },
  {
   "cell_type": "markdown",
   "id": "3272b7a9",
   "metadata": {},
   "source": [
    "FROM JUST OBSERVING THE ABOVE DATSET LOOKS PRETTY WELL DISTRIBUTED AS STANDARD DEVIATIONS ARE LOW FROM THE MEAN AND MAX VALUES ARE NOT TOO MUCH DEVIATING FROM THE MEAN WHICH SHOWS LESS NUMBER OR NO OUTLIERS PRESENT"
   ]
  },
  {
   "cell_type": "markdown",
   "id": "b41d4d09",
   "metadata": {},
   "source": [
    "<BR>\n",
    "<BR>\n",
    "PLOTTING A HEATMAP FOR THE DESCRIPTION"
   ]
  },
  {
   "cell_type": "code",
   "execution_count": 31,
   "id": "68bc6606",
   "metadata": {},
   "outputs": [
    {
     "data": {
      "image/png": "[encoded data removed]",
      "text/plain": [
       "<Figure size 576x576 with 2 Axes>"
      ]
     },
     "metadata": {
      "needs_background": "light"
     },
     "output_type": "display_data"
    }
   ],
   "source": [
    "plt.figure(figsize=(8,8))\n",
    "sns.heatmap(df.describe()[1:].T,annot=True,annot_kws={'size':10})\n",
    "plt.show()"
   ]
  },
  {
   "cell_type": "markdown",
   "id": "e724d2af",
   "metadata": {},
   "source": [
    "DROPPING THE ID COLUMN AS ITS OF NO SIGNIFICANCE WITH THE QUALITY OF THE GLASS AS IT ONLY SHOWS THE SEQUENCE NUMBER WHICH IS NOT GOING TO INFLUENCE QUALITY IN ANY WAY\n"
   ]
  },
  {
   "cell_type": "code",
   "execution_count": 32,
   "id": "b58fe346",
   "metadata": {},
   "outputs": [],
   "source": [
    "df.drop(['Id'],axis=1,inplace=True)"
   ]
  },
  {
   "cell_type": "code",
   "execution_count": 33,
   "id": "22852ccb",
   "metadata": {},
   "outputs": [
    {
     "data": {
      "text/plain": [
       "(214, 10)"
      ]
     },
     "execution_count": 33,
     "metadata": {},
     "output_type": "execute_result"
    }
   ],
   "source": [
    "df.shape"
   ]
  },
  {
   "cell_type": "markdown",
   "id": "c88716a9",
   "metadata": {},
   "source": [
    "CHEKING FOR THE CORRELATION OF THE FEATURES WITH THE TARGET VARIABLES"
   ]
  },
  {
   "cell_type": "code",
   "execution_count": 34,
   "id": "a8c2ea11",
   "metadata": {},
   "outputs": [
    {
     "name": "stdout",
     "output_type": "stream",
     "text": [
      "Mg   -0.744993\n",
      "Fe   -0.188278\n",
      "RI   -0.164237\n",
      "K    -0.010054\n",
      "Ca    0.000952\n",
      "Si    0.151565\n",
      "Na    0.502898\n",
      "Ba    0.575161\n",
      "Al    0.598829\n",
      "Name: Type of glass, dtype: float64\n"
     ]
    }
   ],
   "source": [
    "print(df.corr()['Type of glass'].drop(['Type of glass']).sort_values())"
   ]
  },
  {
   "cell_type": "code",
   "execution_count": 35,
   "id": "a0682730",
   "metadata": {},
   "outputs": [
    {
     "data": {
      "image/png": "[encoded data removed]",
      "text/plain": [
       "<Figure size 576x576 with 1 Axes>"
      ]
     },
     "metadata": {
      "needs_background": "light"
     },
     "output_type": "display_data"
    }
   ],
   "source": [
    "plt.figure(figsize=(8,8))\n",
    "df.corr()['Type of glass'].drop(['Type of glass']).sort_values().plot(kind='bar',grid=True)\n",
    "plt.xlabel('FEATURES',fontsize=20)\n",
    "plt.ylabel('CHANCES OF FORMATION OF NON NEGATIVE GLASS TYPE (CATEGORIES RANGING FROM 5 TO 7)',fontsize=12)\n",
    "plt.show()"
   ]
  },
  {
   "cell_type": "markdown",
   "id": "bc7e0181",
   "metadata": {},
   "source": [
    "#### AS WE CAN SEE GRAPHICALLY PRESENCE OF aluminium ,barium AND sodium SHOWS A HIGH POSITIVE CORRELATION WITH THE HIGER CATEGORY GLASS LIKE 5 ,6 7 <BR>\n",
    "#### PRESENCE OF magnesium SHOWS A STRONG NEGATIVE CORRELATION WITH THE TARGET<BR>\n",
    "#### PRESENCE OF THESE ELEMENTS INFLUENCE THE CATEGORY OF THE GLASS TO LARGE EXTENT<BR>\n"
   ]
  },
  {
   "cell_type": "markdown",
   "id": "9b7f57f1",
   "metadata": {},
   "source": [
    "HEATMAP FOR THE CORRELATION"
   ]
  },
  {
   "cell_type": "code",
   "execution_count": 36,
   "id": "e3feccec",
   "metadata": {},
   "outputs": [
    {
     "data": {
      "image/png": "[encoded data removed]",
      "text/plain": [
       "<Figure size 720x720 with 2 Axes>"
      ]
     },
     "metadata": {
      "needs_background": "light"
     },
     "output_type": "display_data"
    }
   ],
   "source": [
    "plt.figure(figsize=(10,10))\n",
    "sns.heatmap(df.corr(),annot=True,annot_kws={'size':10})\n",
    "plt.show()"
   ]
  },
  {
   "cell_type": "markdown",
   "id": "06aa3a00",
   "metadata": {},
   "source": [
    "THIS HEATMAP DESCRIBES THE RELATIONSHIPS OF THE FEATURES AMONG THEMSELVES AND OF THE FEATURES WITH THE TARGET"
   ]
  },
  {
   "cell_type": "markdown",
   "id": "4008e55d",
   "metadata": {},
   "source": [
    "<BR>\n",
    "<BR>\n",
    "<BR>\n",
    "PRESENCE OF CALCIUM INFLUENCES THE REFRACTIIVE INDEX OF THE GLASS AND REFRACTIVE INDEX FURTEHR HAVE A 16% SIGNIFICANCE IN DETERMING THE QUALITY OF GLASS SO WE CAN NOT DROP CALCIUM AS OF NOW  BUT WE WILL FURTHER CHECK FOR MULTICOLLINEARITY LEATER AND THEN DECIDE "
   ]
  },
  {
   "cell_type": "markdown",
   "id": "ef5ccd94",
   "metadata": {},
   "source": [
    "PLOTS DESCRIBING THE RELATIONSHIPS OF THE FEATURES WITH THE TARGET"
   ]
  },
  {
   "cell_type": "code",
   "execution_count": 15,
   "id": "2072a42d",
   "metadata": {},
   "outputs": [
    {
     "data": {
      "image/png": "[encoded data removed]",
      "text/plain": [
       "<Figure size 576x576 with 1 Axes>"
      ]
     },
     "metadata": {},
     "output_type": "display_data"
    }
   ],
   "source": [
    "plt.figure(figsize=(8,8),facecolor='Yellow')\n",
    "sns.scatterplot(y=df['Type of glass'],x=df['Al'])\n",
    "plt.show()"
   ]
  },
  {
   "cell_type": "markdown",
   "id": "31decbc9",
   "metadata": {},
   "source": [
    "HIGH POSITIVE CORRELATION CAN BE OBSERVED AS THE PERCENT OF ALUMINUM INCREASES  <br>\n",
    " IT CAN BE CLEARLY OBSERVED THAT PRESENCE OF ALUMINIUM IN PERCENTAGES UPTO 1.7 YIELDS THE FORMATION OF CATEGORIES 1 ,2 AND 3 (WINDOW GLASS TYPE) <BR>\n",
    "    INCRESING THE PERCENTAGES OFTEN HELPS IN FORMING THE NON WINDOW GLASS TYPE"
   ]
  },
  {
   "cell_type": "code",
   "execution_count": 16,
   "id": "ac5af301",
   "metadata": {},
   "outputs": [
    {
     "data": {
      "image/png": "[encoded data removed]",
      "text/plain": [
       "<Figure size 576x576 with 1 Axes>"
      ]
     },
     "metadata": {},
     "output_type": "display_data"
    }
   ],
   "source": [
    "plt.figure(figsize=(8,8),facecolor='Yellow')\n",
    "sns.regplot(y=df['RI'],x=df['Ca'])\n",
    "plt.show()"
   ]
  },
  {
   "cell_type": "markdown",
   "id": "94738237",
   "metadata": {},
   "source": [
    "AS THE PERCENTAGES OF CALCIUM INCREASES ITS OBSERVED THAT REFRACTIVE INDEX ALSO INCREASES AND THATS A STRONG RELATIONSHIP<BR>\n",
    "    SO PRESENCE OF CALCIUM IN THE GLASS MAY HELP IN IMPROVING THE REFRACTIVE INDEX OF THR GLASS<BR>\n",
    "    In optics, the refractive index (or refraction index) of an optical medium is a dimensionless number that gives the indication of the light bending ability of that medium.\n",
    "    \n",
    "    \n",
    "\n"
   ]
  },
  {
   "cell_type": "code",
   "execution_count": 17,
   "id": "2991489b",
   "metadata": {},
   "outputs": [
    {
     "data": {
      "text/plain": [
       "Index(['RI', 'Na', 'Mg', 'Al', 'Si', 'K', 'Ca', 'Ba', 'Fe', 'Type of glass'], dtype='object')"
      ]
     },
     "execution_count": 17,
     "metadata": {},
     "output_type": "execute_result"
    }
   ],
   "source": [
    "df.columns"
   ]
  },
  {
   "cell_type": "code",
   "execution_count": 18,
   "id": "d98ae474",
   "metadata": {},
   "outputs": [
    {
     "data": {
      "image/png": "[encoded data removed]",
      "text/plain": [
       "<Figure size 576x576 with 1 Axes>"
      ]
     },
     "metadata": {},
     "output_type": "display_data"
    }
   ],
   "source": [
    "plt.figure(figsize=(8,8),facecolor='Red')\n",
    "sns.scatterplot(y=df['Type of glass'],x=df['RI'],hue=df['Ca'])\n",
    "plt.show()"
   ]
  },
  {
   "cell_type": "markdown",
   "id": "28679e8f",
   "metadata": {},
   "source": [
    "SMALL BUT SIGNIFICANT NEGATIVE CORRELATION BETWEEN REFRACTIVE INDEX AND NON WINDOW GLASS TYPE<br>\n",
    "WINDOW GLASS CATEGORY ARE SOUGHT TO HAVE HIGH VALUES OF REFRACTIVE INDEX ,PRESENCE OF CALLIUM BEING A MAJOR REASON<br>\n",
    "LOW REFRACTIVE INDEXES IN NON WINDOW GLASS CATEGORY<br>\n",
    "from value= 1.515 to value=1.523 there is a uniform kind of distribution among the category 1 to 3\n"
   ]
  },
  {
   "cell_type": "code",
   "execution_count": 19,
   "id": "59cf4d11",
   "metadata": {},
   "outputs": [
    {
     "data": {
      "image/png": "[encoded data removed]",
      "text/plain": [
       "<Figure size 576x576 with 1 Axes>"
      ]
     },
     "metadata": {},
     "output_type": "display_data"
    }
   ],
   "source": [
    "plt.figure(figsize=(8,8),facecolor='Red')\n",
    "sns.swarmplot(x=df['Type of glass'],y=df['Na'])\n",
    "plt.show()"
   ]
  },
  {
   "cell_type": "markdown",
   "id": "efc21394",
   "metadata": {},
   "source": [
    "LOWER VALUES OF SODIUM OXIDES RESULTS IN FORMATION OF WINDOW GLASS TYPE AND AS THE PERCNTAGE INCREASES WE ARE ATTAINING THE NON WINDOW GLASS STRUCTURES "
   ]
  },
  {
   "cell_type": "code",
   "execution_count": 20,
   "id": "9a9355c0",
   "metadata": {},
   "outputs": [
    {
     "data": {
      "image/png": "[encoded data removed]",
      "text/plain": [
       "<Figure size 576x576 with 1 Axes>"
      ]
     },
     "metadata": {},
     "output_type": "display_data"
    }
   ],
   "source": [
    "plt.figure(figsize=(8,8),facecolor='Red')\n",
    "sns.stripplot(x=df['Type of glass'],y=df['Mg'])\n",
    "plt.show()"
   ]
  },
  {
   "cell_type": "markdown",
   "id": "617b80e0",
   "metadata": {},
   "source": [
    "A STRONG NEGATIVE CORREALTION BETWEEN PERCENTAGE OF MAGNESIUM OXIDE AND THE CATEGORY OF THE CLASS<BR>\n",
    "    HIGH VALUE OF MAGNESIUM OXIDES OFTEN LEADS TO FORMATION OF WINDOW GLASS\n",
    "    AS THE PERCENTAGE DECRESES THERE IS A SHIFT TOWRADS NON WINDOW GLASSES"
   ]
  },
  {
   "cell_type": "code",
   "execution_count": 21,
   "id": "e6cd546f",
   "metadata": {},
   "outputs": [
    {
     "data": {
      "image/png": "[encoded data removed]",
      "text/plain": [
       "<Figure size 576x576 with 1 Axes>"
      ]
     },
     "metadata": {},
     "output_type": "display_data"
    }
   ],
   "source": [
    "plt.figure(figsize=(8,8),facecolor='Red')\n",
    "sns.stripplot(x=df['Type of glass'],y=df['Si'],)\n",
    "plt.show()"
   ]
  },
  {
   "cell_type": "markdown",
   "id": "88a94326",
   "metadata": {},
   "source": [
    "WHEN THE PERCENTAGES OF SILICON ARE KEPT AROUND THE MEAN VALUES IT ESCALATES THE FORMATION OF CATEGORY [1,2,3] AND NO SUCH PATTERN IS DEPICTED IN CASE OF LATER CATEGORIES"
   ]
  },
  {
   "cell_type": "code",
   "execution_count": 22,
   "id": "24fce8f1",
   "metadata": {},
   "outputs": [
    {
     "data": {
      "image/png": "[encoded data removed]",
      "text/plain": [
       "<Figure size 576x720 with 1 Axes>"
      ]
     },
     "metadata": {},
     "output_type": "display_data"
    }
   ],
   "source": [
    "plt.figure(figsize=(8,10),facecolor='Green')\n",
    "sns.stripplot(y=df['Type of glass'],x=df['K'])\n",
    "plt.show()"
   ]
  },
  {
   "cell_type": "code",
   "execution_count": 23,
   "id": "22f43be9",
   "metadata": {},
   "outputs": [
    {
     "data": {
      "image/png": "[encoded data removed]",
      "text/plain": [
       "<Figure size 576x576 with 1 Axes>"
      ]
     },
     "metadata": {},
     "output_type": "display_data"
    }
   ],
   "source": [
    "plt.figure(figsize=(8,8),facecolor='Red')\n",
    "sns.scatterplot(y=df['Type of glass'],x=df['Ca'])\n",
    "plt.show()"
   ]
  },
  {
   "cell_type": "markdown",
   "id": "79d24848",
   "metadata": {},
   "source": [
    "NO CLEAR PATTERN CAN BE OBSERVED WHEN PERCENTAGE OF CALCIUM OXIDE IS TAKEN INTO CONSIDERATION <BR>\n",
    "    SO JUST WITH THE CALCIUM OXIDE WE CANT DETERMINE WHAT TYPE OF GLASS IS HAVING THE HIGH PROBABILITY OF FORMING\n"
   ]
  },
  {
   "cell_type": "code",
   "execution_count": 24,
   "id": "f36da819",
   "metadata": {},
   "outputs": [
    {
     "data": {
      "image/png": "[encoded data removed]",
      "text/plain": [
       "<Figure size 576x576 with 1 Axes>"
      ]
     },
     "metadata": {},
     "output_type": "display_data"
    }
   ],
   "source": [
    "plt.figure(figsize=(8,8),facecolor='Red')\n",
    "sns.barplot(x=df['Type of glass'],y=df['Ba'])\n",
    "plt.show()"
   ]
  },
  {
   "cell_type": "markdown",
   "id": "0c6db707",
   "metadata": {},
   "source": [
    "BARIUM HAVE A STRONG POSITIVE CORRELATION WITH THE NON WINDOW GLASS TYPE<BR>\n",
    "    "
   ]
  },
  {
   "cell_type": "code",
   "execution_count": 25,
   "id": "33867620",
   "metadata": {},
   "outputs": [
    {
     "data": {
      "image/png": "[encoded data removed]",
      "text/plain": [
       "<Figure size 576x576 with 1 Axes>"
      ]
     },
     "metadata": {},
     "output_type": "display_data"
    }
   ],
   "source": [
    "plt.figure(figsize=(8,8),facecolor='Pink')\n",
    "sns.scatterplot(y=df['Type of glass'],x=df['Fe'])\n",
    "plt.show()"
   ]
  },
  {
   "cell_type": "markdown",
   "id": "c49f5243",
   "metadata": {},
   "source": [
    "FROM THE GENERAL INFORMATION WE KNOW THE FACT THAT INCREASE IN THE PRESENCE OF IRON OXIDE DECRESES THE VISIBILTY OF THE GLASS <BR>\n",
    "IN ARCHITECTURAL AND AUTOMATIVE USES WE NEED SUCH TYPE OF GLASSES (TINTED ONES) SO WE USE IRON AND ITS VERY CLEAR FROM THE PLOT THAT\n",
    "increase in iron oxide favours the formation of WINDOW TYPE GLASS<BR>\n",
    "LOW PERCENTAGES OF IRON OXIDE OFTEN LEADS TO CLEAR GLASSES USED IN NON WINDOW TYPES GLASSES"
   ]
  },
  {
   "cell_type": "markdown",
   "id": "4aef08fb",
   "metadata": {},
   "source": [
    "******************************************"
   ]
  },
  {
   "cell_type": "markdown",
   "id": "ee4e4a00",
   "metadata": {},
   "source": [
    "#### PLOTS DESCRIBING THE DISTRIBUTION OF THE DATA OF THE FEATURES AND REFRACTIVE INDEX"
   ]
  },
  {
   "cell_type": "code",
   "execution_count": 26,
   "id": "cc64583b",
   "metadata": {},
   "outputs": [],
   "source": [
    "feat=df[['RI', 'Na', 'Mg', 'Al', 'Si', 'K', 'Ca', 'Ba', 'Fe',]]"
   ]
  },
  {
   "cell_type": "code",
   "execution_count": 27,
   "id": "945f2655",
   "metadata": {},
   "outputs": [
    {
     "data": {
      "image/png": "[encoded data removed]",
      "text/plain": [
       "<Figure size 2160x2160 with 9 Axes>"
      ]
     },
     "metadata": {
      "needs_background": "light"
     },
     "output_type": "display_data"
    }
   ],
   "source": [
    "plt.figure(figsize=(30,30))\n",
    "n=1\n",
    "for i in feat:\n",
    "    if n<10:\n",
    "        ax=plt.subplot(3,3,n)\n",
    "        sns.distplot(df[i])\n",
    "        plt.xlabel(i,fontsize=20)\n",
    "    n=n+1\n",
    "plt.show()"
   ]
  },
  {
   "cell_type": "markdown",
   "id": "4e5fa4fa",
   "metadata": {},
   "source": [
    "IT CAN BE OBSERVED THAT <BR>\n",
    "SODIUM<BR>\n",
    "SILICON<BR>\n",
    "ALUMINUM<BR>\n",
    "#### HAVE LOW VALUE OF SKEWNWSS REST ALL HAVE WIDE RANGE OF SKEWNESS PRESENT IN THEM<BR>\n",
    "#### SO WE HAVE TO USE STANDARDISATION/NORMALISATION TECHNIQUES TO OVERCOME THIS PROBLEM<BR>\n",
    "    "
   ]
  },
  {
   "cell_type": "markdown",
   "id": "151e6e83",
   "metadata": {},
   "source": [
    "SKEWNESS VALUES /BARPLOT"
   ]
  },
  {
   "cell_type": "code",
   "execution_count": 28,
   "id": "34dff90f",
   "metadata": {},
   "outputs": [
    {
     "name": "stdout",
     "output_type": "stream",
     "text": [
      "Mg              -1.152559\n",
      "Si              -0.730447\n",
      "Na               0.454181\n",
      "Al               0.907290\n",
      "Type of glass    1.114915\n",
      "RI               1.625431\n",
      "Fe               1.754327\n",
      "Ca               2.047054\n",
      "Ba               3.416425\n",
      "K                6.551648\n",
      "dtype: float64\n",
      "\n",
      "\n",
      "\n"
     ]
    },
    {
     "data": {
      "image/png": "[encoded data removed]",
      "text/plain": [
       "<Figure size 432x288 with 1 Axes>"
      ]
     },
     "metadata": {
      "needs_background": "light"
     },
     "output_type": "display_data"
    }
   ],
   "source": [
    "print(df.skew().sort_values())\n",
    "print('\\n\\n')\n",
    "df.skew().sort_values().plot(kind='bar')\n",
    "plt.xlabel('features',fontsize=20)\n",
    "plt.ylabel('skewness',fontsize=20)\n",
    "plt.show()"
   ]
  },
  {
   "cell_type": "markdown",
   "id": "56268f9b",
   "metadata": {},
   "source": [
    "CHECKING FOR THE OULIERS USING BOXPLOTS<BR>\n",
    "    "
   ]
  },
  {
   "cell_type": "code",
   "execution_count": 29,
   "id": "c2e17b99",
   "metadata": {},
   "outputs": [
    {
     "data": {
      "image/png": "[encoded data removed]",
      "text/plain": [
       "<Figure size 2160x2160 with 9 Axes>"
      ]
     },
     "metadata": {
      "needs_background": "light"
     },
     "output_type": "display_data"
    }
   ],
   "source": [
    "plt.figure(figsize=(30,30))\n",
    "n=1\n",
    "for i in feat:\n",
    "    if n<10:\n",
    "        ax=plt.subplot(3,3,n)\n",
    "        sns.boxplot(df[i])\n",
    "        plt.xlabel(i,fontsize=20)\n",
    "    n=n+1\n",
    "plt.show()"
   ]
  },
  {
   "cell_type": "markdown",
   "id": "59e08724",
   "metadata": {},
   "source": [
    "SIGNIFICANT AMOUNT OF OUTLIERS PRESENT IN THE FEATURES EXCEPT MAGNESIUM"
   ]
  },
  {
   "cell_type": "markdown",
   "id": "cfd2f3a6",
   "metadata": {},
   "source": [
    "OUTLIERS HANDLING USING ZSCORE"
   ]
  },
  {
   "cell_type": "code",
   "execution_count": 30,
   "id": "0360f889",
   "metadata": {},
   "outputs": [],
   "source": [
    "from scipy.stats import zscore"
   ]
  },
  {
   "cell_type": "code",
   "execution_count": 31,
   "id": "452c9d5c",
   "metadata": {},
   "outputs": [],
   "source": [
    "z=np.abs(zscore(df))"
   ]
  },
  {
   "cell_type": "code",
   "execution_count": 32,
   "id": "0ff5089e",
   "metadata": {},
   "outputs": [],
   "source": [
    "df=df[(z<3).all(axis=1)]"
   ]
  },
  {
   "cell_type": "code",
   "execution_count": 33,
   "id": "50e28bf9",
   "metadata": {},
   "outputs": [
    {
     "data": {
      "text/plain": [
       "(194, 10)"
      ]
     },
     "execution_count": 33,
     "metadata": {},
     "output_type": "execute_result"
    }
   ],
   "source": [
    "df.shape"
   ]
  },
  {
   "cell_type": "markdown",
   "id": "a822c00f",
   "metadata": {},
   "source": [
    "loss after outliers removal"
   ]
  },
  {
   "cell_type": "code",
   "execution_count": 34,
   "id": "9b3c093d",
   "metadata": {},
   "outputs": [
    {
     "data": {
      "text/plain": [
       "9.345794392523365"
      ]
     },
     "execution_count": 34,
     "metadata": {},
     "output_type": "execute_result"
    }
   ],
   "source": [
    "(214-194)/214*100"
   ]
  },
  {
   "cell_type": "markdown",
   "id": "838cfb16",
   "metadata": {},
   "source": [
    "####  DIVIDING THE TARGET FURTHER INTO 2 CATEGORIES <BR>\n",
    "#### 1-WINDOW GLASS <BR>\n",
    "#### 0-NON WINDOW GLASS <BR>"
   ]
  },
  {
   "cell_type": "code",
   "execution_count": 35,
   "id": "96b0578e",
   "metadata": {},
   "outputs": [
    {
     "data": {
      "text/html": [
       "<div>\n",
       "<style scoped>\n",
       "    .dataframe tbody tr th:only-of-type {\n",
       "        vertical-align: middle;\n",
       "    }\n",
       "\n",
       "    .dataframe tbody tr th {\n",
       "        vertical-align: top;\n",
       "    }\n",
       "\n",
       "    .dataframe thead th {\n",
       "        text-align: right;\n",
       "    }\n",
       "</style>\n",
       "<table border=\"1\" class=\"dataframe\">\n",
       "  <thead>\n",
       "    <tr style=\"text-align: right;\">\n",
       "      <th></th>\n",
       "      <th>RI</th>\n",
       "      <th>Na</th>\n",
       "      <th>Mg</th>\n",
       "      <th>Al</th>\n",
       "      <th>Si</th>\n",
       "      <th>K</th>\n",
       "      <th>Ca</th>\n",
       "      <th>Ba</th>\n",
       "      <th>Fe</th>\n",
       "      <th>Type of glass</th>\n",
       "    </tr>\n",
       "  </thead>\n",
       "  <tbody>\n",
       "    <tr>\n",
       "      <th>0</th>\n",
       "      <td>1.52101</td>\n",
       "      <td>13.64</td>\n",
       "      <td>4.49</td>\n",
       "      <td>1.10</td>\n",
       "      <td>71.78</td>\n",
       "      <td>0.06</td>\n",
       "      <td>8.75</td>\n",
       "      <td>0.0</td>\n",
       "      <td>0.0</td>\n",
       "      <td>1</td>\n",
       "    </tr>\n",
       "    <tr>\n",
       "      <th>1</th>\n",
       "      <td>1.51761</td>\n",
       "      <td>13.89</td>\n",
       "      <td>3.60</td>\n",
       "      <td>1.36</td>\n",
       "      <td>72.73</td>\n",
       "      <td>0.48</td>\n",
       "      <td>7.83</td>\n",
       "      <td>0.0</td>\n",
       "      <td>0.0</td>\n",
       "      <td>1</td>\n",
       "    </tr>\n",
       "    <tr>\n",
       "      <th>2</th>\n",
       "      <td>1.51618</td>\n",
       "      <td>13.53</td>\n",
       "      <td>3.55</td>\n",
       "      <td>1.54</td>\n",
       "      <td>72.99</td>\n",
       "      <td>0.39</td>\n",
       "      <td>7.78</td>\n",
       "      <td>0.0</td>\n",
       "      <td>0.0</td>\n",
       "      <td>1</td>\n",
       "    </tr>\n",
       "    <tr>\n",
       "      <th>3</th>\n",
       "      <td>1.51766</td>\n",
       "      <td>13.21</td>\n",
       "      <td>3.69</td>\n",
       "      <td>1.29</td>\n",
       "      <td>72.61</td>\n",
       "      <td>0.57</td>\n",
       "      <td>8.22</td>\n",
       "      <td>0.0</td>\n",
       "      <td>0.0</td>\n",
       "      <td>1</td>\n",
       "    </tr>\n",
       "    <tr>\n",
       "      <th>4</th>\n",
       "      <td>1.51742</td>\n",
       "      <td>13.27</td>\n",
       "      <td>3.62</td>\n",
       "      <td>1.24</td>\n",
       "      <td>73.08</td>\n",
       "      <td>0.55</td>\n",
       "      <td>8.07</td>\n",
       "      <td>0.0</td>\n",
       "      <td>0.0</td>\n",
       "      <td>1</td>\n",
       "    </tr>\n",
       "  </tbody>\n",
       "</table>\n",
       "</div>"
      ],
      "text/plain": [
       "        RI     Na    Mg    Al     Si     K    Ca   Ba   Fe  Type of glass\n",
       "0  1.52101  13.64  4.49  1.10  71.78  0.06  8.75  0.0  0.0              1\n",
       "1  1.51761  13.89  3.60  1.36  72.73  0.48  7.83  0.0  0.0              1\n",
       "2  1.51618  13.53  3.55  1.54  72.99  0.39  7.78  0.0  0.0              1\n",
       "3  1.51766  13.21  3.69  1.29  72.61  0.57  8.22  0.0  0.0              1\n",
       "4  1.51742  13.27  3.62  1.24  73.08  0.55  8.07  0.0  0.0              1"
      ]
     },
     "execution_count": 35,
     "metadata": {},
     "output_type": "execute_result"
    }
   ],
   "source": [
    "df.head()"
   ]
  },
  {
   "cell_type": "code",
   "execution_count": 36,
   "id": "9be7bd7d",
   "metadata": {},
   "outputs": [
    {
     "data": {
      "text/plain": [
       "array([1, 2, 3, 5, 6, 7], dtype=int64)"
      ]
     },
     "execution_count": 36,
     "metadata": {},
     "output_type": "execute_result"
    }
   ],
   "source": [
    "df['Type of glass'].unique()"
   ]
  },
  {
   "cell_type": "markdown",
   "id": "cff54b5d",
   "metadata": {},
   "source": [
    "defining the function which does the work of classifiying the categories from 1 to 4 in WINDOW GLASS(1)<BR>\n",
    "FROM 5 TO 7 IN CATEGORY NON WINDOW GLASS(0) CATEGORY"
   ]
  },
  {
   "cell_type": "code",
   "execution_count": 37,
   "id": "0575b81d",
   "metadata": {},
   "outputs": [],
   "source": [
    "def num(n):\n",
    "    if(n<5):\n",
    "        return 1\n",
    "    else:\n",
    "        return 0"
   ]
  },
  {
   "cell_type": "code",
   "execution_count": 38,
   "id": "eb7d810b",
   "metadata": {},
   "outputs": [],
   "source": [
    "df['category']=df['Type of glass'].apply(num)"
   ]
  },
  {
   "cell_type": "code",
   "execution_count": 39,
   "id": "b618a3b5",
   "metadata": {},
   "outputs": [
    {
     "data": {
      "text/html": [
       "<div>\n",
       "<style scoped>\n",
       "    .dataframe tbody tr th:only-of-type {\n",
       "        vertical-align: middle;\n",
       "    }\n",
       "\n",
       "    .dataframe tbody tr th {\n",
       "        vertical-align: top;\n",
       "    }\n",
       "\n",
       "    .dataframe thead th {\n",
       "        text-align: right;\n",
       "    }\n",
       "</style>\n",
       "<table border=\"1\" class=\"dataframe\">\n",
       "  <thead>\n",
       "    <tr style=\"text-align: right;\">\n",
       "      <th></th>\n",
       "      <th>RI</th>\n",
       "      <th>Na</th>\n",
       "      <th>Mg</th>\n",
       "      <th>Al</th>\n",
       "      <th>Si</th>\n",
       "      <th>K</th>\n",
       "      <th>Ca</th>\n",
       "      <th>Ba</th>\n",
       "      <th>Fe</th>\n",
       "      <th>Type of glass</th>\n",
       "      <th>category</th>\n",
       "    </tr>\n",
       "  </thead>\n",
       "  <tbody>\n",
       "    <tr>\n",
       "      <th>0</th>\n",
       "      <td>1.52101</td>\n",
       "      <td>13.64</td>\n",
       "      <td>4.49</td>\n",
       "      <td>1.10</td>\n",
       "      <td>71.78</td>\n",
       "      <td>0.06</td>\n",
       "      <td>8.75</td>\n",
       "      <td>0.0</td>\n",
       "      <td>0.0</td>\n",
       "      <td>1</td>\n",
       "      <td>1</td>\n",
       "    </tr>\n",
       "    <tr>\n",
       "      <th>1</th>\n",
       "      <td>1.51761</td>\n",
       "      <td>13.89</td>\n",
       "      <td>3.60</td>\n",
       "      <td>1.36</td>\n",
       "      <td>72.73</td>\n",
       "      <td>0.48</td>\n",
       "      <td>7.83</td>\n",
       "      <td>0.0</td>\n",
       "      <td>0.0</td>\n",
       "      <td>1</td>\n",
       "      <td>1</td>\n",
       "    </tr>\n",
       "    <tr>\n",
       "      <th>2</th>\n",
       "      <td>1.51618</td>\n",
       "      <td>13.53</td>\n",
       "      <td>3.55</td>\n",
       "      <td>1.54</td>\n",
       "      <td>72.99</td>\n",
       "      <td>0.39</td>\n",
       "      <td>7.78</td>\n",
       "      <td>0.0</td>\n",
       "      <td>0.0</td>\n",
       "      <td>1</td>\n",
       "      <td>1</td>\n",
       "    </tr>\n",
       "    <tr>\n",
       "      <th>3</th>\n",
       "      <td>1.51766</td>\n",
       "      <td>13.21</td>\n",
       "      <td>3.69</td>\n",
       "      <td>1.29</td>\n",
       "      <td>72.61</td>\n",
       "      <td>0.57</td>\n",
       "      <td>8.22</td>\n",
       "      <td>0.0</td>\n",
       "      <td>0.0</td>\n",
       "      <td>1</td>\n",
       "      <td>1</td>\n",
       "    </tr>\n",
       "    <tr>\n",
       "      <th>4</th>\n",
       "      <td>1.51742</td>\n",
       "      <td>13.27</td>\n",
       "      <td>3.62</td>\n",
       "      <td>1.24</td>\n",
       "      <td>73.08</td>\n",
       "      <td>0.55</td>\n",
       "      <td>8.07</td>\n",
       "      <td>0.0</td>\n",
       "      <td>0.0</td>\n",
       "      <td>1</td>\n",
       "      <td>1</td>\n",
       "    </tr>\n",
       "  </tbody>\n",
       "</table>\n",
       "</div>"
      ],
      "text/plain": [
       "        RI     Na    Mg    Al     Si     K    Ca   Ba   Fe  Type of glass  \\\n",
       "0  1.52101  13.64  4.49  1.10  71.78  0.06  8.75  0.0  0.0              1   \n",
       "1  1.51761  13.89  3.60  1.36  72.73  0.48  7.83  0.0  0.0              1   \n",
       "2  1.51618  13.53  3.55  1.54  72.99  0.39  7.78  0.0  0.0              1   \n",
       "3  1.51766  13.21  3.69  1.29  72.61  0.57  8.22  0.0  0.0              1   \n",
       "4  1.51742  13.27  3.62  1.24  73.08  0.55  8.07  0.0  0.0              1   \n",
       "\n",
       "   category  \n",
       "0         1  \n",
       "1         1  \n",
       "2         1  \n",
       "3         1  \n",
       "4         1  "
      ]
     },
     "execution_count": 39,
     "metadata": {},
     "output_type": "execute_result"
    }
   ],
   "source": [
    "df.head()"
   ]
  },
  {
   "cell_type": "code",
   "execution_count": 40,
   "id": "708ddea5",
   "metadata": {},
   "outputs": [],
   "source": [
    "df.drop(['Type of glass'],inplace=True,axis=1)"
   ]
  },
  {
   "cell_type": "code",
   "execution_count": 41,
   "id": "a5fcaf2a",
   "metadata": {},
   "outputs": [
    {
     "data": {
      "text/plain": [
       "1    154\n",
       "0     40\n",
       "Name: category, dtype: int64"
      ]
     },
     "execution_count": 41,
     "metadata": {},
     "output_type": "execute_result"
    }
   ],
   "source": [
    "df['category'].value_counts()"
   ]
  },
  {
   "cell_type": "markdown",
   "id": "e65837ad",
   "metadata": {},
   "source": [
    "IT VERY CLEAR THAT DATA IS IMBALANCED <BR>\n",
    "WE HAVE TO BALANCE THIS USING SMOTE<BR>"
   ]
  },
  {
   "cell_type": "markdown",
   "id": "0d149ca8",
   "metadata": {},
   "source": [
    "DIVIDING DATASET INTO FEATURES AND TARGET (X AND Y)"
   ]
  },
  {
   "cell_type": "code",
   "execution_count": 42,
   "id": "07a21288",
   "metadata": {},
   "outputs": [],
   "source": [
    "x=df.drop(['category'],axis=1)"
   ]
  },
  {
   "cell_type": "code",
   "execution_count": 43,
   "id": "fdd1ba26",
   "metadata": {},
   "outputs": [],
   "source": [
    "y=df['category']"
   ]
  },
  {
   "cell_type": "markdown",
   "id": "32630c85",
   "metadata": {},
   "source": [
    "USING POWER TRANSFORMER FOR STANDARDSIATION OF THE DATA"
   ]
  },
  {
   "cell_type": "code",
   "execution_count": 44,
   "id": "96024da3",
   "metadata": {},
   "outputs": [],
   "source": [
    "from sklearn.preprocessing import PowerTransformer"
   ]
  },
  {
   "cell_type": "code",
   "execution_count": 45,
   "id": "3c28d95b",
   "metadata": {},
   "outputs": [],
   "source": [
    "pt=PowerTransformer(method='yeo-johnson')"
   ]
  },
  {
   "cell_type": "code",
   "execution_count": 46,
   "id": "3f8bb2af",
   "metadata": {},
   "outputs": [],
   "source": [
    "x_scaled=pd.DataFrame(pt.fit_transform(x),columns=x.columns)"
   ]
  },
  {
   "cell_type": "code",
   "execution_count": 47,
   "id": "7b76fce8",
   "metadata": {},
   "outputs": [],
   "source": [
    "from statsmodels.stats.outliers_influence import variance_inflation_factor"
   ]
  },
  {
   "cell_type": "code",
   "execution_count": 48,
   "id": "23b3dba3",
   "metadata": {},
   "outputs": [],
   "source": [
    "vif=pd.DataFrame()"
   ]
  },
  {
   "cell_type": "code",
   "execution_count": 49,
   "id": "ab242142",
   "metadata": {},
   "outputs": [],
   "source": [
    "vif['features']=x_scaled.columns"
   ]
  },
  {
   "cell_type": "code",
   "execution_count": 50,
   "id": "94e28758",
   "metadata": {},
   "outputs": [],
   "source": [
    "vif['scores']=[variance_inflation_factor(x_scaled,i) for i in range(x_scaled.shape[1])]"
   ]
  },
  {
   "cell_type": "code",
   "execution_count": 51,
   "id": "0708d081",
   "metadata": {},
   "outputs": [
    {
     "data": {
      "text/html": [
       "<div>\n",
       "<style scoped>\n",
       "    .dataframe tbody tr th:only-of-type {\n",
       "        vertical-align: middle;\n",
       "    }\n",
       "\n",
       "    .dataframe tbody tr th {\n",
       "        vertical-align: top;\n",
       "    }\n",
       "\n",
       "    .dataframe thead th {\n",
       "        text-align: right;\n",
       "    }\n",
       "</style>\n",
       "<table border=\"1\" class=\"dataframe\">\n",
       "  <thead>\n",
       "    <tr style=\"text-align: right;\">\n",
       "      <th></th>\n",
       "      <th>features</th>\n",
       "      <th>scores</th>\n",
       "    </tr>\n",
       "  </thead>\n",
       "  <tbody>\n",
       "    <tr>\n",
       "      <th>0</th>\n",
       "      <td>RI</td>\n",
       "      <td>4.546371</td>\n",
       "    </tr>\n",
       "    <tr>\n",
       "      <th>1</th>\n",
       "      <td>Na</td>\n",
       "      <td>6.036163</td>\n",
       "    </tr>\n",
       "    <tr>\n",
       "      <th>2</th>\n",
       "      <td>Mg</td>\n",
       "      <td>10.897720</td>\n",
       "    </tr>\n",
       "    <tr>\n",
       "      <th>3</th>\n",
       "      <td>Al</td>\n",
       "      <td>3.311999</td>\n",
       "    </tr>\n",
       "    <tr>\n",
       "      <th>4</th>\n",
       "      <td>Si</td>\n",
       "      <td>3.686305</td>\n",
       "    </tr>\n",
       "    <tr>\n",
       "      <th>5</th>\n",
       "      <td>K</td>\n",
       "      <td>4.952505</td>\n",
       "    </tr>\n",
       "    <tr>\n",
       "      <th>6</th>\n",
       "      <td>Ca</td>\n",
       "      <td>9.082007</td>\n",
       "    </tr>\n",
       "    <tr>\n",
       "      <th>7</th>\n",
       "      <td>Ba</td>\n",
       "      <td>2.669646</td>\n",
       "    </tr>\n",
       "    <tr>\n",
       "      <th>8</th>\n",
       "      <td>Fe</td>\n",
       "      <td>1.053058</td>\n",
       "    </tr>\n",
       "  </tbody>\n",
       "</table>\n",
       "</div>"
      ],
      "text/plain": [
       "  features     scores\n",
       "0       RI   4.546371\n",
       "1       Na   6.036163\n",
       "2       Mg  10.897720\n",
       "3       Al   3.311999\n",
       "4       Si   3.686305\n",
       "5        K   4.952505\n",
       "6       Ca   9.082007\n",
       "7       Ba   2.669646\n",
       "8       Fe   1.053058"
      ]
     },
     "execution_count": 51,
     "metadata": {},
     "output_type": "execute_result"
    }
   ],
   "source": [
    "vif"
   ]
  },
  {
   "cell_type": "markdown",
   "id": "74270e60",
   "metadata": {},
   "source": [
    "#### IT CAN BE OBSERVED THAT FEATURES <BR>\n",
    "NA<BR>\n",
    "MAGNESIUM<BR>\n",
    "CALCIUM<BR>\n",
    "    HAVE SCORES > 5 WHICH MEANS THEY ARE AT CRITICAL represent critical levels of multicollinearity where the coefficients are poorly estimated, and the p-values are questionable"
   ]
  },
  {
   "cell_type": "markdown",
   "id": "9de9105a",
   "metadata": {},
   "source": [
    "WE WILL DROP CALCIUM AND AGAIN CHECK THE VIF SCORES"
   ]
  },
  {
   "cell_type": "code",
   "execution_count": 52,
   "id": "87844ada",
   "metadata": {},
   "outputs": [],
   "source": [
    "x_scaled.drop(['Ca'],axis=1,inplace=True)"
   ]
  },
  {
   "cell_type": "code",
   "execution_count": 53,
   "id": "15280091",
   "metadata": {},
   "outputs": [],
   "source": [
    "vif=pd.DataFrame()"
   ]
  },
  {
   "cell_type": "code",
   "execution_count": 54,
   "id": "9f747bef",
   "metadata": {},
   "outputs": [],
   "source": [
    "vif['features']=x_scaled.columns"
   ]
  },
  {
   "cell_type": "code",
   "execution_count": 55,
   "id": "55f556a3",
   "metadata": {},
   "outputs": [],
   "source": [
    "vif['scores']=[variance_inflation_factor(x_scaled,i) for i in range(x_scaled.shape[1])]"
   ]
  },
  {
   "cell_type": "code",
   "execution_count": 56,
   "id": "bfe46375",
   "metadata": {},
   "outputs": [
    {
     "data": {
      "text/html": [
       "<div>\n",
       "<style scoped>\n",
       "    .dataframe tbody tr th:only-of-type {\n",
       "        vertical-align: middle;\n",
       "    }\n",
       "\n",
       "    .dataframe tbody tr th {\n",
       "        vertical-align: top;\n",
       "    }\n",
       "\n",
       "    .dataframe thead th {\n",
       "        text-align: right;\n",
       "    }\n",
       "</style>\n",
       "<table border=\"1\" class=\"dataframe\">\n",
       "  <thead>\n",
       "    <tr style=\"text-align: right;\">\n",
       "      <th></th>\n",
       "      <th>features</th>\n",
       "      <th>scores</th>\n",
       "    </tr>\n",
       "  </thead>\n",
       "  <tbody>\n",
       "    <tr>\n",
       "      <th>0</th>\n",
       "      <td>RI</td>\n",
       "      <td>4.155582</td>\n",
       "    </tr>\n",
       "    <tr>\n",
       "      <th>1</th>\n",
       "      <td>Na</td>\n",
       "      <td>2.444382</td>\n",
       "    </tr>\n",
       "    <tr>\n",
       "      <th>2</th>\n",
       "      <td>Mg</td>\n",
       "      <td>2.547374</td>\n",
       "    </tr>\n",
       "    <tr>\n",
       "      <th>3</th>\n",
       "      <td>Al</td>\n",
       "      <td>2.139227</td>\n",
       "    </tr>\n",
       "    <tr>\n",
       "      <th>4</th>\n",
       "      <td>Si</td>\n",
       "      <td>1.582030</td>\n",
       "    </tr>\n",
       "    <tr>\n",
       "      <th>5</th>\n",
       "      <td>K</td>\n",
       "      <td>2.191648</td>\n",
       "    </tr>\n",
       "    <tr>\n",
       "      <th>6</th>\n",
       "      <td>Ba</td>\n",
       "      <td>2.136732</td>\n",
       "    </tr>\n",
       "    <tr>\n",
       "      <th>7</th>\n",
       "      <td>Fe</td>\n",
       "      <td>1.048883</td>\n",
       "    </tr>\n",
       "  </tbody>\n",
       "</table>\n",
       "</div>"
      ],
      "text/plain": [
       "  features    scores\n",
       "0       RI  4.155582\n",
       "1       Na  2.444382\n",
       "2       Mg  2.547374\n",
       "3       Al  2.139227\n",
       "4       Si  1.582030\n",
       "5        K  2.191648\n",
       "6       Ba  2.136732\n",
       "7       Fe  1.048883"
      ]
     },
     "execution_count": 56,
     "metadata": {},
     "output_type": "execute_result"
    }
   ],
   "source": [
    "vif"
   ]
  },
  {
   "cell_type": "markdown",
   "id": "454c9fd9",
   "metadata": {},
   "source": [
    "HENCE ALL THE VIF SCORES are less than 5 means we are out of danger of multi collinearity issue in our features"
   ]
  },
  {
   "cell_type": "code",
   "execution_count": 57,
   "id": "edfab44a",
   "metadata": {},
   "outputs": [
    {
     "data": {
      "text/plain": [
       "1    154\n",
       "0     40\n",
       "Name: category, dtype: int64"
      ]
     },
     "execution_count": 57,
     "metadata": {},
     "output_type": "execute_result"
    }
   ],
   "source": [
    "y.value_counts()"
   ]
  },
  {
   "cell_type": "markdown",
   "id": "c76bd8ea",
   "metadata": {},
   "source": [
    "ITS VERY CLEAR THAT OUR DATA SET IS HIGHLY IMBALANCED AND WE HAVE TO USE SMOTE TO MAKE IT BALANCED FOR FURTHER PROCESSING"
   ]
  },
  {
   "cell_type": "code",
   "execution_count": 58,
   "id": "17fdbe7b",
   "metadata": {},
   "outputs": [],
   "source": [
    "from imblearn.over_sampling import SMOTE"
   ]
  },
  {
   "cell_type": "code",
   "execution_count": 59,
   "id": "8d1ed832",
   "metadata": {},
   "outputs": [],
   "source": [
    "sm=SMOTE(0.75)"
   ]
  },
  {
   "cell_type": "code",
   "execution_count": 60,
   "id": "4db73fda",
   "metadata": {},
   "outputs": [],
   "source": [
    "x_n,y_n=sm.fit_resample(x_scaled,y)"
   ]
  },
  {
   "cell_type": "code",
   "execution_count": 61,
   "id": "16c092ea",
   "metadata": {},
   "outputs": [],
   "source": [
    "x_new=pd.DataFrame(x_n)"
   ]
  },
  {
   "cell_type": "code",
   "execution_count": 62,
   "id": "0de95ec6",
   "metadata": {},
   "outputs": [],
   "source": [
    "df=pd.concat([x_new,y_n],axis=1)"
   ]
  },
  {
   "cell_type": "code",
   "execution_count": 63,
   "id": "f273fca0",
   "metadata": {},
   "outputs": [
    {
     "data": {
      "text/html": [
       "<div>\n",
       "<style scoped>\n",
       "    .dataframe tbody tr th:only-of-type {\n",
       "        vertical-align: middle;\n",
       "    }\n",
       "\n",
       "    .dataframe tbody tr th {\n",
       "        vertical-align: top;\n",
       "    }\n",
       "\n",
       "    .dataframe thead th {\n",
       "        text-align: right;\n",
       "    }\n",
       "</style>\n",
       "<table border=\"1\" class=\"dataframe\">\n",
       "  <thead>\n",
       "    <tr style=\"text-align: right;\">\n",
       "      <th></th>\n",
       "      <th>RI</th>\n",
       "      <th>Na</th>\n",
       "      <th>Mg</th>\n",
       "      <th>Al</th>\n",
       "      <th>Si</th>\n",
       "      <th>K</th>\n",
       "      <th>Ba</th>\n",
       "      <th>Fe</th>\n",
       "      <th>category</th>\n",
       "    </tr>\n",
       "  </thead>\n",
       "  <tbody>\n",
       "    <tr>\n",
       "      <th>0</th>\n",
       "      <td>3.469447e-17</td>\n",
       "      <td>0.375145</td>\n",
       "      <td>2.295067</td>\n",
       "      <td>-0.705895</td>\n",
       "      <td>-1.551856</td>\n",
       "      <td>-1.348170</td>\n",
       "      <td>-0.429499</td>\n",
       "      <td>-0.677737</td>\n",
       "      <td>1</td>\n",
       "    </tr>\n",
       "    <tr>\n",
       "      <th>1</th>\n",
       "      <td>-3.469447e-18</td>\n",
       "      <td>0.732539</td>\n",
       "      <td>0.587338</td>\n",
       "      <td>-0.073256</td>\n",
       "      <td>-0.037058</td>\n",
       "      <td>0.204416</td>\n",
       "      <td>-0.429499</td>\n",
       "      <td>-0.677737</td>\n",
       "      <td>1</td>\n",
       "    </tr>\n",
       "    <tr>\n",
       "      <th>2</th>\n",
       "      <td>-2.081668e-17</td>\n",
       "      <td>0.214038</td>\n",
       "      <td>0.507711</td>\n",
       "      <td>0.333353</td>\n",
       "      <td>0.425596</td>\n",
       "      <td>-0.114085</td>\n",
       "      <td>-0.429499</td>\n",
       "      <td>-0.677737</td>\n",
       "      <td>1</td>\n",
       "    </tr>\n",
       "    <tr>\n",
       "      <th>3</th>\n",
       "      <td>-3.469447e-18</td>\n",
       "      <td>-0.268665</td>\n",
       "      <td>0.734829</td>\n",
       "      <td>-0.237973</td>\n",
       "      <td>-0.243294</td>\n",
       "      <td>0.516387</td>\n",
       "      <td>-0.429499</td>\n",
       "      <td>-0.677737</td>\n",
       "      <td>1</td>\n",
       "    </tr>\n",
       "    <tr>\n",
       "      <th>4</th>\n",
       "      <td>-6.938894e-18</td>\n",
       "      <td>-0.176527</td>\n",
       "      <td>0.619650</td>\n",
       "      <td>-0.358065</td>\n",
       "      <td>0.590922</td>\n",
       "      <td>0.447598</td>\n",
       "      <td>-0.429499</td>\n",
       "      <td>-0.677737</td>\n",
       "      <td>1</td>\n",
       "    </tr>\n",
       "  </tbody>\n",
       "</table>\n",
       "</div>"
      ],
      "text/plain": [
       "             RI        Na        Mg        Al        Si         K        Ba  \\\n",
       "0  3.469447e-17  0.375145  2.295067 -0.705895 -1.551856 -1.348170 -0.429499   \n",
       "1 -3.469447e-18  0.732539  0.587338 -0.073256 -0.037058  0.204416 -0.429499   \n",
       "2 -2.081668e-17  0.214038  0.507711  0.333353  0.425596 -0.114085 -0.429499   \n",
       "3 -3.469447e-18 -0.268665  0.734829 -0.237973 -0.243294  0.516387 -0.429499   \n",
       "4 -6.938894e-18 -0.176527  0.619650 -0.358065  0.590922  0.447598 -0.429499   \n",
       "\n",
       "         Fe  category  \n",
       "0 -0.677737         1  \n",
       "1 -0.677737         1  \n",
       "2 -0.677737         1  \n",
       "3 -0.677737         1  \n",
       "4 -0.677737         1  "
      ]
     },
     "execution_count": 63,
     "metadata": {},
     "output_type": "execute_result"
    }
   ],
   "source": [
    "df.head()"
   ]
  },
  {
   "cell_type": "code",
   "execution_count": 64,
   "id": "086f0b09",
   "metadata": {},
   "outputs": [
    {
     "data": {
      "text/plain": [
       "1    154\n",
       "0    115\n",
       "Name: category, dtype: int64"
      ]
     },
     "execution_count": 64,
     "metadata": {},
     "output_type": "execute_result"
    }
   ],
   "source": [
    "df['category'].value_counts()"
   ]
  },
  {
   "cell_type": "markdown",
   "id": "5c4d0222",
   "metadata": {},
   "source": [
    "ITS LOOKS BALANCED NOW SO WE CAN PROCEED WITHOUT WORRYING ABOUT THE BIASING DUE TO IMBALANCE DATASET"
   ]
  },
  {
   "cell_type": "code",
   "execution_count": 65,
   "id": "ab54d20e",
   "metadata": {},
   "outputs": [],
   "source": [
    "x_scaled=df.drop(['category'],axis=1)"
   ]
  },
  {
   "cell_type": "code",
   "execution_count": 66,
   "id": "63345d80",
   "metadata": {},
   "outputs": [],
   "source": [
    "y=df['category']"
   ]
  },
  {
   "cell_type": "markdown",
   "id": "c6d46675",
   "metadata": {},
   "source": [
    "----------------------------------------------------------------------------------------------------------------\n"
   ]
  },
  {
   "cell_type": "markdown",
   "id": "b739c460",
   "metadata": {},
   "source": [
    "SPLIITING DATASET INTO TRAIN AND TEST USING TRAIN_TEST_split"
   ]
  },
  {
   "cell_type": "code",
   "execution_count": 67,
   "id": "d3997099",
   "metadata": {},
   "outputs": [],
   "source": [
    "from sklearn.linear_model import LogisticRegression\n",
    "\n",
    "from sklearn.model_selection import train_test_split,cross_val_score\n",
    "\n",
    "from sklearn.metrics import accuracy_score,confusion_matrix,classification_report\n",
    "\n",
    "from sklearn.metrics import plot_roc_curve,roc_auc_score,roc_curve"
   ]
  },
  {
   "cell_type": "markdown",
   "id": "103d44b5",
   "metadata": {},
   "source": [
    "LOGISTIC REGRESSION\n",
    "----------------------------------"
   ]
  },
  {
   "cell_type": "code",
   "execution_count": 68,
   "id": "87a4c952",
   "metadata": {},
   "outputs": [
    {
     "name": "stdout",
     "output_type": "stream",
     "text": [
      "\n",
      "\n",
      "AT RANDOM STATE-- 0\n",
      "\n",
      "\n",
      "TRAINING ACCURACY IS -98.14  --AND TESTING ACCURACY IS 98.15\n",
      "\n",
      "\n",
      "AT RANDOM STATE-- 8\n",
      "\n",
      "\n",
      "TRAINING ACCURACY IS -98.14  --AND TESTING ACCURACY IS 98.15\n",
      "\n",
      "\n",
      "AT RANDOM STATE-- 33\n",
      "\n",
      "\n",
      "TRAINING ACCURACY IS -98.14  --AND TESTING ACCURACY IS 98.15\n",
      "\n",
      "\n",
      "AT RANDOM STATE-- 35\n",
      "\n",
      "\n",
      "TRAINING ACCURACY IS -98.14  --AND TESTING ACCURACY IS 98.15\n",
      "\n",
      "\n",
      "AT RANDOM STATE-- 43\n",
      "\n",
      "\n",
      "TRAINING ACCURACY IS -98.14  --AND TESTING ACCURACY IS 98.15\n",
      "\n",
      "\n",
      "AT RANDOM STATE-- 51\n",
      "\n",
      "\n",
      "TRAINING ACCURACY IS -98.14  --AND TESTING ACCURACY IS 98.15\n",
      "\n",
      "\n",
      "AT RANDOM STATE-- 56\n",
      "\n",
      "\n",
      "TRAINING ACCURACY IS -98.14  --AND TESTING ACCURACY IS 98.15\n",
      "\n",
      "\n",
      "AT RANDOM STATE-- 58\n",
      "\n",
      "\n",
      "TRAINING ACCURACY IS -98.14  --AND TESTING ACCURACY IS 98.15\n",
      "\n",
      "\n",
      "AT RANDOM STATE-- 60\n",
      "\n",
      "\n",
      "TRAINING ACCURACY IS -98.14  --AND TESTING ACCURACY IS 98.15\n",
      "\n",
      "\n",
      "AT RANDOM STATE-- 75\n",
      "\n",
      "\n",
      "TRAINING ACCURACY IS -98.14  --AND TESTING ACCURACY IS 98.15\n",
      "\n",
      "\n",
      "AT RANDOM STATE-- 85\n",
      "\n",
      "\n",
      "TRAINING ACCURACY IS -98.14  --AND TESTING ACCURACY IS 98.15\n",
      "\n",
      "\n",
      "AT RANDOM STATE-- 89\n",
      "\n",
      "\n",
      "TRAINING ACCURACY IS -98.14  --AND TESTING ACCURACY IS 98.15\n",
      "\n",
      "\n",
      "AT RANDOM STATE-- 92\n",
      "\n",
      "\n",
      "TRAINING ACCURACY IS -98.14  --AND TESTING ACCURACY IS 98.15\n",
      "\n",
      "\n",
      "AT RANDOM STATE-- 101\n",
      "\n",
      "\n",
      "TRAINING ACCURACY IS -98.14  --AND TESTING ACCURACY IS 98.15\n",
      "\n",
      "\n",
      "AT RANDOM STATE-- 102\n",
      "\n",
      "\n",
      "TRAINING ACCURACY IS -98.14  --AND TESTING ACCURACY IS 98.15\n",
      "\n",
      "\n",
      "AT RANDOM STATE-- 103\n",
      "\n",
      "\n",
      "TRAINING ACCURACY IS -98.14  --AND TESTING ACCURACY IS 98.15\n",
      "\n",
      "\n",
      "AT RANDOM STATE-- 125\n",
      "\n",
      "\n",
      "TRAINING ACCURACY IS -98.14  --AND TESTING ACCURACY IS 98.15\n",
      "\n",
      "\n",
      "AT RANDOM STATE-- 191\n",
      "\n",
      "\n",
      "TRAINING ACCURACY IS -98.14  --AND TESTING ACCURACY IS 98.15\n",
      "\n",
      "\n",
      "AT RANDOM STATE-- 203\n",
      "\n",
      "\n",
      "TRAINING ACCURACY IS -98.14  --AND TESTING ACCURACY IS 98.15\n",
      "\n",
      "\n",
      "AT RANDOM STATE-- 206\n",
      "\n",
      "\n",
      "TRAINING ACCURACY IS -98.14  --AND TESTING ACCURACY IS 98.15\n",
      "\n",
      "\n",
      "AT RANDOM STATE-- 221\n",
      "\n",
      "\n",
      "TRAINING ACCURACY IS -98.14  --AND TESTING ACCURACY IS 98.15\n",
      "\n",
      "\n",
      "AT RANDOM STATE-- 235\n",
      "\n",
      "\n",
      "TRAINING ACCURACY IS -98.14  --AND TESTING ACCURACY IS 98.15\n",
      "\n",
      "\n",
      "AT RANDOM STATE-- 236\n",
      "\n",
      "\n",
      "TRAINING ACCURACY IS -98.14  --AND TESTING ACCURACY IS 98.15\n",
      "\n",
      "\n",
      "AT RANDOM STATE-- 244\n",
      "\n",
      "\n",
      "TRAINING ACCURACY IS -98.14  --AND TESTING ACCURACY IS 98.15\n",
      "\n",
      "\n",
      "AT RANDOM STATE-- 250\n",
      "\n",
      "\n",
      "TRAINING ACCURACY IS -98.14  --AND TESTING ACCURACY IS 98.15\n",
      "\n",
      "\n",
      "AT RANDOM STATE-- 251\n",
      "\n",
      "\n",
      "TRAINING ACCURACY IS -98.14  --AND TESTING ACCURACY IS 98.15\n",
      "\n",
      "\n",
      "AT RANDOM STATE-- 268\n",
      "\n",
      "\n",
      "TRAINING ACCURACY IS -98.14  --AND TESTING ACCURACY IS 98.15\n",
      "\n",
      "\n",
      "AT RANDOM STATE-- 269\n",
      "\n",
      "\n",
      "TRAINING ACCURACY IS -98.14  --AND TESTING ACCURACY IS 98.15\n",
      "\n",
      "\n",
      "AT RANDOM STATE-- 278\n",
      "\n",
      "\n",
      "TRAINING ACCURACY IS -98.14  --AND TESTING ACCURACY IS 98.15\n",
      "\n",
      "\n",
      "AT RANDOM STATE-- 282\n",
      "\n",
      "\n",
      "TRAINING ACCURACY IS -98.14  --AND TESTING ACCURACY IS 98.15\n",
      "\n",
      "\n",
      "AT RANDOM STATE-- 295\n",
      "\n",
      "\n",
      "TRAINING ACCURACY IS -98.14  --AND TESTING ACCURACY IS 98.15\n",
      "\n",
      "\n",
      "AT RANDOM STATE-- 304\n",
      "\n",
      "\n",
      "TRAINING ACCURACY IS -98.14  --AND TESTING ACCURACY IS 98.15\n",
      "\n",
      "\n",
      "AT RANDOM STATE-- 308\n",
      "\n",
      "\n",
      "TRAINING ACCURACY IS -98.14  --AND TESTING ACCURACY IS 98.15\n",
      "\n",
      "\n",
      "AT RANDOM STATE-- 323\n",
      "\n",
      "\n",
      "TRAINING ACCURACY IS -98.14  --AND TESTING ACCURACY IS 98.15\n",
      "\n",
      "\n",
      "AT RANDOM STATE-- 329\n",
      "\n",
      "\n",
      "TRAINING ACCURACY IS -98.14  --AND TESTING ACCURACY IS 98.15\n",
      "\n",
      "\n",
      "AT RANDOM STATE-- 333\n",
      "\n",
      "\n",
      "TRAINING ACCURACY IS -98.14  --AND TESTING ACCURACY IS 98.15\n",
      "\n",
      "\n",
      "AT RANDOM STATE-- 339\n",
      "\n",
      "\n",
      "TRAINING ACCURACY IS -98.14  --AND TESTING ACCURACY IS 98.15\n",
      "\n",
      "\n",
      "AT RANDOM STATE-- 427\n",
      "\n",
      "\n",
      "TRAINING ACCURACY IS -98.14  --AND TESTING ACCURACY IS 98.15\n",
      "\n",
      "\n",
      "AT RANDOM STATE-- 433\n",
      "\n",
      "\n",
      "TRAINING ACCURACY IS -98.14  --AND TESTING ACCURACY IS 98.15\n",
      "\n",
      "\n",
      "AT RANDOM STATE-- 455\n",
      "\n",
      "\n",
      "TRAINING ACCURACY IS -98.14  --AND TESTING ACCURACY IS 98.15\n",
      "\n",
      "\n",
      "AT RANDOM STATE-- 467\n",
      "\n",
      "\n",
      "TRAINING ACCURACY IS -98.14  --AND TESTING ACCURACY IS 98.15\n",
      "\n",
      "\n",
      "AT RANDOM STATE-- 475\n",
      "\n",
      "\n",
      "TRAINING ACCURACY IS -98.14  --AND TESTING ACCURACY IS 98.15\n",
      "\n",
      "\n",
      "AT RANDOM STATE-- 485\n",
      "\n",
      "\n",
      "TRAINING ACCURACY IS -98.14  --AND TESTING ACCURACY IS 98.15\n",
      "\n",
      "\n",
      "AT RANDOM STATE-- 487\n",
      "\n",
      "\n",
      "TRAINING ACCURACY IS -98.14  --AND TESTING ACCURACY IS 98.15\n",
      "\n",
      "\n",
      "AT RANDOM STATE-- 497\n",
      "\n",
      "\n",
      "TRAINING ACCURACY IS -98.14  --AND TESTING ACCURACY IS 98.15\n",
      "\n",
      "\n",
      "AT RANDOM STATE-- 515\n",
      "\n",
      "\n",
      "TRAINING ACCURACY IS -98.14  --AND TESTING ACCURACY IS 98.15\n",
      "\n",
      "\n",
      "AT RANDOM STATE-- 518\n",
      "\n",
      "\n",
      "TRAINING ACCURACY IS -98.14  --AND TESTING ACCURACY IS 98.15\n",
      "\n",
      "\n",
      "AT RANDOM STATE-- 525\n",
      "\n",
      "\n",
      "TRAINING ACCURACY IS -98.14  --AND TESTING ACCURACY IS 98.15\n",
      "\n",
      "\n",
      "AT RANDOM STATE-- 530\n",
      "\n",
      "\n",
      "TRAINING ACCURACY IS -98.14  --AND TESTING ACCURACY IS 98.15\n",
      "\n",
      "\n",
      "AT RANDOM STATE-- 535\n",
      "\n",
      "\n",
      "TRAINING ACCURACY IS -98.14  --AND TESTING ACCURACY IS 98.15\n",
      "\n",
      "\n",
      "AT RANDOM STATE-- 550\n",
      "\n",
      "\n",
      "TRAINING ACCURACY IS -98.14  --AND TESTING ACCURACY IS 98.15\n",
      "\n",
      "\n",
      "AT RANDOM STATE-- 562\n",
      "\n",
      "\n",
      "TRAINING ACCURACY IS -98.14  --AND TESTING ACCURACY IS 98.15\n",
      "\n",
      "\n",
      "AT RANDOM STATE-- 564\n",
      "\n",
      "\n",
      "TRAINING ACCURACY IS -98.14  --AND TESTING ACCURACY IS 98.15\n",
      "\n",
      "\n",
      "AT RANDOM STATE-- 572\n",
      "\n",
      "\n",
      "TRAINING ACCURACY IS -98.14  --AND TESTING ACCURACY IS 98.15\n",
      "\n",
      "\n",
      "AT RANDOM STATE-- 596\n",
      "\n",
      "\n",
      "TRAINING ACCURACY IS -98.14  --AND TESTING ACCURACY IS 98.15\n",
      "\n",
      "\n",
      "AT RANDOM STATE-- 625\n",
      "\n",
      "\n",
      "TRAINING ACCURACY IS -98.14  --AND TESTING ACCURACY IS 98.15\n",
      "\n",
      "\n",
      "AT RANDOM STATE-- 633\n",
      "\n",
      "\n",
      "TRAINING ACCURACY IS -98.14  --AND TESTING ACCURACY IS 98.15\n",
      "\n",
      "\n",
      "AT RANDOM STATE-- 647\n",
      "\n",
      "\n",
      "TRAINING ACCURACY IS -98.14  --AND TESTING ACCURACY IS 98.15\n",
      "\n",
      "\n",
      "AT RANDOM STATE-- 669\n",
      "\n",
      "\n",
      "TRAINING ACCURACY IS -98.14  --AND TESTING ACCURACY IS 98.15\n",
      "\n",
      "\n",
      "AT RANDOM STATE-- 670\n",
      "\n",
      "\n",
      "TRAINING ACCURACY IS -98.14  --AND TESTING ACCURACY IS 98.15\n",
      "\n",
      "\n",
      "AT RANDOM STATE-- 692\n",
      "\n",
      "\n",
      "TRAINING ACCURACY IS -98.14  --AND TESTING ACCURACY IS 98.15\n",
      "\n",
      "\n",
      "AT RANDOM STATE-- 695\n",
      "\n",
      "\n",
      "TRAINING ACCURACY IS -98.14  --AND TESTING ACCURACY IS 98.15\n",
      "\n",
      "\n",
      "AT RANDOM STATE-- 696\n",
      "\n",
      "\n",
      "TRAINING ACCURACY IS -98.14  --AND TESTING ACCURACY IS 98.15\n",
      "\n",
      "\n",
      "AT RANDOM STATE-- 700\n",
      "\n",
      "\n",
      "TRAINING ACCURACY IS -98.14  --AND TESTING ACCURACY IS 98.15\n",
      "\n",
      "\n",
      "AT RANDOM STATE-- 718\n",
      "\n",
      "\n",
      "TRAINING ACCURACY IS -98.14  --AND TESTING ACCURACY IS 98.15\n",
      "\n",
      "\n",
      "AT RANDOM STATE-- 725\n",
      "\n",
      "\n",
      "TRAINING ACCURACY IS -98.14  --AND TESTING ACCURACY IS 98.15\n",
      "\n",
      "\n",
      "AT RANDOM STATE-- 735\n",
      "\n",
      "\n",
      "TRAINING ACCURACY IS -98.14  --AND TESTING ACCURACY IS 98.15\n",
      "\n",
      "\n",
      "AT RANDOM STATE-- 758\n",
      "\n",
      "\n",
      "TRAINING ACCURACY IS -98.14  --AND TESTING ACCURACY IS 98.15\n",
      "\n",
      "\n",
      "AT RANDOM STATE-- 775\n",
      "\n",
      "\n",
      "TRAINING ACCURACY IS -98.14  --AND TESTING ACCURACY IS 98.15\n",
      "\n",
      "\n",
      "AT RANDOM STATE-- 817\n",
      "\n",
      "\n",
      "TRAINING ACCURACY IS -98.14  --AND TESTING ACCURACY IS 98.15\n",
      "\n",
      "\n",
      "AT RANDOM STATE-- 822\n",
      "\n",
      "\n",
      "TRAINING ACCURACY IS -98.14  --AND TESTING ACCURACY IS 98.15\n",
      "\n",
      "\n",
      "AT RANDOM STATE-- 832\n",
      "\n",
      "\n",
      "TRAINING ACCURACY IS -98.14  --AND TESTING ACCURACY IS 98.15\n",
      "\n",
      "\n",
      "AT RANDOM STATE-- 843\n",
      "\n",
      "\n",
      "TRAINING ACCURACY IS -98.14  --AND TESTING ACCURACY IS 98.15\n",
      "\n",
      "\n",
      "AT RANDOM STATE-- 849\n",
      "\n",
      "\n",
      "TRAINING ACCURACY IS -98.14  --AND TESTING ACCURACY IS 98.15\n",
      "\n",
      "\n",
      "AT RANDOM STATE-- 855\n",
      "\n",
      "\n",
      "TRAINING ACCURACY IS -98.14  --AND TESTING ACCURACY IS 98.15\n",
      "\n",
      "\n",
      "AT RANDOM STATE-- 892\n",
      "\n",
      "\n",
      "TRAINING ACCURACY IS -98.14  --AND TESTING ACCURACY IS 98.15\n",
      "\n",
      "\n",
      "AT RANDOM STATE-- 905\n",
      "\n",
      "\n",
      "TRAINING ACCURACY IS -98.14  --AND TESTING ACCURACY IS 98.15\n",
      "\n",
      "\n",
      "AT RANDOM STATE-- 921\n",
      "\n",
      "\n",
      "TRAINING ACCURACY IS -98.14  --AND TESTING ACCURACY IS 98.15\n",
      "\n",
      "\n",
      "AT RANDOM STATE-- 993\n",
      "\n",
      "\n",
      "TRAINING ACCURACY IS -98.14  --AND TESTING ACCURACY IS 98.15\n"
     ]
    }
   ],
   "source": [
    "for i in range (0,1000):\n",
    "    x_train,x_test,y_train,y_test=train_test_split(x_scaled,y,test_size=0.20,random_state=i)\n",
    "    lr=LogisticRegression()\n",
    "    lr.fit(x_train,y_train)\n",
    "    lr_train_pred=lr.predict(x_train)\n",
    "    lr_test_pred=lr.predict(x_test)\n",
    "    lr_train_accuracy=accuracy_score(y_train,lr_train_pred)\n",
    "    lr_test_accuracy=accuracy_score(y_test,lr_test_pred)\n",
    "    if(round(lr_train_accuracy*100,1)==round(lr_test_accuracy*100,1)):\n",
    "        print('\\n\\nAT RANDOM STATE--',i)\n",
    "        print(f'\\n\\nTRAINING ACCURACY IS -{round((lr_train_accuracy)*100,2)}  --AND TESTING ACCURACY IS {round((lr_test_accuracy)*100,2)}')\n",
    "        "
   ]
  },
  {
   "cell_type": "markdown",
   "id": "240841de",
   "metadata": {},
   "source": [
    "SINCE ITS GIVING SAME VALUE for all random states we can take any taking random state as 283"
   ]
  },
  {
   "cell_type": "code",
   "execution_count": 69,
   "id": "7472cfd4",
   "metadata": {},
   "outputs": [],
   "source": [
    "x_train,x_test,y_train,y_test=train_test_split(x_scaled,y,test_size=0.20,random_state=352)"
   ]
  },
  {
   "cell_type": "code",
   "execution_count": 70,
   "id": "7e8e924f",
   "metadata": {},
   "outputs": [],
   "source": [
    "def score(mod,x_train,x_test,y_train,y_test,train):\n",
    "    if (train==True):\n",
    "        mod.fit(x_train,y_train)\n",
    "        y_pred=mod.predict(x_train)\n",
    "        accuracy=accuracy_score(y_train,y_pred)\n",
    "        print(f\"\\n\\nTraining SCORE FOR THE {mod} is {round(accuracy*100,2)}\")\n",
    "        print('\\n\\nCONFUSION MATRIX FOR THE TRAINIG')\n",
    "        print('\\n\\n',confusion_matrix(y_train,y_pred))\n",
    "        print('\\n\\nCLASSIFICATION REPORT for training --')\n",
    "        print('\\n\\n',classification_report(y_train,y_pred))\n",
    "        \n",
    "    elif(train==False):\n",
    "        mod.fit(x_train,y_train)\n",
    "        y_pred=mod.predict(x_test)\n",
    "        accuracy=accuracy_score(y_test,y_pred)\n",
    "        print(f\"\\n\\nTesting SCORE FOR THE {mod} is {round(accuracy*100,2)}\")\n",
    "        print('\\n\\nCONFUSION MATRIX FOR THE TESTING')\n",
    "        print('\\n\\n',confusion_matrix(y_test,y_pred))\n",
    "        print('\\n\\nCLASSIFICATION REPORT for testing --')\n",
    "        print('\\n\\n',classification_report(y_test,y_pred))\n",
    "      "
   ]
  },
  {
   "cell_type": "code",
   "execution_count": 71,
   "id": "e58107f6",
   "metadata": {},
   "outputs": [],
   "source": [
    "lr=LogisticRegression()"
   ]
  },
  {
   "cell_type": "code",
   "execution_count": 72,
   "id": "00c0e7e6",
   "metadata": {},
   "outputs": [
    {
     "name": "stdout",
     "output_type": "stream",
     "text": [
      "\n",
      "\n",
      "Training SCORE FOR THE LogisticRegression() is 97.21\n",
      "\n",
      "\n",
      "CONFUSION MATRIX FOR THE TRAINIG\n",
      "\n",
      "\n",
      " [[ 91   3]\n",
      " [  3 118]]\n",
      "\n",
      "\n",
      "CLASSIFICATION REPORT for training --\n",
      "\n",
      "\n",
      "               precision    recall  f1-score   support\n",
      "\n",
      "           0       0.97      0.97      0.97        94\n",
      "           1       0.98      0.98      0.98       121\n",
      "\n",
      "    accuracy                           0.97       215\n",
      "   macro avg       0.97      0.97      0.97       215\n",
      "weighted avg       0.97      0.97      0.97       215\n",
      "\n",
      "\n",
      "\n",
      "Testing SCORE FOR THE LogisticRegression() is 98.15\n",
      "\n",
      "\n",
      "CONFUSION MATRIX FOR THE TESTING\n",
      "\n",
      "\n",
      " [[21  0]\n",
      " [ 1 32]]\n",
      "\n",
      "\n",
      "CLASSIFICATION REPORT for testing --\n",
      "\n",
      "\n",
      "               precision    recall  f1-score   support\n",
      "\n",
      "           0       0.95      1.00      0.98        21\n",
      "           1       1.00      0.97      0.98        33\n",
      "\n",
      "    accuracy                           0.98        54\n",
      "   macro avg       0.98      0.98      0.98        54\n",
      "weighted avg       0.98      0.98      0.98        54\n",
      "\n"
     ]
    }
   ],
   "source": [
    "score(lr,x_train,x_test,y_train,y_test,train=True)\n",
    "score(lr,x_train,x_test,y_train,y_test,train=False)"
   ]
  },
  {
   "cell_type": "code",
   "execution_count": 73,
   "id": "5bfdb2d3",
   "metadata": {},
   "outputs": [
    {
     "name": "stdout",
     "output_type": "stream",
     "text": [
      "\n",
      "AT CV = 2\n",
      "\n",
      "CROSS VAL SCORE IS  95.16\n",
      "\n",
      "TEST ACCURACY SCORE IS  98.15\n",
      "-------------\n",
      "\n",
      "AT CV = 3\n",
      "\n",
      "CROSS VAL SCORE IS  95.53\n",
      "\n",
      "TEST ACCURACY SCORE IS  98.15\n",
      "-------------\n",
      "\n",
      "AT CV = 4\n",
      "\n",
      "CROSS VAL SCORE IS  95.54\n",
      "\n",
      "TEST ACCURACY SCORE IS  98.15\n",
      "-------------\n",
      "\n",
      "AT CV = 5\n",
      "\n",
      "CROSS VAL SCORE IS  95.54\n",
      "\n",
      "TEST ACCURACY SCORE IS  98.15\n",
      "-------------\n",
      "\n",
      "AT CV = 6\n",
      "\n",
      "CROSS VAL SCORE IS  94.81\n",
      "\n",
      "TEST ACCURACY SCORE IS  98.15\n",
      "-------------\n",
      "\n",
      "AT CV = 7\n",
      "\n",
      "CROSS VAL SCORE IS  95.53\n",
      "\n",
      "TEST ACCURACY SCORE IS  98.15\n",
      "-------------\n",
      "\n",
      "AT CV = 8\n",
      "\n",
      "CROSS VAL SCORE IS  95.14\n",
      "\n",
      "TEST ACCURACY SCORE IS  98.15\n",
      "-------------\n",
      "\n",
      "AT CV = 9\n",
      "\n",
      "CROSS VAL SCORE IS  95.17\n",
      "\n",
      "TEST ACCURACY SCORE IS  98.15\n",
      "-------------\n",
      "\n",
      "AT CV = 10\n",
      "\n",
      "CROSS VAL SCORE IS  95.17\n",
      "\n",
      "TEST ACCURACY SCORE IS  98.15\n",
      "-------------\n"
     ]
    }
   ],
   "source": [
    "test_pred=lr.predict(x_test)\n",
    "lr_test_accuracy=round(accuracy_score(y_test,test_pred)*100,2)\n",
    "for i in range(2,11):\n",
    "    cross_val=cross_val_score(lr,x_scaled,y,cv=i).mean()\n",
    "    print('\\nAT CV =',i)\n",
    "    print('\\nCROSS VAL SCORE IS ',round(cross_val*100,2))\n",
    "    print(\"\\nTEST ACCURACY SCORE IS \",lr_test_accuracy)      \n",
    "    print('-------------')"
   ]
  },
  {
   "cell_type": "markdown",
   "id": "288c0aa5",
   "metadata": {},
   "source": [
    "SINCE THERE IS NOT MYCH DIFFERNCE BETWEEEN CROSS VAL SCORE AND TEST ACCURACY SCORE AT CV =5 <BR>\n",
    "IT CAN BE DEDUCED THAT OUR MODEL IS NOT OVERFITTING AND WE CAN PROCEED WITH RANDOM STATE -352 AND CV=5"
   ]
  },
  {
   "cell_type": "code",
   "execution_count": 74,
   "id": "3ddfbf78",
   "metadata": {},
   "outputs": [],
   "source": [
    "from sklearn.model_selection import GridSearchCV"
   ]
  },
  {
   "cell_type": "markdown",
   "id": "23d085ab",
   "metadata": {},
   "source": [
    "---------------------HYPER PARAMETER TUNING FOR LOGISTIC REGRESSION---------------------------------------------------------"
   ]
  },
  {
   "cell_type": "code",
   "execution_count": 75,
   "id": "7e1512ce",
   "metadata": {},
   "outputs": [
    {
     "data": {
      "text/plain": [
       "dict_keys(['C', 'class_weight', 'dual', 'fit_intercept', 'intercept_scaling', 'l1_ratio', 'max_iter', 'multi_class', 'n_jobs', 'penalty', 'random_state', 'solver', 'tol', 'verbose', 'warm_start'])"
      ]
     },
     "execution_count": 75,
     "metadata": {},
     "output_type": "execute_result"
    }
   ],
   "source": [
    "lr.get_params().keys()"
   ]
  },
  {
   "cell_type": "code",
   "execution_count": 76,
   "id": "22b12e99",
   "metadata": {},
   "outputs": [],
   "source": [
    "C = np.logspace(-10, 10, 50)\n",
    "penalty = ['l1', 'l2']"
   ]
  },
  {
   "cell_type": "code",
   "execution_count": 77,
   "id": "0439b5c1",
   "metadata": {},
   "outputs": [],
   "source": [
    "params={'C':C,'penalty':penalty}"
   ]
  },
  {
   "cell_type": "code",
   "execution_count": 78,
   "id": "a76b35d2",
   "metadata": {},
   "outputs": [],
   "source": [
    "gsc=GridSearchCV(lr,param_grid=params)"
   ]
  },
  {
   "cell_type": "code",
   "execution_count": 79,
   "id": "709c20cc",
   "metadata": {},
   "outputs": [
    {
     "data": {
      "text/html": [
       "<style>#sk-container-id-1 {color: black;background-color: white;}#sk-container-id-1 pre{padding: 0;}#sk-container-id-1 div.sk-toggleable {background-color: white;}#sk-container-id-1 label.sk-toggleable__label {cursor: pointer;display: block;width: 100%;margin-bottom: 0;padding: 0.3em;box-sizing: border-box;text-align: center;}#sk-container-id-1 label.sk-toggleable__label-arrow:before {content: \"▸\";float: left;margin-right: 0.25em;color: #696969;}#sk-container-id-1 label.sk-toggleable__label-arrow:hover:before {color: black;}#sk-container-id-1 div.sk-estimator:hover label.sk-toggleable__label-arrow:before {color: black;}#sk-container-id-1 div.sk-toggleable__content {max-height: 0;max-width: 0;overflow: hidden;text-align: left;background-color: #f0f8ff;}#sk-container-id-1 div.sk-toggleable__content pre {margin: 0.2em;color: black;border-radius: 0.25em;background-color: #f0f8ff;}#sk-container-id-1 input.sk-toggleable__control:checked~div.sk-toggleable__content {max-height: 200px;max-width: 100%;overflow: auto;}#sk-container-id-1 input.sk-toggleable__control:checked~label.sk-toggleable__label-arrow:before {content: \"▾\";}#sk-container-id-1 div.sk-estimator input.sk-toggleable__control:checked~label.sk-toggleable__label {background-color: #d4ebff;}#sk-container-id-1 div.sk-label input.sk-toggleable__control:checked~label.sk-toggleable__label {background-color: #d4ebff;}#sk-container-id-1 input.sk-hidden--visually {border: 0;clip: rect(1px 1px 1px 1px);clip: rect(1px, 1px, 1px, 1px);height: 1px;margin: -1px;overflow: hidden;padding: 0;position: absolute;width: 1px;}#sk-container-id-1 div.sk-estimator {font-family: monospace;background-color: #f0f8ff;border: 1px dotted black;border-radius: 0.25em;box-sizing: border-box;margin-bottom: 0.5em;}#sk-container-id-1 div.sk-estimator:hover {background-color: #d4ebff;}#sk-container-id-1 div.sk-parallel-item::after {content: \"\";width: 100%;border-bottom: 1px solid gray;flex-grow: 1;}#sk-container-id-1 div.sk-label:hover label.sk-toggleable__label {background-color: #d4ebff;}#sk-container-id-1 div.sk-serial::before {content: \"\";position: absolute;border-left: 1px solid gray;box-sizing: border-box;top: 0;bottom: 0;left: 50%;z-index: 0;}#sk-container-id-1 div.sk-serial {display: flex;flex-direction: column;align-items: center;background-color: white;padding-right: 0.2em;padding-left: 0.2em;position: relative;}#sk-container-id-1 div.sk-item {position: relative;z-index: 1;}#sk-container-id-1 div.sk-parallel {display: flex;align-items: stretch;justify-content: center;background-color: white;position: relative;}#sk-container-id-1 div.sk-item::before, #sk-container-id-1 div.sk-parallel-item::before {content: \"\";position: absolute;border-left: 1px solid gray;box-sizing: border-box;top: 0;bottom: 0;left: 50%;z-index: -1;}#sk-container-id-1 div.sk-parallel-item {display: flex;flex-direction: column;z-index: 1;position: relative;background-color: white;}#sk-container-id-1 div.sk-parallel-item:first-child::after {align-self: flex-end;width: 50%;}#sk-container-id-1 div.sk-parallel-item:last-child::after {align-self: flex-start;width: 50%;}#sk-container-id-1 div.sk-parallel-item:only-child::after {width: 0;}#sk-container-id-1 div.sk-dashed-wrapped {border: 1px dashed gray;margin: 0 0.4em 0.5em 0.4em;box-sizing: border-box;padding-bottom: 0.4em;background-color: white;}#sk-container-id-1 div.sk-label label {font-family: monospace;font-weight: bold;display: inline-block;line-height: 1.2em;}#sk-container-id-1 div.sk-label-container {text-align: center;}#sk-container-id-1 div.sk-container {/* jupyter's `normalize.less` sets `[hidden] { display: none; }` but bootstrap.min.css set `[hidden] { display: none !important; }` so we also need the `!important` here to be able to override the default hidden behavior on the sphinx rendered scikit-learn.org. See: https://github.com/scikit-learn/scikit-learn/issues/21755 */display: inline-block !important;position: relative;}#sk-container-id-1 div.sk-text-repr-fallback {display: none;}</style><div id=\"sk-container-id-1\" class=\"sk-top-container\"><div class=\"sk-text-repr-fallback\"><pre>GridSearchCV(estimator=LogisticRegression(),\n",
       "             param_grid={&#x27;C&#x27;: array([1.00000000e-10, 2.55954792e-10, 6.55128557e-10, 1.67683294e-09,\n",
       "       4.29193426e-09, 1.09854114e-08, 2.81176870e-08, 7.19685673e-08,\n",
       "       1.84206997e-07, 4.71486636e-07, 1.20679264e-06, 3.08884360e-06,\n",
       "       7.90604321e-06, 2.02358965e-05, 5.17947468e-05, 1.32571137e-04,\n",
       "       3.39322177e-04, 8.68511374e-04, 2.22299648e-0...\n",
       "       2.68269580e+01, 6.86648845e+01, 1.75751062e+02, 4.49843267e+02,\n",
       "       1.15139540e+03, 2.94705170e+03, 7.54312006e+03, 1.93069773e+04,\n",
       "       4.94171336e+04, 1.26485522e+05, 3.23745754e+05, 8.28642773e+05,\n",
       "       2.12095089e+06, 5.42867544e+06, 1.38949549e+07, 3.55648031e+07,\n",
       "       9.10298178e+07, 2.32995181e+08, 5.96362332e+08, 1.52641797e+09,\n",
       "       3.90693994e+09, 1.00000000e+10]),\n",
       "                         &#x27;penalty&#x27;: [&#x27;l1&#x27;, &#x27;l2&#x27;]})</pre><b>In a Jupyter environment, please rerun this cell to show the HTML representation or trust the notebook. <br />On GitHub, the HTML representation is unable to render, please try loading this page with nbviewer.org.</b></div><div class=\"sk-container\" hidden><div class=\"sk-item sk-dashed-wrapped\"><div class=\"sk-label-container\"><div class=\"sk-label sk-toggleable\"><input class=\"sk-toggleable__control sk-hidden--visually\" id=\"sk-estimator-id-1\" type=\"checkbox\" ><label for=\"sk-estimator-id-1\" class=\"sk-toggleable__label sk-toggleable__label-arrow\">GridSearchCV</label><div class=\"sk-toggleable__content\"><pre>GridSearchCV(estimator=LogisticRegression(),\n",
       "             param_grid={&#x27;C&#x27;: array([1.00000000e-10, 2.55954792e-10, 6.55128557e-10, 1.67683294e-09,\n",
       "       4.29193426e-09, 1.09854114e-08, 2.81176870e-08, 7.19685673e-08,\n",
       "       1.84206997e-07, 4.71486636e-07, 1.20679264e-06, 3.08884360e-06,\n",
       "       7.90604321e-06, 2.02358965e-05, 5.17947468e-05, 1.32571137e-04,\n",
       "       3.39322177e-04, 8.68511374e-04, 2.22299648e-0...\n",
       "       2.68269580e+01, 6.86648845e+01, 1.75751062e+02, 4.49843267e+02,\n",
       "       1.15139540e+03, 2.94705170e+03, 7.54312006e+03, 1.93069773e+04,\n",
       "       4.94171336e+04, 1.26485522e+05, 3.23745754e+05, 8.28642773e+05,\n",
       "       2.12095089e+06, 5.42867544e+06, 1.38949549e+07, 3.55648031e+07,\n",
       "       9.10298178e+07, 2.32995181e+08, 5.96362332e+08, 1.52641797e+09,\n",
       "       3.90693994e+09, 1.00000000e+10]),\n",
       "                         &#x27;penalty&#x27;: [&#x27;l1&#x27;, &#x27;l2&#x27;]})</pre></div></div></div><div class=\"sk-parallel\"><div class=\"sk-parallel-item\"><div class=\"sk-item\"><div class=\"sk-label-container\"><div class=\"sk-label sk-toggleable\"><input class=\"sk-toggleable__control sk-hidden--visually\" id=\"sk-estimator-id-2\" type=\"checkbox\" ><label for=\"sk-estimator-id-2\" class=\"sk-toggleable__label sk-toggleable__label-arrow\">estimator: LogisticRegression</label><div class=\"sk-toggleable__content\"><pre>LogisticRegression()</pre></div></div></div><div class=\"sk-serial\"><div class=\"sk-item\"><div class=\"sk-estimator sk-toggleable\"><input class=\"sk-toggleable__control sk-hidden--visually\" id=\"sk-estimator-id-3\" type=\"checkbox\" ><label for=\"sk-estimator-id-3\" class=\"sk-toggleable__label sk-toggleable__label-arrow\">LogisticRegression</label><div class=\"sk-toggleable__content\"><pre>LogisticRegression()</pre></div></div></div></div></div></div></div></div></div></div>"
      ],
      "text/plain": [
       "GridSearchCV(estimator=LogisticRegression(),\n",
       "             param_grid={'C': array([1.00000000e-10, 2.55954792e-10, 6.55128557e-10, 1.67683294e-09,\n",
       "       4.29193426e-09, 1.09854114e-08, 2.81176870e-08, 7.19685673e-08,\n",
       "       1.84206997e-07, 4.71486636e-07, 1.20679264e-06, 3.08884360e-06,\n",
       "       7.90604321e-06, 2.02358965e-05, 5.17947468e-05, 1.32571137e-04,\n",
       "       3.39322177e-04, 8.68511374e-04, 2.22299648e-0...\n",
       "       2.68269580e+01, 6.86648845e+01, 1.75751062e+02, 4.49843267e+02,\n",
       "       1.15139540e+03, 2.94705170e+03, 7.54312006e+03, 1.93069773e+04,\n",
       "       4.94171336e+04, 1.26485522e+05, 3.23745754e+05, 8.28642773e+05,\n",
       "       2.12095089e+06, 5.42867544e+06, 1.38949549e+07, 3.55648031e+07,\n",
       "       9.10298178e+07, 2.32995181e+08, 5.96362332e+08, 1.52641797e+09,\n",
       "       3.90693994e+09, 1.00000000e+10]),\n",
       "                         'penalty': ['l1', 'l2']})"
      ]
     },
     "execution_count": 79,
     "metadata": {},
     "output_type": "execute_result"
    }
   ],
   "source": [
    "gsc.fit(x_train,y_train)"
   ]
  },
  {
   "cell_type": "code",
   "execution_count": 80,
   "id": "f1c8d608",
   "metadata": {},
   "outputs": [
    {
     "data": {
      "text/plain": [
       "{'C': 0.03727593720314938, 'penalty': 'l2'}"
      ]
     },
     "execution_count": 80,
     "metadata": {},
     "output_type": "execute_result"
    }
   ],
   "source": [
    "gsc.best_params_"
   ]
  },
  {
   "cell_type": "code",
   "execution_count": 81,
   "id": "6698295d",
   "metadata": {},
   "outputs": [],
   "source": [
    "lr=LogisticRegression()"
   ]
  },
  {
   "cell_type": "code",
   "execution_count": 82,
   "id": "c7d92768",
   "metadata": {},
   "outputs": [],
   "source": [
    "lr=gsc.best_estimator_"
   ]
  },
  {
   "cell_type": "code",
   "execution_count": 83,
   "id": "792393b8",
   "metadata": {},
   "outputs": [
    {
     "name": "stdout",
     "output_type": "stream",
     "text": [
      "\n",
      "\n",
      "Training SCORE FOR THE LogisticRegression(C=0.03727593720314938) is 95.81\n",
      "\n",
      "\n",
      "CONFUSION MATRIX FOR THE TRAINIG\n",
      "\n",
      "\n",
      " [[ 88   6]\n",
      " [  3 118]]\n",
      "\n",
      "\n",
      "CLASSIFICATION REPORT for training --\n",
      "\n",
      "\n",
      "               precision    recall  f1-score   support\n",
      "\n",
      "           0       0.97      0.94      0.95        94\n",
      "           1       0.95      0.98      0.96       121\n",
      "\n",
      "    accuracy                           0.96       215\n",
      "   macro avg       0.96      0.96      0.96       215\n",
      "weighted avg       0.96      0.96      0.96       215\n",
      "\n",
      "\n",
      "\n",
      "Testing SCORE FOR THE LogisticRegression(C=0.03727593720314938) is 96.3\n",
      "\n",
      "\n",
      "CONFUSION MATRIX FOR THE TESTING\n",
      "\n",
      "\n",
      " [[20  1]\n",
      " [ 1 32]]\n",
      "\n",
      "\n",
      "CLASSIFICATION REPORT for testing --\n",
      "\n",
      "\n",
      "               precision    recall  f1-score   support\n",
      "\n",
      "           0       0.95      0.95      0.95        21\n",
      "           1       0.97      0.97      0.97        33\n",
      "\n",
      "    accuracy                           0.96        54\n",
      "   macro avg       0.96      0.96      0.96        54\n",
      "weighted avg       0.96      0.96      0.96        54\n",
      "\n"
     ]
    }
   ],
   "source": [
    "score(lr,x_train,x_test,y_train,y_test,train=True)\n",
    "score(lr,x_train,x_test,y_train,y_test,train=False)"
   ]
  },
  {
   "cell_type": "code",
   "execution_count": 84,
   "id": "e6d6a2fe",
   "metadata": {},
   "outputs": [],
   "source": [
    "test_pred=lr.predict(x_test)\n",
    "lr_test_accuracy=round(accuracy_score(y_test,test_pred)*100,2)"
   ]
  },
  {
   "cell_type": "code",
   "execution_count": 85,
   "id": "5998f3db",
   "metadata": {},
   "outputs": [],
   "source": [
    "cross_val=cross_val_score(lr,x_scaled,y,cv=5).mean()"
   ]
  },
  {
   "cell_type": "code",
   "execution_count": 86,
   "id": "66266b85",
   "metadata": {},
   "outputs": [
    {
     "name": "stdout",
     "output_type": "stream",
     "text": [
      "\n",
      "CROSS VAL SCORE IS  95.16\n",
      "\n",
      "TEST ACCURACY SCORE IS  96.3\n"
     ]
    }
   ],
   "source": [
    "print('\\nCROSS VAL SCORE IS ',round(cross_val*100,2))\n",
    "print(\"\\nTEST ACCURACY SCORE IS \",lr_test_accuracy)"
   ]
  },
  {
   "cell_type": "markdown",
   "id": "31f2212b",
   "metadata": {},
   "source": [
    "SINCE ACCURACIES REMAIN SAME EVEN AFTER HYPER PARAMETER TUNING WE WILL CONTINUE WITH THIS PARAMETERS "
   ]
  },
  {
   "cell_type": "markdown",
   "id": "e46c13c0",
   "metadata": {},
   "source": [
    "MODEL 2)---DECISION TREE MODELING\n",
    "----------------------"
   ]
  },
  {
   "cell_type": "code",
   "execution_count": 87,
   "id": "48fac16b",
   "metadata": {},
   "outputs": [],
   "source": [
    "from sklearn.tree import DecisionTreeClassifier"
   ]
  },
  {
   "cell_type": "code",
   "execution_count": 88,
   "id": "d4682e5b",
   "metadata": {},
   "outputs": [],
   "source": [
    "dt=DecisionTreeClassifier(random_state=352)"
   ]
  },
  {
   "cell_type": "code",
   "execution_count": 89,
   "id": "5f28691f",
   "metadata": {},
   "outputs": [
    {
     "data": {
      "text/html": [
       "<style>#sk-container-id-2 {color: black;background-color: white;}#sk-container-id-2 pre{padding: 0;}#sk-container-id-2 div.sk-toggleable {background-color: white;}#sk-container-id-2 label.sk-toggleable__label {cursor: pointer;display: block;width: 100%;margin-bottom: 0;padding: 0.3em;box-sizing: border-box;text-align: center;}#sk-container-id-2 label.sk-toggleable__label-arrow:before {content: \"▸\";float: left;margin-right: 0.25em;color: #696969;}#sk-container-id-2 label.sk-toggleable__label-arrow:hover:before {color: black;}#sk-container-id-2 div.sk-estimator:hover label.sk-toggleable__label-arrow:before {color: black;}#sk-container-id-2 div.sk-toggleable__content {max-height: 0;max-width: 0;overflow: hidden;text-align: left;background-color: #f0f8ff;}#sk-container-id-2 div.sk-toggleable__content pre {margin: 0.2em;color: black;border-radius: 0.25em;background-color: #f0f8ff;}#sk-container-id-2 input.sk-toggleable__control:checked~div.sk-toggleable__content {max-height: 200px;max-width: 100%;overflow: auto;}#sk-container-id-2 input.sk-toggleable__control:checked~label.sk-toggleable__label-arrow:before {content: \"▾\";}#sk-container-id-2 div.sk-estimator input.sk-toggleable__control:checked~label.sk-toggleable__label {background-color: #d4ebff;}#sk-container-id-2 div.sk-label input.sk-toggleable__control:checked~label.sk-toggleable__label {background-color: #d4ebff;}#sk-container-id-2 input.sk-hidden--visually {border: 0;clip: rect(1px 1px 1px 1px);clip: rect(1px, 1px, 1px, 1px);height: 1px;margin: -1px;overflow: hidden;padding: 0;position: absolute;width: 1px;}#sk-container-id-2 div.sk-estimator {font-family: monospace;background-color: #f0f8ff;border: 1px dotted black;border-radius: 0.25em;box-sizing: border-box;margin-bottom: 0.5em;}#sk-container-id-2 div.sk-estimator:hover {background-color: #d4ebff;}#sk-container-id-2 div.sk-parallel-item::after {content: \"\";width: 100%;border-bottom: 1px solid gray;flex-grow: 1;}#sk-container-id-2 div.sk-label:hover label.sk-toggleable__label {background-color: #d4ebff;}#sk-container-id-2 div.sk-serial::before {content: \"\";position: absolute;border-left: 1px solid gray;box-sizing: border-box;top: 0;bottom: 0;left: 50%;z-index: 0;}#sk-container-id-2 div.sk-serial {display: flex;flex-direction: column;align-items: center;background-color: white;padding-right: 0.2em;padding-left: 0.2em;position: relative;}#sk-container-id-2 div.sk-item {position: relative;z-index: 1;}#sk-container-id-2 div.sk-parallel {display: flex;align-items: stretch;justify-content: center;background-color: white;position: relative;}#sk-container-id-2 div.sk-item::before, #sk-container-id-2 div.sk-parallel-item::before {content: \"\";position: absolute;border-left: 1px solid gray;box-sizing: border-box;top: 0;bottom: 0;left: 50%;z-index: -1;}#sk-container-id-2 div.sk-parallel-item {display: flex;flex-direction: column;z-index: 1;position: relative;background-color: white;}#sk-container-id-2 div.sk-parallel-item:first-child::after {align-self: flex-end;width: 50%;}#sk-container-id-2 div.sk-parallel-item:last-child::after {align-self: flex-start;width: 50%;}#sk-container-id-2 div.sk-parallel-item:only-child::after {width: 0;}#sk-container-id-2 div.sk-dashed-wrapped {border: 1px dashed gray;margin: 0 0.4em 0.5em 0.4em;box-sizing: border-box;padding-bottom: 0.4em;background-color: white;}#sk-container-id-2 div.sk-label label {font-family: monospace;font-weight: bold;display: inline-block;line-height: 1.2em;}#sk-container-id-2 div.sk-label-container {text-align: center;}#sk-container-id-2 div.sk-container {/* jupyter's `normalize.less` sets `[hidden] { display: none; }` but bootstrap.min.css set `[hidden] { display: none !important; }` so we also need the `!important` here to be able to override the default hidden behavior on the sphinx rendered scikit-learn.org. See: https://github.com/scikit-learn/scikit-learn/issues/21755 */display: inline-block !important;position: relative;}#sk-container-id-2 div.sk-text-repr-fallback {display: none;}</style><div id=\"sk-container-id-2\" class=\"sk-top-container\"><div class=\"sk-text-repr-fallback\"><pre>DecisionTreeClassifier(random_state=352)</pre><b>In a Jupyter environment, please rerun this cell to show the HTML representation or trust the notebook. <br />On GitHub, the HTML representation is unable to render, please try loading this page with nbviewer.org.</b></div><div class=\"sk-container\" hidden><div class=\"sk-item\"><div class=\"sk-estimator sk-toggleable\"><input class=\"sk-toggleable__control sk-hidden--visually\" id=\"sk-estimator-id-4\" type=\"checkbox\" checked><label for=\"sk-estimator-id-4\" class=\"sk-toggleable__label sk-toggleable__label-arrow\">DecisionTreeClassifier</label><div class=\"sk-toggleable__content\"><pre>DecisionTreeClassifier(random_state=352)</pre></div></div></div></div></div>"
      ],
      "text/plain": [
       "DecisionTreeClassifier(random_state=352)"
      ]
     },
     "execution_count": 89,
     "metadata": {},
     "output_type": "execute_result"
    }
   ],
   "source": [
    "dt.fit(x_train,y_train)"
   ]
  },
  {
   "cell_type": "code",
   "execution_count": 90,
   "id": "8bc6a389",
   "metadata": {},
   "outputs": [
    {
     "name": "stdout",
     "output_type": "stream",
     "text": [
      "\n",
      "\n",
      "Training SCORE FOR THE DecisionTreeClassifier(random_state=352) is 100.0\n",
      "\n",
      "\n",
      "CONFUSION MATRIX FOR THE TRAINIG\n",
      "\n",
      "\n",
      " [[ 94   0]\n",
      " [  0 121]]\n",
      "\n",
      "\n",
      "CLASSIFICATION REPORT for training --\n",
      "\n",
      "\n",
      "               precision    recall  f1-score   support\n",
      "\n",
      "           0       1.00      1.00      1.00        94\n",
      "           1       1.00      1.00      1.00       121\n",
      "\n",
      "    accuracy                           1.00       215\n",
      "   macro avg       1.00      1.00      1.00       215\n",
      "weighted avg       1.00      1.00      1.00       215\n",
      "\n",
      "\n",
      "\n",
      "Testing SCORE FOR THE DecisionTreeClassifier(random_state=352) is 96.3\n",
      "\n",
      "\n",
      "CONFUSION MATRIX FOR THE TESTING\n",
      "\n",
      "\n",
      " [[20  1]\n",
      " [ 1 32]]\n",
      "\n",
      "\n",
      "CLASSIFICATION REPORT for testing --\n",
      "\n",
      "\n",
      "               precision    recall  f1-score   support\n",
      "\n",
      "           0       0.95      0.95      0.95        21\n",
      "           1       0.97      0.97      0.97        33\n",
      "\n",
      "    accuracy                           0.96        54\n",
      "   macro avg       0.96      0.96      0.96        54\n",
      "weighted avg       0.96      0.96      0.96        54\n",
      "\n"
     ]
    }
   ],
   "source": [
    "score(dt,x_train,x_test,y_train,y_test,train=True)\n",
    "score(dt,x_train,x_test,y_train,y_test,train=False)"
   ]
  },
  {
   "cell_type": "markdown",
   "id": "194ce020",
   "metadata": {},
   "source": [
    "HYPER PARAMETER TUNING FOR DECISION TREE CLASSIFIER"
   ]
  },
  {
   "cell_type": "code",
   "execution_count": 91,
   "id": "c2c8f7ce",
   "metadata": {},
   "outputs": [
    {
     "data": {
      "text/plain": [
       "dict_keys(['ccp_alpha', 'class_weight', 'criterion', 'max_depth', 'max_features', 'max_leaf_nodes', 'min_impurity_decrease', 'min_samples_leaf', 'min_samples_split', 'min_weight_fraction_leaf', 'random_state', 'splitter'])"
      ]
     },
     "execution_count": 91,
     "metadata": {},
     "output_type": "execute_result"
    }
   ],
   "source": [
    "dt.get_params().keys()"
   ]
  },
  {
   "cell_type": "code",
   "execution_count": 92,
   "id": "724cd14a",
   "metadata": {},
   "outputs": [],
   "source": [
    "para={'criterion':['gini','entropy','log_loss'],\n",
    "      'max_depth':np.arange(25,30),\n",
    "      'min_samples_split':np.arange(3,5),\n",
    "      'min_samples_leaf':np.arange(8,12)}"
   ]
  },
  {
   "cell_type": "code",
   "execution_count": 93,
   "id": "c4a9c22e",
   "metadata": {},
   "outputs": [],
   "source": [
    "dgsc=GridSearchCV(dt,param_grid=para,cv=8)"
   ]
  },
  {
   "cell_type": "code",
   "execution_count": 94,
   "id": "684a4a8d",
   "metadata": {},
   "outputs": [
    {
     "data": {
      "text/html": [
       "<style>#sk-container-id-3 {color: black;background-color: white;}#sk-container-id-3 pre{padding: 0;}#sk-container-id-3 div.sk-toggleable {background-color: white;}#sk-container-id-3 label.sk-toggleable__label {cursor: pointer;display: block;width: 100%;margin-bottom: 0;padding: 0.3em;box-sizing: border-box;text-align: center;}#sk-container-id-3 label.sk-toggleable__label-arrow:before {content: \"▸\";float: left;margin-right: 0.25em;color: #696969;}#sk-container-id-3 label.sk-toggleable__label-arrow:hover:before {color: black;}#sk-container-id-3 div.sk-estimator:hover label.sk-toggleable__label-arrow:before {color: black;}#sk-container-id-3 div.sk-toggleable__content {max-height: 0;max-width: 0;overflow: hidden;text-align: left;background-color: #f0f8ff;}#sk-container-id-3 div.sk-toggleable__content pre {margin: 0.2em;color: black;border-radius: 0.25em;background-color: #f0f8ff;}#sk-container-id-3 input.sk-toggleable__control:checked~div.sk-toggleable__content {max-height: 200px;max-width: 100%;overflow: auto;}#sk-container-id-3 input.sk-toggleable__control:checked~label.sk-toggleable__label-arrow:before {content: \"▾\";}#sk-container-id-3 div.sk-estimator input.sk-toggleable__control:checked~label.sk-toggleable__label {background-color: #d4ebff;}#sk-container-id-3 div.sk-label input.sk-toggleable__control:checked~label.sk-toggleable__label {background-color: #d4ebff;}#sk-container-id-3 input.sk-hidden--visually {border: 0;clip: rect(1px 1px 1px 1px);clip: rect(1px, 1px, 1px, 1px);height: 1px;margin: -1px;overflow: hidden;padding: 0;position: absolute;width: 1px;}#sk-container-id-3 div.sk-estimator {font-family: monospace;background-color: #f0f8ff;border: 1px dotted black;border-radius: 0.25em;box-sizing: border-box;margin-bottom: 0.5em;}#sk-container-id-3 div.sk-estimator:hover {background-color: #d4ebff;}#sk-container-id-3 div.sk-parallel-item::after {content: \"\";width: 100%;border-bottom: 1px solid gray;flex-grow: 1;}#sk-container-id-3 div.sk-label:hover label.sk-toggleable__label {background-color: #d4ebff;}#sk-container-id-3 div.sk-serial::before {content: \"\";position: absolute;border-left: 1px solid gray;box-sizing: border-box;top: 0;bottom: 0;left: 50%;z-index: 0;}#sk-container-id-3 div.sk-serial {display: flex;flex-direction: column;align-items: center;background-color: white;padding-right: 0.2em;padding-left: 0.2em;position: relative;}#sk-container-id-3 div.sk-item {position: relative;z-index: 1;}#sk-container-id-3 div.sk-parallel {display: flex;align-items: stretch;justify-content: center;background-color: white;position: relative;}#sk-container-id-3 div.sk-item::before, #sk-container-id-3 div.sk-parallel-item::before {content: \"\";position: absolute;border-left: 1px solid gray;box-sizing: border-box;top: 0;bottom: 0;left: 50%;z-index: -1;}#sk-container-id-3 div.sk-parallel-item {display: flex;flex-direction: column;z-index: 1;position: relative;background-color: white;}#sk-container-id-3 div.sk-parallel-item:first-child::after {align-self: flex-end;width: 50%;}#sk-container-id-3 div.sk-parallel-item:last-child::after {align-self: flex-start;width: 50%;}#sk-container-id-3 div.sk-parallel-item:only-child::after {width: 0;}#sk-container-id-3 div.sk-dashed-wrapped {border: 1px dashed gray;margin: 0 0.4em 0.5em 0.4em;box-sizing: border-box;padding-bottom: 0.4em;background-color: white;}#sk-container-id-3 div.sk-label label {font-family: monospace;font-weight: bold;display: inline-block;line-height: 1.2em;}#sk-container-id-3 div.sk-label-container {text-align: center;}#sk-container-id-3 div.sk-container {/* jupyter's `normalize.less` sets `[hidden] { display: none; }` but bootstrap.min.css set `[hidden] { display: none !important; }` so we also need the `!important` here to be able to override the default hidden behavior on the sphinx rendered scikit-learn.org. See: https://github.com/scikit-learn/scikit-learn/issues/21755 */display: inline-block !important;position: relative;}#sk-container-id-3 div.sk-text-repr-fallback {display: none;}</style><div id=\"sk-container-id-3\" class=\"sk-top-container\"><div class=\"sk-text-repr-fallback\"><pre>GridSearchCV(cv=8, estimator=DecisionTreeClassifier(random_state=352),\n",
       "             param_grid={&#x27;criterion&#x27;: [&#x27;gini&#x27;, &#x27;entropy&#x27;, &#x27;log_loss&#x27;],\n",
       "                         &#x27;max_depth&#x27;: array([25, 26, 27, 28, 29]),\n",
       "                         &#x27;min_samples_leaf&#x27;: array([ 8,  9, 10, 11]),\n",
       "                         &#x27;min_samples_split&#x27;: array([3, 4])})</pre><b>In a Jupyter environment, please rerun this cell to show the HTML representation or trust the notebook. <br />On GitHub, the HTML representation is unable to render, please try loading this page with nbviewer.org.</b></div><div class=\"sk-container\" hidden><div class=\"sk-item sk-dashed-wrapped\"><div class=\"sk-label-container\"><div class=\"sk-label sk-toggleable\"><input class=\"sk-toggleable__control sk-hidden--visually\" id=\"sk-estimator-id-5\" type=\"checkbox\" ><label for=\"sk-estimator-id-5\" class=\"sk-toggleable__label sk-toggleable__label-arrow\">GridSearchCV</label><div class=\"sk-toggleable__content\"><pre>GridSearchCV(cv=8, estimator=DecisionTreeClassifier(random_state=352),\n",
       "             param_grid={&#x27;criterion&#x27;: [&#x27;gini&#x27;, &#x27;entropy&#x27;, &#x27;log_loss&#x27;],\n",
       "                         &#x27;max_depth&#x27;: array([25, 26, 27, 28, 29]),\n",
       "                         &#x27;min_samples_leaf&#x27;: array([ 8,  9, 10, 11]),\n",
       "                         &#x27;min_samples_split&#x27;: array([3, 4])})</pre></div></div></div><div class=\"sk-parallel\"><div class=\"sk-parallel-item\"><div class=\"sk-item\"><div class=\"sk-label-container\"><div class=\"sk-label sk-toggleable\"><input class=\"sk-toggleable__control sk-hidden--visually\" id=\"sk-estimator-id-6\" type=\"checkbox\" ><label for=\"sk-estimator-id-6\" class=\"sk-toggleable__label sk-toggleable__label-arrow\">estimator: DecisionTreeClassifier</label><div class=\"sk-toggleable__content\"><pre>DecisionTreeClassifier(random_state=352)</pre></div></div></div><div class=\"sk-serial\"><div class=\"sk-item\"><div class=\"sk-estimator sk-toggleable\"><input class=\"sk-toggleable__control sk-hidden--visually\" id=\"sk-estimator-id-7\" type=\"checkbox\" ><label for=\"sk-estimator-id-7\" class=\"sk-toggleable__label sk-toggleable__label-arrow\">DecisionTreeClassifier</label><div class=\"sk-toggleable__content\"><pre>DecisionTreeClassifier(random_state=352)</pre></div></div></div></div></div></div></div></div></div></div>"
      ],
      "text/plain": [
       "GridSearchCV(cv=8, estimator=DecisionTreeClassifier(random_state=352),\n",
       "             param_grid={'criterion': ['gini', 'entropy', 'log_loss'],\n",
       "                         'max_depth': array([25, 26, 27, 28, 29]),\n",
       "                         'min_samples_leaf': array([ 8,  9, 10, 11]),\n",
       "                         'min_samples_split': array([3, 4])})"
      ]
     },
     "execution_count": 94,
     "metadata": {},
     "output_type": "execute_result"
    }
   ],
   "source": [
    "dgsc.fit(x_train,y_train)"
   ]
  },
  {
   "cell_type": "code",
   "execution_count": 95,
   "id": "dfb10169",
   "metadata": {},
   "outputs": [
    {
     "data": {
      "text/plain": [
       "{'criterion': 'gini',\n",
       " 'max_depth': 25,\n",
       " 'min_samples_leaf': 8,\n",
       " 'min_samples_split': 3}"
      ]
     },
     "execution_count": 95,
     "metadata": {},
     "output_type": "execute_result"
    }
   ],
   "source": [
    "dgsc.best_params_"
   ]
  },
  {
   "cell_type": "code",
   "execution_count": 96,
   "id": "6c4fe7bc",
   "metadata": {},
   "outputs": [],
   "source": [
    "dt=dgsc.best_estimator_"
   ]
  },
  {
   "cell_type": "code",
   "execution_count": 97,
   "id": "61cbfb38",
   "metadata": {},
   "outputs": [
    {
     "name": "stdout",
     "output_type": "stream",
     "text": [
      "\n",
      "\n",
      "Training SCORE FOR THE DecisionTreeClassifier(max_depth=25, min_samples_leaf=8, min_samples_split=3,\n",
      "                       random_state=352) is 95.81\n",
      "\n",
      "\n",
      "CONFUSION MATRIX FOR THE TRAINIG\n",
      "\n",
      "\n",
      " [[ 94   0]\n",
      " [  9 112]]\n",
      "\n",
      "\n",
      "CLASSIFICATION REPORT for training --\n",
      "\n",
      "\n",
      "               precision    recall  f1-score   support\n",
      "\n",
      "           0       0.91      1.00      0.95        94\n",
      "           1       1.00      0.93      0.96       121\n",
      "\n",
      "    accuracy                           0.96       215\n",
      "   macro avg       0.96      0.96      0.96       215\n",
      "weighted avg       0.96      0.96      0.96       215\n",
      "\n",
      "\n",
      "\n",
      "Testing SCORE FOR THE DecisionTreeClassifier(max_depth=25, min_samples_leaf=8, min_samples_split=3,\n",
      "                       random_state=352) is 96.3\n",
      "\n",
      "\n",
      "CONFUSION MATRIX FOR THE TESTING\n",
      "\n",
      "\n",
      " [[21  0]\n",
      " [ 2 31]]\n",
      "\n",
      "\n",
      "CLASSIFICATION REPORT for testing --\n",
      "\n",
      "\n",
      "               precision    recall  f1-score   support\n",
      "\n",
      "           0       0.91      1.00      0.95        21\n",
      "           1       1.00      0.94      0.97        33\n",
      "\n",
      "    accuracy                           0.96        54\n",
      "   macro avg       0.96      0.97      0.96        54\n",
      "weighted avg       0.97      0.96      0.96        54\n",
      "\n"
     ]
    }
   ],
   "source": [
    "score(dt,x_train,x_test,y_train,y_test,train=True)\n",
    "score(dt,x_train,x_test,y_train,y_test,train=False)"
   ]
  },
  {
   "cell_type": "code",
   "execution_count": 98,
   "id": "bccbcc7d",
   "metadata": {},
   "outputs": [],
   "source": [
    "test_pred=dt.predict(x_test)\n",
    "dt_test_accuracy=round(accuracy_score(y_test,test_pred)*100,2)"
   ]
  },
  {
   "cell_type": "code",
   "execution_count": 99,
   "id": "efb273f4",
   "metadata": {},
   "outputs": [],
   "source": [
    "cross_val=cross_val_score(dt,x_scaled,y,cv=5).mean()"
   ]
  },
  {
   "cell_type": "code",
   "execution_count": 100,
   "id": "e2f23fdf",
   "metadata": {},
   "outputs": [
    {
     "name": "stdout",
     "output_type": "stream",
     "text": [
      "\n",
      "CROSS VAL SCORE IS  95.17\n",
      "\n",
      "TEST ACCURACY SCORE IS  96.3\n"
     ]
    }
   ],
   "source": [
    "print('\\nCROSS VAL SCORE IS ',round(cross_val*100,2))\n",
    "print(\"\\nTEST ACCURACY SCORE IS \",dt_test_accuracy)"
   ]
  },
  {
   "cell_type": "markdown",
   "id": "2e32b4b5",
   "metadata": {},
   "source": [
    "SINCE TRAINING HAVE COME NEAR THE TESTING SCORE AND TESTING SCORES ARE ALMOST EQUAL TO CROSS VAL SCORE WE WILL WILL CONTINUE WITH THESE PARAMETERS"
   ]
  },
  {
   "cell_type": "markdown",
   "id": "4521edd8",
   "metadata": {},
   "source": [
    "MODEL 3)---------------------------RANDOM FOREST CLASSIFIER----------------------------------\n",
    "----------------------------------"
   ]
  },
  {
   "cell_type": "code",
   "execution_count": 101,
   "id": "cf34628e",
   "metadata": {},
   "outputs": [],
   "source": [
    "from sklearn.ensemble import RandomForestClassifier"
   ]
  },
  {
   "cell_type": "code",
   "execution_count": 102,
   "id": "3dc91a01",
   "metadata": {},
   "outputs": [],
   "source": [
    "rfc=RandomForestClassifier()"
   ]
  },
  {
   "cell_type": "code",
   "execution_count": 103,
   "id": "13e75094",
   "metadata": {},
   "outputs": [
    {
     "data": {
      "text/html": [
       "<style>#sk-container-id-4 {color: black;background-color: white;}#sk-container-id-4 pre{padding: 0;}#sk-container-id-4 div.sk-toggleable {background-color: white;}#sk-container-id-4 label.sk-toggleable__label {cursor: pointer;display: block;width: 100%;margin-bottom: 0;padding: 0.3em;box-sizing: border-box;text-align: center;}#sk-container-id-4 label.sk-toggleable__label-arrow:before {content: \"▸\";float: left;margin-right: 0.25em;color: #696969;}#sk-container-id-4 label.sk-toggleable__label-arrow:hover:before {color: black;}#sk-container-id-4 div.sk-estimator:hover label.sk-toggleable__label-arrow:before {color: black;}#sk-container-id-4 div.sk-toggleable__content {max-height: 0;max-width: 0;overflow: hidden;text-align: left;background-color: #f0f8ff;}#sk-container-id-4 div.sk-toggleable__content pre {margin: 0.2em;color: black;border-radius: 0.25em;background-color: #f0f8ff;}#sk-container-id-4 input.sk-toggleable__control:checked~div.sk-toggleable__content {max-height: 200px;max-width: 100%;overflow: auto;}#sk-container-id-4 input.sk-toggleable__control:checked~label.sk-toggleable__label-arrow:before {content: \"▾\";}#sk-container-id-4 div.sk-estimator input.sk-toggleable__control:checked~label.sk-toggleable__label {background-color: #d4ebff;}#sk-container-id-4 div.sk-label input.sk-toggleable__control:checked~label.sk-toggleable__label {background-color: #d4ebff;}#sk-container-id-4 input.sk-hidden--visually {border: 0;clip: rect(1px 1px 1px 1px);clip: rect(1px, 1px, 1px, 1px);height: 1px;margin: -1px;overflow: hidden;padding: 0;position: absolute;width: 1px;}#sk-container-id-4 div.sk-estimator {font-family: monospace;background-color: #f0f8ff;border: 1px dotted black;border-radius: 0.25em;box-sizing: border-box;margin-bottom: 0.5em;}#sk-container-id-4 div.sk-estimator:hover {background-color: #d4ebff;}#sk-container-id-4 div.sk-parallel-item::after {content: \"\";width: 100%;border-bottom: 1px solid gray;flex-grow: 1;}#sk-container-id-4 div.sk-label:hover label.sk-toggleable__label {background-color: #d4ebff;}#sk-container-id-4 div.sk-serial::before {content: \"\";position: absolute;border-left: 1px solid gray;box-sizing: border-box;top: 0;bottom: 0;left: 50%;z-index: 0;}#sk-container-id-4 div.sk-serial {display: flex;flex-direction: column;align-items: center;background-color: white;padding-right: 0.2em;padding-left: 0.2em;position: relative;}#sk-container-id-4 div.sk-item {position: relative;z-index: 1;}#sk-container-id-4 div.sk-parallel {display: flex;align-items: stretch;justify-content: center;background-color: white;position: relative;}#sk-container-id-4 div.sk-item::before, #sk-container-id-4 div.sk-parallel-item::before {content: \"\";position: absolute;border-left: 1px solid gray;box-sizing: border-box;top: 0;bottom: 0;left: 50%;z-index: -1;}#sk-container-id-4 div.sk-parallel-item {display: flex;flex-direction: column;z-index: 1;position: relative;background-color: white;}#sk-container-id-4 div.sk-parallel-item:first-child::after {align-self: flex-end;width: 50%;}#sk-container-id-4 div.sk-parallel-item:last-child::after {align-self: flex-start;width: 50%;}#sk-container-id-4 div.sk-parallel-item:only-child::after {width: 0;}#sk-container-id-4 div.sk-dashed-wrapped {border: 1px dashed gray;margin: 0 0.4em 0.5em 0.4em;box-sizing: border-box;padding-bottom: 0.4em;background-color: white;}#sk-container-id-4 div.sk-label label {font-family: monospace;font-weight: bold;display: inline-block;line-height: 1.2em;}#sk-container-id-4 div.sk-label-container {text-align: center;}#sk-container-id-4 div.sk-container {/* jupyter's `normalize.less` sets `[hidden] { display: none; }` but bootstrap.min.css set `[hidden] { display: none !important; }` so we also need the `!important` here to be able to override the default hidden behavior on the sphinx rendered scikit-learn.org. See: https://github.com/scikit-learn/scikit-learn/issues/21755 */display: inline-block !important;position: relative;}#sk-container-id-4 div.sk-text-repr-fallback {display: none;}</style><div id=\"sk-container-id-4\" class=\"sk-top-container\"><div class=\"sk-text-repr-fallback\"><pre>RandomForestClassifier()</pre><b>In a Jupyter environment, please rerun this cell to show the HTML representation or trust the notebook. <br />On GitHub, the HTML representation is unable to render, please try loading this page with nbviewer.org.</b></div><div class=\"sk-container\" hidden><div class=\"sk-item\"><div class=\"sk-estimator sk-toggleable\"><input class=\"sk-toggleable__control sk-hidden--visually\" id=\"sk-estimator-id-8\" type=\"checkbox\" checked><label for=\"sk-estimator-id-8\" class=\"sk-toggleable__label sk-toggleable__label-arrow\">RandomForestClassifier</label><div class=\"sk-toggleable__content\"><pre>RandomForestClassifier()</pre></div></div></div></div></div>"
      ],
      "text/plain": [
       "RandomForestClassifier()"
      ]
     },
     "execution_count": 103,
     "metadata": {},
     "output_type": "execute_result"
    }
   ],
   "source": [
    "rfc.fit(x_train,y_train)"
   ]
  },
  {
   "cell_type": "code",
   "execution_count": 104,
   "id": "0adc6655",
   "metadata": {},
   "outputs": [],
   "source": [
    "rfc_train_pred=rfc.predict(x_train)\n",
    "rfc_test_pred=rfc.predict(x_test)"
   ]
  },
  {
   "cell_type": "code",
   "execution_count": 105,
   "id": "3a673bfc",
   "metadata": {},
   "outputs": [
    {
     "name": "stdout",
     "output_type": "stream",
     "text": [
      "\n",
      "\n",
      "Training SCORE FOR THE RandomForestClassifier() is 100.0\n",
      "\n",
      "\n",
      "CONFUSION MATRIX FOR THE TRAINIG\n",
      "\n",
      "\n",
      " [[ 94   0]\n",
      " [  0 121]]\n",
      "\n",
      "\n",
      "CLASSIFICATION REPORT for training --\n",
      "\n",
      "\n",
      "               precision    recall  f1-score   support\n",
      "\n",
      "           0       1.00      1.00      1.00        94\n",
      "           1       1.00      1.00      1.00       121\n",
      "\n",
      "    accuracy                           1.00       215\n",
      "   macro avg       1.00      1.00      1.00       215\n",
      "weighted avg       1.00      1.00      1.00       215\n",
      "\n",
      "\n",
      "\n",
      "Testing SCORE FOR THE RandomForestClassifier() is 98.15\n",
      "\n",
      "\n",
      "CONFUSION MATRIX FOR THE TESTING\n",
      "\n",
      "\n",
      " [[21  0]\n",
      " [ 1 32]]\n",
      "\n",
      "\n",
      "CLASSIFICATION REPORT for testing --\n",
      "\n",
      "\n",
      "               precision    recall  f1-score   support\n",
      "\n",
      "           0       0.95      1.00      0.98        21\n",
      "           1       1.00      0.97      0.98        33\n",
      "\n",
      "    accuracy                           0.98        54\n",
      "   macro avg       0.98      0.98      0.98        54\n",
      "weighted avg       0.98      0.98      0.98        54\n",
      "\n"
     ]
    }
   ],
   "source": [
    "score(rfc,x_train,x_test,y_train,y_test,train=True)\n",
    "score(rfc,x_train,x_test,y_train,y_test,train=False)"
   ]
  },
  {
   "cell_type": "markdown",
   "id": "ba5abbb1",
   "metadata": {},
   "source": [
    "HYPER PARAMETER TUNING FOR RANDOM FOREST CLASSIFIER --------------------------"
   ]
  },
  {
   "cell_type": "code",
   "execution_count": 106,
   "id": "0482a003",
   "metadata": {},
   "outputs": [
    {
     "data": {
      "text/plain": [
       "dict_keys(['bootstrap', 'ccp_alpha', 'class_weight', 'criterion', 'max_depth', 'max_features', 'max_leaf_nodes', 'max_samples', 'min_impurity_decrease', 'min_samples_leaf', 'min_samples_split', 'min_weight_fraction_leaf', 'n_estimators', 'n_jobs', 'oob_score', 'random_state', 'verbose', 'warm_start'])"
      ]
     },
     "execution_count": 106,
     "metadata": {},
     "output_type": "execute_result"
    }
   ],
   "source": [
    "rfc.get_params().keys()"
   ]
  },
  {
   "cell_type": "code",
   "execution_count": 107,
   "id": "a19bc753",
   "metadata": {},
   "outputs": [],
   "source": [
    "rfc=RandomForestClassifier()"
   ]
  },
  {
   "cell_type": "code",
   "execution_count": 108,
   "id": "83803bd9",
   "metadata": {},
   "outputs": [],
   "source": [
    "parma={\"n_estimators\":np.arange(50,60),\n",
    "      \"criterion\":[\"gini\", \"entropy\", \"log_loss\"],\n",
    "       \"min_samples_split\":np.arange(2,5),\n",
    "       \"oob_score\":[True,False],\n",
    "       }"
   ]
  },
  {
   "cell_type": "code",
   "execution_count": 109,
   "id": "0ccff955",
   "metadata": {},
   "outputs": [],
   "source": [
    "rgsc=GridSearchCV(rfc,param_grid=parma)"
   ]
  },
  {
   "cell_type": "code",
   "execution_count": 110,
   "id": "d6cffa56",
   "metadata": {},
   "outputs": [
    {
     "data": {
      "text/html": [
       "<style>#sk-container-id-5 {color: black;background-color: white;}#sk-container-id-5 pre{padding: 0;}#sk-container-id-5 div.sk-toggleable {background-color: white;}#sk-container-id-5 label.sk-toggleable__label {cursor: pointer;display: block;width: 100%;margin-bottom: 0;padding: 0.3em;box-sizing: border-box;text-align: center;}#sk-container-id-5 label.sk-toggleable__label-arrow:before {content: \"▸\";float: left;margin-right: 0.25em;color: #696969;}#sk-container-id-5 label.sk-toggleable__label-arrow:hover:before {color: black;}#sk-container-id-5 div.sk-estimator:hover label.sk-toggleable__label-arrow:before {color: black;}#sk-container-id-5 div.sk-toggleable__content {max-height: 0;max-width: 0;overflow: hidden;text-align: left;background-color: #f0f8ff;}#sk-container-id-5 div.sk-toggleable__content pre {margin: 0.2em;color: black;border-radius: 0.25em;background-color: #f0f8ff;}#sk-container-id-5 input.sk-toggleable__control:checked~div.sk-toggleable__content {max-height: 200px;max-width: 100%;overflow: auto;}#sk-container-id-5 input.sk-toggleable__control:checked~label.sk-toggleable__label-arrow:before {content: \"▾\";}#sk-container-id-5 div.sk-estimator input.sk-toggleable__control:checked~label.sk-toggleable__label {background-color: #d4ebff;}#sk-container-id-5 div.sk-label input.sk-toggleable__control:checked~label.sk-toggleable__label {background-color: #d4ebff;}#sk-container-id-5 input.sk-hidden--visually {border: 0;clip: rect(1px 1px 1px 1px);clip: rect(1px, 1px, 1px, 1px);height: 1px;margin: -1px;overflow: hidden;padding: 0;position: absolute;width: 1px;}#sk-container-id-5 div.sk-estimator {font-family: monospace;background-color: #f0f8ff;border: 1px dotted black;border-radius: 0.25em;box-sizing: border-box;margin-bottom: 0.5em;}#sk-container-id-5 div.sk-estimator:hover {background-color: #d4ebff;}#sk-container-id-5 div.sk-parallel-item::after {content: \"\";width: 100%;border-bottom: 1px solid gray;flex-grow: 1;}#sk-container-id-5 div.sk-label:hover label.sk-toggleable__label {background-color: #d4ebff;}#sk-container-id-5 div.sk-serial::before {content: \"\";position: absolute;border-left: 1px solid gray;box-sizing: border-box;top: 0;bottom: 0;left: 50%;z-index: 0;}#sk-container-id-5 div.sk-serial {display: flex;flex-direction: column;align-items: center;background-color: white;padding-right: 0.2em;padding-left: 0.2em;position: relative;}#sk-container-id-5 div.sk-item {position: relative;z-index: 1;}#sk-container-id-5 div.sk-parallel {display: flex;align-items: stretch;justify-content: center;background-color: white;position: relative;}#sk-container-id-5 div.sk-item::before, #sk-container-id-5 div.sk-parallel-item::before {content: \"\";position: absolute;border-left: 1px solid gray;box-sizing: border-box;top: 0;bottom: 0;left: 50%;z-index: -1;}#sk-container-id-5 div.sk-parallel-item {display: flex;flex-direction: column;z-index: 1;position: relative;background-color: white;}#sk-container-id-5 div.sk-parallel-item:first-child::after {align-self: flex-end;width: 50%;}#sk-container-id-5 div.sk-parallel-item:last-child::after {align-self: flex-start;width: 50%;}#sk-container-id-5 div.sk-parallel-item:only-child::after {width: 0;}#sk-container-id-5 div.sk-dashed-wrapped {border: 1px dashed gray;margin: 0 0.4em 0.5em 0.4em;box-sizing: border-box;padding-bottom: 0.4em;background-color: white;}#sk-container-id-5 div.sk-label label {font-family: monospace;font-weight: bold;display: inline-block;line-height: 1.2em;}#sk-container-id-5 div.sk-label-container {text-align: center;}#sk-container-id-5 div.sk-container {/* jupyter's `normalize.less` sets `[hidden] { display: none; }` but bootstrap.min.css set `[hidden] { display: none !important; }` so we also need the `!important` here to be able to override the default hidden behavior on the sphinx rendered scikit-learn.org. See: https://github.com/scikit-learn/scikit-learn/issues/21755 */display: inline-block !important;position: relative;}#sk-container-id-5 div.sk-text-repr-fallback {display: none;}</style><div id=\"sk-container-id-5\" class=\"sk-top-container\"><div class=\"sk-text-repr-fallback\"><pre>GridSearchCV(estimator=RandomForestClassifier(),\n",
       "             param_grid={&#x27;criterion&#x27;: [&#x27;gini&#x27;, &#x27;entropy&#x27;, &#x27;log_loss&#x27;],\n",
       "                         &#x27;min_samples_split&#x27;: array([2, 3, 4]),\n",
       "                         &#x27;n_estimators&#x27;: array([50, 51, 52, 53, 54, 55, 56, 57, 58, 59]),\n",
       "                         &#x27;oob_score&#x27;: [True, False]})</pre><b>In a Jupyter environment, please rerun this cell to show the HTML representation or trust the notebook. <br />On GitHub, the HTML representation is unable to render, please try loading this page with nbviewer.org.</b></div><div class=\"sk-container\" hidden><div class=\"sk-item sk-dashed-wrapped\"><div class=\"sk-label-container\"><div class=\"sk-label sk-toggleable\"><input class=\"sk-toggleable__control sk-hidden--visually\" id=\"sk-estimator-id-9\" type=\"checkbox\" ><label for=\"sk-estimator-id-9\" class=\"sk-toggleable__label sk-toggleable__label-arrow\">GridSearchCV</label><div class=\"sk-toggleable__content\"><pre>GridSearchCV(estimator=RandomForestClassifier(),\n",
       "             param_grid={&#x27;criterion&#x27;: [&#x27;gini&#x27;, &#x27;entropy&#x27;, &#x27;log_loss&#x27;],\n",
       "                         &#x27;min_samples_split&#x27;: array([2, 3, 4]),\n",
       "                         &#x27;n_estimators&#x27;: array([50, 51, 52, 53, 54, 55, 56, 57, 58, 59]),\n",
       "                         &#x27;oob_score&#x27;: [True, False]})</pre></div></div></div><div class=\"sk-parallel\"><div class=\"sk-parallel-item\"><div class=\"sk-item\"><div class=\"sk-label-container\"><div class=\"sk-label sk-toggleable\"><input class=\"sk-toggleable__control sk-hidden--visually\" id=\"sk-estimator-id-10\" type=\"checkbox\" ><label for=\"sk-estimator-id-10\" class=\"sk-toggleable__label sk-toggleable__label-arrow\">estimator: RandomForestClassifier</label><div class=\"sk-toggleable__content\"><pre>RandomForestClassifier()</pre></div></div></div><div class=\"sk-serial\"><div class=\"sk-item\"><div class=\"sk-estimator sk-toggleable\"><input class=\"sk-toggleable__control sk-hidden--visually\" id=\"sk-estimator-id-11\" type=\"checkbox\" ><label for=\"sk-estimator-id-11\" class=\"sk-toggleable__label sk-toggleable__label-arrow\">RandomForestClassifier</label><div class=\"sk-toggleable__content\"><pre>RandomForestClassifier()</pre></div></div></div></div></div></div></div></div></div></div>"
      ],
      "text/plain": [
       "GridSearchCV(estimator=RandomForestClassifier(),\n",
       "             param_grid={'criterion': ['gini', 'entropy', 'log_loss'],\n",
       "                         'min_samples_split': array([2, 3, 4]),\n",
       "                         'n_estimators': array([50, 51, 52, 53, 54, 55, 56, 57, 58, 59]),\n",
       "                         'oob_score': [True, False]})"
      ]
     },
     "execution_count": 110,
     "metadata": {},
     "output_type": "execute_result"
    }
   ],
   "source": [
    "rgsc.fit(x_train,y_train)"
   ]
  },
  {
   "cell_type": "code",
   "execution_count": 111,
   "id": "b025e0c0",
   "metadata": {},
   "outputs": [
    {
     "data": {
      "text/plain": [
       "{'criterion': 'entropy',\n",
       " 'min_samples_split': 2,\n",
       " 'n_estimators': 58,\n",
       " 'oob_score': True}"
      ]
     },
     "execution_count": 111,
     "metadata": {},
     "output_type": "execute_result"
    }
   ],
   "source": [
    "rgsc.best_params_"
   ]
  },
  {
   "cell_type": "code",
   "execution_count": 112,
   "id": "5762adfc",
   "metadata": {},
   "outputs": [],
   "source": [
    "rfc=rgsc.best_estimator_"
   ]
  },
  {
   "cell_type": "code",
   "execution_count": 113,
   "id": "0ac3be60",
   "metadata": {},
   "outputs": [
    {
     "name": "stdout",
     "output_type": "stream",
     "text": [
      "\n",
      "\n",
      "Training SCORE FOR THE RandomForestClassifier(criterion='entropy', n_estimators=58, oob_score=True) is 100.0\n",
      "\n",
      "\n",
      "CONFUSION MATRIX FOR THE TRAINIG\n",
      "\n",
      "\n",
      " [[ 94   0]\n",
      " [  0 121]]\n",
      "\n",
      "\n",
      "CLASSIFICATION REPORT for training --\n",
      "\n",
      "\n",
      "               precision    recall  f1-score   support\n",
      "\n",
      "           0       1.00      1.00      1.00        94\n",
      "           1       1.00      1.00      1.00       121\n",
      "\n",
      "    accuracy                           1.00       215\n",
      "   macro avg       1.00      1.00      1.00       215\n",
      "weighted avg       1.00      1.00      1.00       215\n",
      "\n",
      "\n",
      "\n",
      "Testing SCORE FOR THE RandomForestClassifier(criterion='entropy', n_estimators=58, oob_score=True) is 96.3\n",
      "\n",
      "\n",
      "CONFUSION MATRIX FOR THE TESTING\n",
      "\n",
      "\n",
      " [[20  1]\n",
      " [ 1 32]]\n",
      "\n",
      "\n",
      "CLASSIFICATION REPORT for testing --\n",
      "\n",
      "\n",
      "               precision    recall  f1-score   support\n",
      "\n",
      "           0       0.95      0.95      0.95        21\n",
      "           1       0.97      0.97      0.97        33\n",
      "\n",
      "    accuracy                           0.96        54\n",
      "   macro avg       0.96      0.96      0.96        54\n",
      "weighted avg       0.96      0.96      0.96        54\n",
      "\n"
     ]
    }
   ],
   "source": [
    "score(rfc,x_train,x_test,y_train,y_test,train=True)\n",
    "score(rfc,x_train,x_test,y_train,y_test,train=False)"
   ]
  },
  {
   "cell_type": "code",
   "execution_count": 114,
   "id": "3a5cd366",
   "metadata": {},
   "outputs": [],
   "source": [
    "test_pred=rfc.predict(x_test)\n",
    "rfc_test_accuracy=round(accuracy_score(y_test,test_pred)*100,2)"
   ]
  },
  {
   "cell_type": "code",
   "execution_count": 115,
   "id": "9d5c42c3",
   "metadata": {},
   "outputs": [],
   "source": [
    "cross_val=cross_val_score(rfc,x_scaled,y,cv=5).mean()"
   ]
  },
  {
   "cell_type": "code",
   "execution_count": 116,
   "id": "9af90166",
   "metadata": {},
   "outputs": [
    {
     "name": "stdout",
     "output_type": "stream",
     "text": [
      "\n",
      "CROSS VAL SCORE IS  95.91\n",
      "\n",
      "TEST ACCURACY SCORE IS  96.3\n"
     ]
    }
   ],
   "source": [
    "print('\\nCROSS VAL SCORE IS ',round(cross_val*100,2))\n",
    "print(\"\\nTEST ACCURACY SCORE IS \",rfc_test_accuracy)"
   ]
  },
  {
   "cell_type": "markdown",
   "id": "9fbae610",
   "metadata": {},
   "source": [
    "SINCE THE CROSS VAL SCORE IS ALMOST EQUAL TO TEST ACCURACY SCORE WE CAN CONTINUE WITH THESE PARAMETERS"
   ]
  },
  {
   "cell_type": "markdown",
   "id": "9ae291f8",
   "metadata": {},
   "source": [
    "MODEL 4)-BAGGING CLASSIFIER\n",
    "---------------------------------------------------------"
   ]
  },
  {
   "cell_type": "code",
   "execution_count": 117,
   "id": "03899eff",
   "metadata": {},
   "outputs": [],
   "source": [
    "from sklearn.ensemble import BaggingClassifier"
   ]
  },
  {
   "cell_type": "code",
   "execution_count": 118,
   "id": "043f74f8",
   "metadata": {},
   "outputs": [],
   "source": [
    "bc=BaggingClassifier()"
   ]
  },
  {
   "cell_type": "code",
   "execution_count": 119,
   "id": "f5775ae2",
   "metadata": {},
   "outputs": [
    {
     "name": "stdout",
     "output_type": "stream",
     "text": [
      "\n",
      "\n",
      "Training SCORE FOR THE BaggingClassifier() is 100.0\n",
      "\n",
      "\n",
      "CONFUSION MATRIX FOR THE TRAINIG\n",
      "\n",
      "\n",
      " [[ 94   0]\n",
      " [  0 121]]\n",
      "\n",
      "\n",
      "CLASSIFICATION REPORT for training --\n",
      "\n",
      "\n",
      "               precision    recall  f1-score   support\n",
      "\n",
      "           0       1.00      1.00      1.00        94\n",
      "           1       1.00      1.00      1.00       121\n",
      "\n",
      "    accuracy                           1.00       215\n",
      "   macro avg       1.00      1.00      1.00       215\n",
      "weighted avg       1.00      1.00      1.00       215\n",
      "\n",
      "\n",
      "\n",
      "Testing SCORE FOR THE BaggingClassifier() is 94.44\n",
      "\n",
      "\n",
      "CONFUSION MATRIX FOR THE TESTING\n",
      "\n",
      "\n",
      " [[20  1]\n",
      " [ 2 31]]\n",
      "\n",
      "\n",
      "CLASSIFICATION REPORT for testing --\n",
      "\n",
      "\n",
      "               precision    recall  f1-score   support\n",
      "\n",
      "           0       0.91      0.95      0.93        21\n",
      "           1       0.97      0.94      0.95        33\n",
      "\n",
      "    accuracy                           0.94        54\n",
      "   macro avg       0.94      0.95      0.94        54\n",
      "weighted avg       0.95      0.94      0.94        54\n",
      "\n"
     ]
    }
   ],
   "source": [
    "score(bc,x_train,x_test,y_train,y_test,train=True)\n",
    "score(bc,x_train,x_test,y_train,y_test,train=False)"
   ]
  },
  {
   "cell_type": "markdown",
   "id": "0dd4e303",
   "metadata": {},
   "source": [
    "HYPER PARAMETER TUNING FOR BAGGING CLASSIFIER"
   ]
  },
  {
   "cell_type": "code",
   "execution_count": 120,
   "id": "dc585cda",
   "metadata": {},
   "outputs": [],
   "source": [
    "bc=BaggingClassifier()"
   ]
  },
  {
   "cell_type": "code",
   "execution_count": 121,
   "id": "dda36da9",
   "metadata": {},
   "outputs": [],
   "source": [
    "par={\"n_estimators\":np.arange(50,60),\n",
    "    \"oob_score\":[True,False],\n",
    "    \"random_state\":[200,220,275,300,375,350,325],\n",
    "    }"
   ]
  },
  {
   "cell_type": "code",
   "execution_count": 122,
   "id": "7ae2c0c0",
   "metadata": {},
   "outputs": [],
   "source": [
    "bcgs=GridSearchCV(bc,param_grid=par)"
   ]
  },
  {
   "cell_type": "code",
   "execution_count": 123,
   "id": "9b6957e6",
   "metadata": {},
   "outputs": [
    {
     "data": {
      "text/html": [
       "<style>#sk-container-id-6 {color: black;background-color: white;}#sk-container-id-6 pre{padding: 0;}#sk-container-id-6 div.sk-toggleable {background-color: white;}#sk-container-id-6 label.sk-toggleable__label {cursor: pointer;display: block;width: 100%;margin-bottom: 0;padding: 0.3em;box-sizing: border-box;text-align: center;}#sk-container-id-6 label.sk-toggleable__label-arrow:before {content: \"▸\";float: left;margin-right: 0.25em;color: #696969;}#sk-container-id-6 label.sk-toggleable__label-arrow:hover:before {color: black;}#sk-container-id-6 div.sk-estimator:hover label.sk-toggleable__label-arrow:before {color: black;}#sk-container-id-6 div.sk-toggleable__content {max-height: 0;max-width: 0;overflow: hidden;text-align: left;background-color: #f0f8ff;}#sk-container-id-6 div.sk-toggleable__content pre {margin: 0.2em;color: black;border-radius: 0.25em;background-color: #f0f8ff;}#sk-container-id-6 input.sk-toggleable__control:checked~div.sk-toggleable__content {max-height: 200px;max-width: 100%;overflow: auto;}#sk-container-id-6 input.sk-toggleable__control:checked~label.sk-toggleable__label-arrow:before {content: \"▾\";}#sk-container-id-6 div.sk-estimator input.sk-toggleable__control:checked~label.sk-toggleable__label {background-color: #d4ebff;}#sk-container-id-6 div.sk-label input.sk-toggleable__control:checked~label.sk-toggleable__label {background-color: #d4ebff;}#sk-container-id-6 input.sk-hidden--visually {border: 0;clip: rect(1px 1px 1px 1px);clip: rect(1px, 1px, 1px, 1px);height: 1px;margin: -1px;overflow: hidden;padding: 0;position: absolute;width: 1px;}#sk-container-id-6 div.sk-estimator {font-family: monospace;background-color: #f0f8ff;border: 1px dotted black;border-radius: 0.25em;box-sizing: border-box;margin-bottom: 0.5em;}#sk-container-id-6 div.sk-estimator:hover {background-color: #d4ebff;}#sk-container-id-6 div.sk-parallel-item::after {content: \"\";width: 100%;border-bottom: 1px solid gray;flex-grow: 1;}#sk-container-id-6 div.sk-label:hover label.sk-toggleable__label {background-color: #d4ebff;}#sk-container-id-6 div.sk-serial::before {content: \"\";position: absolute;border-left: 1px solid gray;box-sizing: border-box;top: 0;bottom: 0;left: 50%;z-index: 0;}#sk-container-id-6 div.sk-serial {display: flex;flex-direction: column;align-items: center;background-color: white;padding-right: 0.2em;padding-left: 0.2em;position: relative;}#sk-container-id-6 div.sk-item {position: relative;z-index: 1;}#sk-container-id-6 div.sk-parallel {display: flex;align-items: stretch;justify-content: center;background-color: white;position: relative;}#sk-container-id-6 div.sk-item::before, #sk-container-id-6 div.sk-parallel-item::before {content: \"\";position: absolute;border-left: 1px solid gray;box-sizing: border-box;top: 0;bottom: 0;left: 50%;z-index: -1;}#sk-container-id-6 div.sk-parallel-item {display: flex;flex-direction: column;z-index: 1;position: relative;background-color: white;}#sk-container-id-6 div.sk-parallel-item:first-child::after {align-self: flex-end;width: 50%;}#sk-container-id-6 div.sk-parallel-item:last-child::after {align-self: flex-start;width: 50%;}#sk-container-id-6 div.sk-parallel-item:only-child::after {width: 0;}#sk-container-id-6 div.sk-dashed-wrapped {border: 1px dashed gray;margin: 0 0.4em 0.5em 0.4em;box-sizing: border-box;padding-bottom: 0.4em;background-color: white;}#sk-container-id-6 div.sk-label label {font-family: monospace;font-weight: bold;display: inline-block;line-height: 1.2em;}#sk-container-id-6 div.sk-label-container {text-align: center;}#sk-container-id-6 div.sk-container {/* jupyter's `normalize.less` sets `[hidden] { display: none; }` but bootstrap.min.css set `[hidden] { display: none !important; }` so we also need the `!important` here to be able to override the default hidden behavior on the sphinx rendered scikit-learn.org. See: https://github.com/scikit-learn/scikit-learn/issues/21755 */display: inline-block !important;position: relative;}#sk-container-id-6 div.sk-text-repr-fallback {display: none;}</style><div id=\"sk-container-id-6\" class=\"sk-top-container\"><div class=\"sk-text-repr-fallback\"><pre>GridSearchCV(estimator=BaggingClassifier(),\n",
       "             param_grid={&#x27;n_estimators&#x27;: array([50, 51, 52, 53, 54, 55, 56, 57, 58, 59]),\n",
       "                         &#x27;oob_score&#x27;: [True, False],\n",
       "                         &#x27;random_state&#x27;: [200, 220, 275, 300, 375, 350, 325]})</pre><b>In a Jupyter environment, please rerun this cell to show the HTML representation or trust the notebook. <br />On GitHub, the HTML representation is unable to render, please try loading this page with nbviewer.org.</b></div><div class=\"sk-container\" hidden><div class=\"sk-item sk-dashed-wrapped\"><div class=\"sk-label-container\"><div class=\"sk-label sk-toggleable\"><input class=\"sk-toggleable__control sk-hidden--visually\" id=\"sk-estimator-id-12\" type=\"checkbox\" ><label for=\"sk-estimator-id-12\" class=\"sk-toggleable__label sk-toggleable__label-arrow\">GridSearchCV</label><div class=\"sk-toggleable__content\"><pre>GridSearchCV(estimator=BaggingClassifier(),\n",
       "             param_grid={&#x27;n_estimators&#x27;: array([50, 51, 52, 53, 54, 55, 56, 57, 58, 59]),\n",
       "                         &#x27;oob_score&#x27;: [True, False],\n",
       "                         &#x27;random_state&#x27;: [200, 220, 275, 300, 375, 350, 325]})</pre></div></div></div><div class=\"sk-parallel\"><div class=\"sk-parallel-item\"><div class=\"sk-item\"><div class=\"sk-label-container\"><div class=\"sk-label sk-toggleable\"><input class=\"sk-toggleable__control sk-hidden--visually\" id=\"sk-estimator-id-13\" type=\"checkbox\" ><label for=\"sk-estimator-id-13\" class=\"sk-toggleable__label sk-toggleable__label-arrow\">estimator: BaggingClassifier</label><div class=\"sk-toggleable__content\"><pre>BaggingClassifier()</pre></div></div></div><div class=\"sk-serial\"><div class=\"sk-item\"><div class=\"sk-estimator sk-toggleable\"><input class=\"sk-toggleable__control sk-hidden--visually\" id=\"sk-estimator-id-14\" type=\"checkbox\" ><label for=\"sk-estimator-id-14\" class=\"sk-toggleable__label sk-toggleable__label-arrow\">BaggingClassifier</label><div class=\"sk-toggleable__content\"><pre>BaggingClassifier()</pre></div></div></div></div></div></div></div></div></div></div>"
      ],
      "text/plain": [
       "GridSearchCV(estimator=BaggingClassifier(),\n",
       "             param_grid={'n_estimators': array([50, 51, 52, 53, 54, 55, 56, 57, 58, 59]),\n",
       "                         'oob_score': [True, False],\n",
       "                         'random_state': [200, 220, 275, 300, 375, 350, 325]})"
      ]
     },
     "execution_count": 123,
     "metadata": {},
     "output_type": "execute_result"
    }
   ],
   "source": [
    "bcgs.fit(x_train,y_train)"
   ]
  },
  {
   "cell_type": "code",
   "execution_count": 124,
   "id": "28054c93",
   "metadata": {},
   "outputs": [
    {
     "data": {
      "text/plain": [
       "{'n_estimators': 50, 'oob_score': True, 'random_state': 200}"
      ]
     },
     "execution_count": 124,
     "metadata": {},
     "output_type": "execute_result"
    }
   ],
   "source": [
    "bcgs.best_params_"
   ]
  },
  {
   "cell_type": "code",
   "execution_count": 125,
   "id": "d4c76841",
   "metadata": {},
   "outputs": [],
   "source": [
    "bc=bcgs.best_estimator_"
   ]
  },
  {
   "cell_type": "code",
   "execution_count": 126,
   "id": "b14ffd26",
   "metadata": {},
   "outputs": [
    {
     "name": "stdout",
     "output_type": "stream",
     "text": [
      "\n",
      "\n",
      "Training SCORE FOR THE BaggingClassifier(n_estimators=50, oob_score=True, random_state=200) is 100.0\n",
      "\n",
      "\n",
      "CONFUSION MATRIX FOR THE TRAINIG\n",
      "\n",
      "\n",
      " [[ 94   0]\n",
      " [  0 121]]\n",
      "\n",
      "\n",
      "CLASSIFICATION REPORT for training --\n",
      "\n",
      "\n",
      "               precision    recall  f1-score   support\n",
      "\n",
      "           0       1.00      1.00      1.00        94\n",
      "           1       1.00      1.00      1.00       121\n",
      "\n",
      "    accuracy                           1.00       215\n",
      "   macro avg       1.00      1.00      1.00       215\n",
      "weighted avg       1.00      1.00      1.00       215\n",
      "\n",
      "\n",
      "\n",
      "Testing SCORE FOR THE BaggingClassifier(n_estimators=50, oob_score=True, random_state=200) is 96.3\n",
      "\n",
      "\n",
      "CONFUSION MATRIX FOR THE TESTING\n",
      "\n",
      "\n",
      " [[20  1]\n",
      " [ 1 32]]\n",
      "\n",
      "\n",
      "CLASSIFICATION REPORT for testing --\n",
      "\n",
      "\n",
      "               precision    recall  f1-score   support\n",
      "\n",
      "           0       0.95      0.95      0.95        21\n",
      "           1       0.97      0.97      0.97        33\n",
      "\n",
      "    accuracy                           0.96        54\n",
      "   macro avg       0.96      0.96      0.96        54\n",
      "weighted avg       0.96      0.96      0.96        54\n",
      "\n"
     ]
    }
   ],
   "source": [
    "score(bc,x_train,x_test,y_train,y_test,train=True)\n",
    "score(bc,x_train,x_test,y_train,y_test,train=False)"
   ]
  },
  {
   "cell_type": "code",
   "execution_count": 146,
   "id": "5e888c56",
   "metadata": {},
   "outputs": [],
   "source": [
    "test_pred=bc.predict(x_test)\n",
    "bc_test_accuracy=round(accuracy_score(y_test,test_pred)*100,2)"
   ]
  },
  {
   "cell_type": "code",
   "execution_count": 147,
   "id": "e5d19466",
   "metadata": {},
   "outputs": [],
   "source": [
    "cross_val=cross_val_score(bc,x_scaled,y,cv=5).mean()"
   ]
  },
  {
   "cell_type": "code",
   "execution_count": 148,
   "id": "efb20a8e",
   "metadata": {},
   "outputs": [
    {
     "name": "stdout",
     "output_type": "stream",
     "text": [
      "\n",
      "CROSS VAL SCORE IS  95.53\n",
      "\n",
      "TEST ACCURACY SCORE IS  96.3\n"
     ]
    }
   ],
   "source": [
    "print('\\nCROSS VAL SCORE IS ',round(cross_val*100,2))\n",
    "print(\"\\nTEST ACCURACY SCORE IS \",bc_test_accuracy)"
   ]
  },
  {
   "cell_type": "markdown",
   "id": "07ab2183",
   "metadata": {},
   "source": [
    "SINCE THE DIFFERENCE IS NOT MUCH BETWEEN CROSS VAL SCORE AND TEST ACCURACY SCORE WE CAN PROCEED WITH THESE PARAMETERS"
   ]
  },
  {
   "cell_type": "markdown",
   "id": "f11c1a8d",
   "metadata": {},
   "source": [
    "MODEL 5)----KNN\n",
    "-----------------------------"
   ]
  },
  {
   "cell_type": "code",
   "execution_count": 149,
   "id": "bf351a89",
   "metadata": {},
   "outputs": [],
   "source": [
    "from sklearn.neighbors import KNeighborsClassifier"
   ]
  },
  {
   "cell_type": "code",
   "execution_count": 150,
   "id": "7487da4f",
   "metadata": {},
   "outputs": [],
   "source": [
    "knn=KNeighborsClassifier()"
   ]
  },
  {
   "cell_type": "code",
   "execution_count": 151,
   "id": "b26997a8",
   "metadata": {},
   "outputs": [
    {
     "data": {
      "text/html": [
       "<style>#sk-container-id-10 {color: black;background-color: white;}#sk-container-id-10 pre{padding: 0;}#sk-container-id-10 div.sk-toggleable {background-color: white;}#sk-container-id-10 label.sk-toggleable__label {cursor: pointer;display: block;width: 100%;margin-bottom: 0;padding: 0.3em;box-sizing: border-box;text-align: center;}#sk-container-id-10 label.sk-toggleable__label-arrow:before {content: \"▸\";float: left;margin-right: 0.25em;color: #696969;}#sk-container-id-10 label.sk-toggleable__label-arrow:hover:before {color: black;}#sk-container-id-10 div.sk-estimator:hover label.sk-toggleable__label-arrow:before {color: black;}#sk-container-id-10 div.sk-toggleable__content {max-height: 0;max-width: 0;overflow: hidden;text-align: left;background-color: #f0f8ff;}#sk-container-id-10 div.sk-toggleable__content pre {margin: 0.2em;color: black;border-radius: 0.25em;background-color: #f0f8ff;}#sk-container-id-10 input.sk-toggleable__control:checked~div.sk-toggleable__content {max-height: 200px;max-width: 100%;overflow: auto;}#sk-container-id-10 input.sk-toggleable__control:checked~label.sk-toggleable__label-arrow:before {content: \"▾\";}#sk-container-id-10 div.sk-estimator input.sk-toggleable__control:checked~label.sk-toggleable__label {background-color: #d4ebff;}#sk-container-id-10 div.sk-label input.sk-toggleable__control:checked~label.sk-toggleable__label {background-color: #d4ebff;}#sk-container-id-10 input.sk-hidden--visually {border: 0;clip: rect(1px 1px 1px 1px);clip: rect(1px, 1px, 1px, 1px);height: 1px;margin: -1px;overflow: hidden;padding: 0;position: absolute;width: 1px;}#sk-container-id-10 div.sk-estimator {font-family: monospace;background-color: #f0f8ff;border: 1px dotted black;border-radius: 0.25em;box-sizing: border-box;margin-bottom: 0.5em;}#sk-container-id-10 div.sk-estimator:hover {background-color: #d4ebff;}#sk-container-id-10 div.sk-parallel-item::after {content: \"\";width: 100%;border-bottom: 1px solid gray;flex-grow: 1;}#sk-container-id-10 div.sk-label:hover label.sk-toggleable__label {background-color: #d4ebff;}#sk-container-id-10 div.sk-serial::before {content: \"\";position: absolute;border-left: 1px solid gray;box-sizing: border-box;top: 0;bottom: 0;left: 50%;z-index: 0;}#sk-container-id-10 div.sk-serial {display: flex;flex-direction: column;align-items: center;background-color: white;padding-right: 0.2em;padding-left: 0.2em;position: relative;}#sk-container-id-10 div.sk-item {position: relative;z-index: 1;}#sk-container-id-10 div.sk-parallel {display: flex;align-items: stretch;justify-content: center;background-color: white;position: relative;}#sk-container-id-10 div.sk-item::before, #sk-container-id-10 div.sk-parallel-item::before {content: \"\";position: absolute;border-left: 1px solid gray;box-sizing: border-box;top: 0;bottom: 0;left: 50%;z-index: -1;}#sk-container-id-10 div.sk-parallel-item {display: flex;flex-direction: column;z-index: 1;position: relative;background-color: white;}#sk-container-id-10 div.sk-parallel-item:first-child::after {align-self: flex-end;width: 50%;}#sk-container-id-10 div.sk-parallel-item:last-child::after {align-self: flex-start;width: 50%;}#sk-container-id-10 div.sk-parallel-item:only-child::after {width: 0;}#sk-container-id-10 div.sk-dashed-wrapped {border: 1px dashed gray;margin: 0 0.4em 0.5em 0.4em;box-sizing: border-box;padding-bottom: 0.4em;background-color: white;}#sk-container-id-10 div.sk-label label {font-family: monospace;font-weight: bold;display: inline-block;line-height: 1.2em;}#sk-container-id-10 div.sk-label-container {text-align: center;}#sk-container-id-10 div.sk-container {/* jupyter's `normalize.less` sets `[hidden] { display: none; }` but bootstrap.min.css set `[hidden] { display: none !important; }` so we also need the `!important` here to be able to override the default hidden behavior on the sphinx rendered scikit-learn.org. See: https://github.com/scikit-learn/scikit-learn/issues/21755 */display: inline-block !important;position: relative;}#sk-container-id-10 div.sk-text-repr-fallback {display: none;}</style><div id=\"sk-container-id-10\" class=\"sk-top-container\"><div class=\"sk-text-repr-fallback\"><pre>KNeighborsClassifier()</pre><b>In a Jupyter environment, please rerun this cell to show the HTML representation or trust the notebook. <br />On GitHub, the HTML representation is unable to render, please try loading this page with nbviewer.org.</b></div><div class=\"sk-container\" hidden><div class=\"sk-item\"><div class=\"sk-estimator sk-toggleable\"><input class=\"sk-toggleable__control sk-hidden--visually\" id=\"sk-estimator-id-20\" type=\"checkbox\" checked><label for=\"sk-estimator-id-20\" class=\"sk-toggleable__label sk-toggleable__label-arrow\">KNeighborsClassifier</label><div class=\"sk-toggleable__content\"><pre>KNeighborsClassifier()</pre></div></div></div></div></div>"
      ],
      "text/plain": [
       "KNeighborsClassifier()"
      ]
     },
     "execution_count": 151,
     "metadata": {},
     "output_type": "execute_result"
    }
   ],
   "source": [
    "knn.fit(x_train,y_train)"
   ]
  },
  {
   "cell_type": "code",
   "execution_count": 152,
   "id": "2ad80626",
   "metadata": {},
   "outputs": [
    {
     "name": "stdout",
     "output_type": "stream",
     "text": [
      "\n",
      "\n",
      "Training SCORE FOR THE KNeighborsClassifier() is 97.67\n",
      "\n",
      "\n",
      "CONFUSION MATRIX FOR THE TRAINIG\n",
      "\n",
      "\n",
      " [[ 92   2]\n",
      " [  3 118]]\n",
      "\n",
      "\n",
      "CLASSIFICATION REPORT for training --\n",
      "\n",
      "\n",
      "               precision    recall  f1-score   support\n",
      "\n",
      "           0       0.97      0.98      0.97        94\n",
      "           1       0.98      0.98      0.98       121\n",
      "\n",
      "    accuracy                           0.98       215\n",
      "   macro avg       0.98      0.98      0.98       215\n",
      "weighted avg       0.98      0.98      0.98       215\n",
      "\n",
      "\n",
      "\n",
      "Testing SCORE FOR THE KNeighborsClassifier() is 98.15\n",
      "\n",
      "\n",
      "CONFUSION MATRIX FOR THE TESTING\n",
      "\n",
      "\n",
      " [[21  0]\n",
      " [ 1 32]]\n",
      "\n",
      "\n",
      "CLASSIFICATION REPORT for testing --\n",
      "\n",
      "\n",
      "               precision    recall  f1-score   support\n",
      "\n",
      "           0       0.95      1.00      0.98        21\n",
      "           1       1.00      0.97      0.98        33\n",
      "\n",
      "    accuracy                           0.98        54\n",
      "   macro avg       0.98      0.98      0.98        54\n",
      "weighted avg       0.98      0.98      0.98        54\n",
      "\n"
     ]
    }
   ],
   "source": [
    "score(knn,x_train,x_test,y_train,y_test,train=True)\n",
    "score(knn,x_train,x_test,y_train,y_test,train=False)"
   ]
  },
  {
   "cell_type": "markdown",
   "id": "3e4b578d",
   "metadata": {},
   "source": [
    "HYPER PARAMETER TUNING THE PARAMETERS\n",
    "----------------------------"
   ]
  },
  {
   "cell_type": "code",
   "execution_count": 153,
   "id": "6106aa2d",
   "metadata": {},
   "outputs": [
    {
     "data": {
      "text/plain": [
       "dict_keys(['algorithm', 'leaf_size', 'metric', 'metric_params', 'n_jobs', 'n_neighbors', 'p', 'weights'])"
      ]
     },
     "execution_count": 153,
     "metadata": {},
     "output_type": "execute_result"
    }
   ],
   "source": [
    "knn.get_params().keys()"
   ]
  },
  {
   "cell_type": "code",
   "execution_count": 154,
   "id": "095fb023",
   "metadata": {},
   "outputs": [],
   "source": [
    "knn=KNeighborsClassifier()"
   ]
  },
  {
   "cell_type": "code",
   "execution_count": 155,
   "id": "3fcd9e52",
   "metadata": {},
   "outputs": [],
   "source": [
    "pop={\"algorithm\":['auto', 'ball_tree', 'kd_tree', 'brute'],\n",
    "    'n_neighbors':np.arange(3,6),\n",
    "    'leaf_size':[25,28,30,32,35,38]}"
   ]
  },
  {
   "cell_type": "code",
   "execution_count": 156,
   "id": "701ed1de",
   "metadata": {},
   "outputs": [],
   "source": [
    "kgsc=GridSearchCV(knn,param_grid=pop)"
   ]
  },
  {
   "cell_type": "code",
   "execution_count": 157,
   "id": "fe5d162e",
   "metadata": {},
   "outputs": [
    {
     "data": {
      "text/html": [
       "<style>#sk-container-id-11 {color: black;background-color: white;}#sk-container-id-11 pre{padding: 0;}#sk-container-id-11 div.sk-toggleable {background-color: white;}#sk-container-id-11 label.sk-toggleable__label {cursor: pointer;display: block;width: 100%;margin-bottom: 0;padding: 0.3em;box-sizing: border-box;text-align: center;}#sk-container-id-11 label.sk-toggleable__label-arrow:before {content: \"▸\";float: left;margin-right: 0.25em;color: #696969;}#sk-container-id-11 label.sk-toggleable__label-arrow:hover:before {color: black;}#sk-container-id-11 div.sk-estimator:hover label.sk-toggleable__label-arrow:before {color: black;}#sk-container-id-11 div.sk-toggleable__content {max-height: 0;max-width: 0;overflow: hidden;text-align: left;background-color: #f0f8ff;}#sk-container-id-11 div.sk-toggleable__content pre {margin: 0.2em;color: black;border-radius: 0.25em;background-color: #f0f8ff;}#sk-container-id-11 input.sk-toggleable__control:checked~div.sk-toggleable__content {max-height: 200px;max-width: 100%;overflow: auto;}#sk-container-id-11 input.sk-toggleable__control:checked~label.sk-toggleable__label-arrow:before {content: \"▾\";}#sk-container-id-11 div.sk-estimator input.sk-toggleable__control:checked~label.sk-toggleable__label {background-color: #d4ebff;}#sk-container-id-11 div.sk-label input.sk-toggleable__control:checked~label.sk-toggleable__label {background-color: #d4ebff;}#sk-container-id-11 input.sk-hidden--visually {border: 0;clip: rect(1px 1px 1px 1px);clip: rect(1px, 1px, 1px, 1px);height: 1px;margin: -1px;overflow: hidden;padding: 0;position: absolute;width: 1px;}#sk-container-id-11 div.sk-estimator {font-family: monospace;background-color: #f0f8ff;border: 1px dotted black;border-radius: 0.25em;box-sizing: border-box;margin-bottom: 0.5em;}#sk-container-id-11 div.sk-estimator:hover {background-color: #d4ebff;}#sk-container-id-11 div.sk-parallel-item::after {content: \"\";width: 100%;border-bottom: 1px solid gray;flex-grow: 1;}#sk-container-id-11 div.sk-label:hover label.sk-toggleable__label {background-color: #d4ebff;}#sk-container-id-11 div.sk-serial::before {content: \"\";position: absolute;border-left: 1px solid gray;box-sizing: border-box;top: 0;bottom: 0;left: 50%;z-index: 0;}#sk-container-id-11 div.sk-serial {display: flex;flex-direction: column;align-items: center;background-color: white;padding-right: 0.2em;padding-left: 0.2em;position: relative;}#sk-container-id-11 div.sk-item {position: relative;z-index: 1;}#sk-container-id-11 div.sk-parallel {display: flex;align-items: stretch;justify-content: center;background-color: white;position: relative;}#sk-container-id-11 div.sk-item::before, #sk-container-id-11 div.sk-parallel-item::before {content: \"\";position: absolute;border-left: 1px solid gray;box-sizing: border-box;top: 0;bottom: 0;left: 50%;z-index: -1;}#sk-container-id-11 div.sk-parallel-item {display: flex;flex-direction: column;z-index: 1;position: relative;background-color: white;}#sk-container-id-11 div.sk-parallel-item:first-child::after {align-self: flex-end;width: 50%;}#sk-container-id-11 div.sk-parallel-item:last-child::after {align-self: flex-start;width: 50%;}#sk-container-id-11 div.sk-parallel-item:only-child::after {width: 0;}#sk-container-id-11 div.sk-dashed-wrapped {border: 1px dashed gray;margin: 0 0.4em 0.5em 0.4em;box-sizing: border-box;padding-bottom: 0.4em;background-color: white;}#sk-container-id-11 div.sk-label label {font-family: monospace;font-weight: bold;display: inline-block;line-height: 1.2em;}#sk-container-id-11 div.sk-label-container {text-align: center;}#sk-container-id-11 div.sk-container {/* jupyter's `normalize.less` sets `[hidden] { display: none; }` but bootstrap.min.css set `[hidden] { display: none !important; }` so we also need the `!important` here to be able to override the default hidden behavior on the sphinx rendered scikit-learn.org. See: https://github.com/scikit-learn/scikit-learn/issues/21755 */display: inline-block !important;position: relative;}#sk-container-id-11 div.sk-text-repr-fallback {display: none;}</style><div id=\"sk-container-id-11\" class=\"sk-top-container\"><div class=\"sk-text-repr-fallback\"><pre>GridSearchCV(estimator=KNeighborsClassifier(),\n",
       "             param_grid={&#x27;algorithm&#x27;: [&#x27;auto&#x27;, &#x27;ball_tree&#x27;, &#x27;kd_tree&#x27;, &#x27;brute&#x27;],\n",
       "                         &#x27;leaf_size&#x27;: [25, 28, 30, 32, 35, 38],\n",
       "                         &#x27;n_neighbors&#x27;: array([3, 4, 5])})</pre><b>In a Jupyter environment, please rerun this cell to show the HTML representation or trust the notebook. <br />On GitHub, the HTML representation is unable to render, please try loading this page with nbviewer.org.</b></div><div class=\"sk-container\" hidden><div class=\"sk-item sk-dashed-wrapped\"><div class=\"sk-label-container\"><div class=\"sk-label sk-toggleable\"><input class=\"sk-toggleable__control sk-hidden--visually\" id=\"sk-estimator-id-21\" type=\"checkbox\" ><label for=\"sk-estimator-id-21\" class=\"sk-toggleable__label sk-toggleable__label-arrow\">GridSearchCV</label><div class=\"sk-toggleable__content\"><pre>GridSearchCV(estimator=KNeighborsClassifier(),\n",
       "             param_grid={&#x27;algorithm&#x27;: [&#x27;auto&#x27;, &#x27;ball_tree&#x27;, &#x27;kd_tree&#x27;, &#x27;brute&#x27;],\n",
       "                         &#x27;leaf_size&#x27;: [25, 28, 30, 32, 35, 38],\n",
       "                         &#x27;n_neighbors&#x27;: array([3, 4, 5])})</pre></div></div></div><div class=\"sk-parallel\"><div class=\"sk-parallel-item\"><div class=\"sk-item\"><div class=\"sk-label-container\"><div class=\"sk-label sk-toggleable\"><input class=\"sk-toggleable__control sk-hidden--visually\" id=\"sk-estimator-id-22\" type=\"checkbox\" ><label for=\"sk-estimator-id-22\" class=\"sk-toggleable__label sk-toggleable__label-arrow\">estimator: KNeighborsClassifier</label><div class=\"sk-toggleable__content\"><pre>KNeighborsClassifier()</pre></div></div></div><div class=\"sk-serial\"><div class=\"sk-item\"><div class=\"sk-estimator sk-toggleable\"><input class=\"sk-toggleable__control sk-hidden--visually\" id=\"sk-estimator-id-23\" type=\"checkbox\" ><label for=\"sk-estimator-id-23\" class=\"sk-toggleable__label sk-toggleable__label-arrow\">KNeighborsClassifier</label><div class=\"sk-toggleable__content\"><pre>KNeighborsClassifier()</pre></div></div></div></div></div></div></div></div></div></div>"
      ],
      "text/plain": [
       "GridSearchCV(estimator=KNeighborsClassifier(),\n",
       "             param_grid={'algorithm': ['auto', 'ball_tree', 'kd_tree', 'brute'],\n",
       "                         'leaf_size': [25, 28, 30, 32, 35, 38],\n",
       "                         'n_neighbors': array([3, 4, 5])})"
      ]
     },
     "execution_count": 157,
     "metadata": {},
     "output_type": "execute_result"
    }
   ],
   "source": [
    "kgsc.fit(x_train,y_train)"
   ]
  },
  {
   "cell_type": "code",
   "execution_count": 158,
   "id": "64429cb3",
   "metadata": {},
   "outputs": [
    {
     "data": {
      "text/plain": [
       "{'algorithm': 'auto', 'leaf_size': 25, 'n_neighbors': 4}"
      ]
     },
     "execution_count": 158,
     "metadata": {},
     "output_type": "execute_result"
    }
   ],
   "source": [
    "kgsc.best_params_"
   ]
  },
  {
   "cell_type": "code",
   "execution_count": 159,
   "id": "649ef4cd",
   "metadata": {},
   "outputs": [],
   "source": [
    "knn=kgsc.best_estimator_"
   ]
  },
  {
   "cell_type": "code",
   "execution_count": 160,
   "id": "d68a5d85",
   "metadata": {},
   "outputs": [
    {
     "name": "stdout",
     "output_type": "stream",
     "text": [
      "\n",
      "\n",
      "Training SCORE FOR THE KNeighborsClassifier(leaf_size=25, n_neighbors=4) is 98.14\n",
      "\n",
      "\n",
      "CONFUSION MATRIX FOR THE TRAINIG\n",
      "\n",
      "\n",
      " [[ 93   1]\n",
      " [  3 118]]\n",
      "\n",
      "\n",
      "CLASSIFICATION REPORT for training --\n",
      "\n",
      "\n",
      "               precision    recall  f1-score   support\n",
      "\n",
      "           0       0.97      0.99      0.98        94\n",
      "           1       0.99      0.98      0.98       121\n",
      "\n",
      "    accuracy                           0.98       215\n",
      "   macro avg       0.98      0.98      0.98       215\n",
      "weighted avg       0.98      0.98      0.98       215\n",
      "\n",
      "\n",
      "\n",
      "Testing SCORE FOR THE KNeighborsClassifier(leaf_size=25, n_neighbors=4) is 98.15\n",
      "\n",
      "\n",
      "CONFUSION MATRIX FOR THE TESTING\n",
      "\n",
      "\n",
      " [[21  0]\n",
      " [ 1 32]]\n",
      "\n",
      "\n",
      "CLASSIFICATION REPORT for testing --\n",
      "\n",
      "\n",
      "               precision    recall  f1-score   support\n",
      "\n",
      "           0       0.95      1.00      0.98        21\n",
      "           1       1.00      0.97      0.98        33\n",
      "\n",
      "    accuracy                           0.98        54\n",
      "   macro avg       0.98      0.98      0.98        54\n",
      "weighted avg       0.98      0.98      0.98        54\n",
      "\n"
     ]
    }
   ],
   "source": [
    "score(knn,x_train,x_test,y_train,y_test,train=True)\n",
    "score(knn,x_train,x_test,y_train,y_test,train=False)"
   ]
  },
  {
   "cell_type": "code",
   "execution_count": 161,
   "id": "a951b6f6",
   "metadata": {},
   "outputs": [],
   "source": [
    "test_pred=knn.predict(x_test)\n",
    "knn_test_accuracy=round(accuracy_score(y_test,test_pred)*100,2)"
   ]
  },
  {
   "cell_type": "code",
   "execution_count": 162,
   "id": "14a14fa1",
   "metadata": {},
   "outputs": [],
   "source": [
    "cross_val=cross_val_score(knn,x_scaled,y,cv=5).mean()"
   ]
  },
  {
   "cell_type": "code",
   "execution_count": 163,
   "id": "b04027f2",
   "metadata": {},
   "outputs": [
    {
     "name": "stdout",
     "output_type": "stream",
     "text": [
      "\n",
      "CROSS VAL SCORE IS  97.4\n",
      "\n",
      "TEST ACCURACY SCORE IS  98.15\n"
     ]
    }
   ],
   "source": [
    "print('\\nCROSS VAL SCORE IS ',round(cross_val*100,2))\n",
    "print(\"\\nTEST ACCURACY SCORE IS \",knn_test_accuracy)"
   ]
  },
  {
   "cell_type": "markdown",
   "id": "b83f5cd8",
   "metadata": {},
   "source": [
    "MODEL 6)-----SVC-----------\n",
    "-----------------------"
   ]
  },
  {
   "cell_type": "code",
   "execution_count": 164,
   "id": "af948573",
   "metadata": {},
   "outputs": [],
   "source": [
    "from sklearn.svm import SVC"
   ]
  },
  {
   "cell_type": "code",
   "execution_count": 165,
   "id": "615bc755",
   "metadata": {},
   "outputs": [],
   "source": [
    "svc=SVC()"
   ]
  },
  {
   "cell_type": "code",
   "execution_count": 166,
   "id": "0ed0c264",
   "metadata": {},
   "outputs": [
    {
     "data": {
      "text/html": [
       "<style>#sk-container-id-12 {color: black;background-color: white;}#sk-container-id-12 pre{padding: 0;}#sk-container-id-12 div.sk-toggleable {background-color: white;}#sk-container-id-12 label.sk-toggleable__label {cursor: pointer;display: block;width: 100%;margin-bottom: 0;padding: 0.3em;box-sizing: border-box;text-align: center;}#sk-container-id-12 label.sk-toggleable__label-arrow:before {content: \"▸\";float: left;margin-right: 0.25em;color: #696969;}#sk-container-id-12 label.sk-toggleable__label-arrow:hover:before {color: black;}#sk-container-id-12 div.sk-estimator:hover label.sk-toggleable__label-arrow:before {color: black;}#sk-container-id-12 div.sk-toggleable__content {max-height: 0;max-width: 0;overflow: hidden;text-align: left;background-color: #f0f8ff;}#sk-container-id-12 div.sk-toggleable__content pre {margin: 0.2em;color: black;border-radius: 0.25em;background-color: #f0f8ff;}#sk-container-id-12 input.sk-toggleable__control:checked~div.sk-toggleable__content {max-height: 200px;max-width: 100%;overflow: auto;}#sk-container-id-12 input.sk-toggleable__control:checked~label.sk-toggleable__label-arrow:before {content: \"▾\";}#sk-container-id-12 div.sk-estimator input.sk-toggleable__control:checked~label.sk-toggleable__label {background-color: #d4ebff;}#sk-container-id-12 div.sk-label input.sk-toggleable__control:checked~label.sk-toggleable__label {background-color: #d4ebff;}#sk-container-id-12 input.sk-hidden--visually {border: 0;clip: rect(1px 1px 1px 1px);clip: rect(1px, 1px, 1px, 1px);height: 1px;margin: -1px;overflow: hidden;padding: 0;position: absolute;width: 1px;}#sk-container-id-12 div.sk-estimator {font-family: monospace;background-color: #f0f8ff;border: 1px dotted black;border-radius: 0.25em;box-sizing: border-box;margin-bottom: 0.5em;}#sk-container-id-12 div.sk-estimator:hover {background-color: #d4ebff;}#sk-container-id-12 div.sk-parallel-item::after {content: \"\";width: 100%;border-bottom: 1px solid gray;flex-grow: 1;}#sk-container-id-12 div.sk-label:hover label.sk-toggleable__label {background-color: #d4ebff;}#sk-container-id-12 div.sk-serial::before {content: \"\";position: absolute;border-left: 1px solid gray;box-sizing: border-box;top: 0;bottom: 0;left: 50%;z-index: 0;}#sk-container-id-12 div.sk-serial {display: flex;flex-direction: column;align-items: center;background-color: white;padding-right: 0.2em;padding-left: 0.2em;position: relative;}#sk-container-id-12 div.sk-item {position: relative;z-index: 1;}#sk-container-id-12 div.sk-parallel {display: flex;align-items: stretch;justify-content: center;background-color: white;position: relative;}#sk-container-id-12 div.sk-item::before, #sk-container-id-12 div.sk-parallel-item::before {content: \"\";position: absolute;border-left: 1px solid gray;box-sizing: border-box;top: 0;bottom: 0;left: 50%;z-index: -1;}#sk-container-id-12 div.sk-parallel-item {display: flex;flex-direction: column;z-index: 1;position: relative;background-color: white;}#sk-container-id-12 div.sk-parallel-item:first-child::after {align-self: flex-end;width: 50%;}#sk-container-id-12 div.sk-parallel-item:last-child::after {align-self: flex-start;width: 50%;}#sk-container-id-12 div.sk-parallel-item:only-child::after {width: 0;}#sk-container-id-12 div.sk-dashed-wrapped {border: 1px dashed gray;margin: 0 0.4em 0.5em 0.4em;box-sizing: border-box;padding-bottom: 0.4em;background-color: white;}#sk-container-id-12 div.sk-label label {font-family: monospace;font-weight: bold;display: inline-block;line-height: 1.2em;}#sk-container-id-12 div.sk-label-container {text-align: center;}#sk-container-id-12 div.sk-container {/* jupyter's `normalize.less` sets `[hidden] { display: none; }` but bootstrap.min.css set `[hidden] { display: none !important; }` so we also need the `!important` here to be able to override the default hidden behavior on the sphinx rendered scikit-learn.org. See: https://github.com/scikit-learn/scikit-learn/issues/21755 */display: inline-block !important;position: relative;}#sk-container-id-12 div.sk-text-repr-fallback {display: none;}</style><div id=\"sk-container-id-12\" class=\"sk-top-container\"><div class=\"sk-text-repr-fallback\"><pre>SVC()</pre><b>In a Jupyter environment, please rerun this cell to show the HTML representation or trust the notebook. <br />On GitHub, the HTML representation is unable to render, please try loading this page with nbviewer.org.</b></div><div class=\"sk-container\" hidden><div class=\"sk-item\"><div class=\"sk-estimator sk-toggleable\"><input class=\"sk-toggleable__control sk-hidden--visually\" id=\"sk-estimator-id-24\" type=\"checkbox\" checked><label for=\"sk-estimator-id-24\" class=\"sk-toggleable__label sk-toggleable__label-arrow\">SVC</label><div class=\"sk-toggleable__content\"><pre>SVC()</pre></div></div></div></div></div>"
      ],
      "text/plain": [
       "SVC()"
      ]
     },
     "execution_count": 166,
     "metadata": {},
     "output_type": "execute_result"
    }
   ],
   "source": [
    "svc.fit(x_train,y_train)"
   ]
  },
  {
   "cell_type": "code",
   "execution_count": 167,
   "id": "e016cc8e",
   "metadata": {},
   "outputs": [
    {
     "name": "stdout",
     "output_type": "stream",
     "text": [
      "\n",
      "\n",
      "Training SCORE FOR THE SVC() is 98.6\n",
      "\n",
      "\n",
      "CONFUSION MATRIX FOR THE TRAINIG\n",
      "\n",
      "\n",
      " [[ 93   1]\n",
      " [  2 119]]\n",
      "\n",
      "\n",
      "CLASSIFICATION REPORT for training --\n",
      "\n",
      "\n",
      "               precision    recall  f1-score   support\n",
      "\n",
      "           0       0.98      0.99      0.98        94\n",
      "           1       0.99      0.98      0.99       121\n",
      "\n",
      "    accuracy                           0.99       215\n",
      "   macro avg       0.99      0.99      0.99       215\n",
      "weighted avg       0.99      0.99      0.99       215\n",
      "\n",
      "\n",
      "\n",
      "Testing SCORE FOR THE SVC() is 98.15\n",
      "\n",
      "\n",
      "CONFUSION MATRIX FOR THE TESTING\n",
      "\n",
      "\n",
      " [[21  0]\n",
      " [ 1 32]]\n",
      "\n",
      "\n",
      "CLASSIFICATION REPORT for testing --\n",
      "\n",
      "\n",
      "               precision    recall  f1-score   support\n",
      "\n",
      "           0       0.95      1.00      0.98        21\n",
      "           1       1.00      0.97      0.98        33\n",
      "\n",
      "    accuracy                           0.98        54\n",
      "   macro avg       0.98      0.98      0.98        54\n",
      "weighted avg       0.98      0.98      0.98        54\n",
      "\n"
     ]
    }
   ],
   "source": [
    "score(svc,x_train,x_test,y_train,y_test,train=True)\n",
    "score(svc,x_train,x_test,y_train,y_test,train=False)"
   ]
  },
  {
   "cell_type": "code",
   "execution_count": 168,
   "id": "b0ae2923",
   "metadata": {},
   "outputs": [],
   "source": [
    "test_pred=svc.predict(x_test)\n",
    "svc_test_accuracy=round(accuracy_score(y_test,test_pred)*100,2)"
   ]
  },
  {
   "cell_type": "code",
   "execution_count": 169,
   "id": "adae74b0",
   "metadata": {},
   "outputs": [],
   "source": [
    "cross_val=cross_val_score(svc,x_scaled,y,cv=5).mean()"
   ]
  },
  {
   "cell_type": "code",
   "execution_count": 170,
   "id": "9f999c5c",
   "metadata": {},
   "outputs": [
    {
     "name": "stdout",
     "output_type": "stream",
     "text": [
      "\n",
      "CROSS VAL SCORE IS  96.66\n",
      "\n",
      "TEST ACCURACY SCORE IS  98.15\n"
     ]
    }
   ],
   "source": [
    "print('\\nCROSS VAL SCORE IS ',round(cross_val*100,2))\n",
    "print(\"\\nTEST ACCURACY SCORE IS \",svc_test_accuracy)"
   ]
  },
  {
   "cell_type": "markdown",
   "id": "449725b3",
   "metadata": {},
   "source": [
    "MODEL 7) ADABOOST CLASSIFIER-\n",
    "----------------------"
   ]
  },
  {
   "cell_type": "code",
   "execution_count": 171,
   "id": "49f9578e",
   "metadata": {},
   "outputs": [],
   "source": [
    "from sklearn.ensemble import AdaBoostClassifier"
   ]
  },
  {
   "cell_type": "code",
   "execution_count": 172,
   "id": "d0a12b06",
   "metadata": {},
   "outputs": [],
   "source": [
    "adc=AdaBoostClassifier()"
   ]
  },
  {
   "cell_type": "code",
   "execution_count": 173,
   "id": "6201467f",
   "metadata": {},
   "outputs": [
    {
     "data": {
      "text/html": [
       "<style>#sk-container-id-13 {color: black;background-color: white;}#sk-container-id-13 pre{padding: 0;}#sk-container-id-13 div.sk-toggleable {background-color: white;}#sk-container-id-13 label.sk-toggleable__label {cursor: pointer;display: block;width: 100%;margin-bottom: 0;padding: 0.3em;box-sizing: border-box;text-align: center;}#sk-container-id-13 label.sk-toggleable__label-arrow:before {content: \"▸\";float: left;margin-right: 0.25em;color: #696969;}#sk-container-id-13 label.sk-toggleable__label-arrow:hover:before {color: black;}#sk-container-id-13 div.sk-estimator:hover label.sk-toggleable__label-arrow:before {color: black;}#sk-container-id-13 div.sk-toggleable__content {max-height: 0;max-width: 0;overflow: hidden;text-align: left;background-color: #f0f8ff;}#sk-container-id-13 div.sk-toggleable__content pre {margin: 0.2em;color: black;border-radius: 0.25em;background-color: #f0f8ff;}#sk-container-id-13 input.sk-toggleable__control:checked~div.sk-toggleable__content {max-height: 200px;max-width: 100%;overflow: auto;}#sk-container-id-13 input.sk-toggleable__control:checked~label.sk-toggleable__label-arrow:before {content: \"▾\";}#sk-container-id-13 div.sk-estimator input.sk-toggleable__control:checked~label.sk-toggleable__label {background-color: #d4ebff;}#sk-container-id-13 div.sk-label input.sk-toggleable__control:checked~label.sk-toggleable__label {background-color: #d4ebff;}#sk-container-id-13 input.sk-hidden--visually {border: 0;clip: rect(1px 1px 1px 1px);clip: rect(1px, 1px, 1px, 1px);height: 1px;margin: -1px;overflow: hidden;padding: 0;position: absolute;width: 1px;}#sk-container-id-13 div.sk-estimator {font-family: monospace;background-color: #f0f8ff;border: 1px dotted black;border-radius: 0.25em;box-sizing: border-box;margin-bottom: 0.5em;}#sk-container-id-13 div.sk-estimator:hover {background-color: #d4ebff;}#sk-container-id-13 div.sk-parallel-item::after {content: \"\";width: 100%;border-bottom: 1px solid gray;flex-grow: 1;}#sk-container-id-13 div.sk-label:hover label.sk-toggleable__label {background-color: #d4ebff;}#sk-container-id-13 div.sk-serial::before {content: \"\";position: absolute;border-left: 1px solid gray;box-sizing: border-box;top: 0;bottom: 0;left: 50%;z-index: 0;}#sk-container-id-13 div.sk-serial {display: flex;flex-direction: column;align-items: center;background-color: white;padding-right: 0.2em;padding-left: 0.2em;position: relative;}#sk-container-id-13 div.sk-item {position: relative;z-index: 1;}#sk-container-id-13 div.sk-parallel {display: flex;align-items: stretch;justify-content: center;background-color: white;position: relative;}#sk-container-id-13 div.sk-item::before, #sk-container-id-13 div.sk-parallel-item::before {content: \"\";position: absolute;border-left: 1px solid gray;box-sizing: border-box;top: 0;bottom: 0;left: 50%;z-index: -1;}#sk-container-id-13 div.sk-parallel-item {display: flex;flex-direction: column;z-index: 1;position: relative;background-color: white;}#sk-container-id-13 div.sk-parallel-item:first-child::after {align-self: flex-end;width: 50%;}#sk-container-id-13 div.sk-parallel-item:last-child::after {align-self: flex-start;width: 50%;}#sk-container-id-13 div.sk-parallel-item:only-child::after {width: 0;}#sk-container-id-13 div.sk-dashed-wrapped {border: 1px dashed gray;margin: 0 0.4em 0.5em 0.4em;box-sizing: border-box;padding-bottom: 0.4em;background-color: white;}#sk-container-id-13 div.sk-label label {font-family: monospace;font-weight: bold;display: inline-block;line-height: 1.2em;}#sk-container-id-13 div.sk-label-container {text-align: center;}#sk-container-id-13 div.sk-container {/* jupyter's `normalize.less` sets `[hidden] { display: none; }` but bootstrap.min.css set `[hidden] { display: none !important; }` so we also need the `!important` here to be able to override the default hidden behavior on the sphinx rendered scikit-learn.org. See: https://github.com/scikit-learn/scikit-learn/issues/21755 */display: inline-block !important;position: relative;}#sk-container-id-13 div.sk-text-repr-fallback {display: none;}</style><div id=\"sk-container-id-13\" class=\"sk-top-container\"><div class=\"sk-text-repr-fallback\"><pre>AdaBoostClassifier()</pre><b>In a Jupyter environment, please rerun this cell to show the HTML representation or trust the notebook. <br />On GitHub, the HTML representation is unable to render, please try loading this page with nbviewer.org.</b></div><div class=\"sk-container\" hidden><div class=\"sk-item\"><div class=\"sk-estimator sk-toggleable\"><input class=\"sk-toggleable__control sk-hidden--visually\" id=\"sk-estimator-id-25\" type=\"checkbox\" checked><label for=\"sk-estimator-id-25\" class=\"sk-toggleable__label sk-toggleable__label-arrow\">AdaBoostClassifier</label><div class=\"sk-toggleable__content\"><pre>AdaBoostClassifier()</pre></div></div></div></div></div>"
      ],
      "text/plain": [
       "AdaBoostClassifier()"
      ]
     },
     "execution_count": 173,
     "metadata": {},
     "output_type": "execute_result"
    }
   ],
   "source": [
    "adc.fit(x_train,y_train)"
   ]
  },
  {
   "cell_type": "code",
   "execution_count": 174,
   "id": "a40c0ed2",
   "metadata": {},
   "outputs": [
    {
     "name": "stdout",
     "output_type": "stream",
     "text": [
      "\n",
      "\n",
      "Training SCORE FOR THE AdaBoostClassifier() is 100.0\n",
      "\n",
      "\n",
      "CONFUSION MATRIX FOR THE TRAINIG\n",
      "\n",
      "\n",
      " [[ 94   0]\n",
      " [  0 121]]\n",
      "\n",
      "\n",
      "CLASSIFICATION REPORT for training --\n",
      "\n",
      "\n",
      "               precision    recall  f1-score   support\n",
      "\n",
      "           0       1.00      1.00      1.00        94\n",
      "           1       1.00      1.00      1.00       121\n",
      "\n",
      "    accuracy                           1.00       215\n",
      "   macro avg       1.00      1.00      1.00       215\n",
      "weighted avg       1.00      1.00      1.00       215\n",
      "\n",
      "\n",
      "\n",
      "Testing SCORE FOR THE AdaBoostClassifier() is 96.3\n",
      "\n",
      "\n",
      "CONFUSION MATRIX FOR THE TESTING\n",
      "\n",
      "\n",
      " [[20  1]\n",
      " [ 1 32]]\n",
      "\n",
      "\n",
      "CLASSIFICATION REPORT for testing --\n",
      "\n",
      "\n",
      "               precision    recall  f1-score   support\n",
      "\n",
      "           0       0.95      0.95      0.95        21\n",
      "           1       0.97      0.97      0.97        33\n",
      "\n",
      "    accuracy                           0.96        54\n",
      "   macro avg       0.96      0.96      0.96        54\n",
      "weighted avg       0.96      0.96      0.96        54\n",
      "\n"
     ]
    }
   ],
   "source": [
    "score(adc,x_train,x_test,y_train,y_test,train=True)\n",
    "score(adc,x_train,x_test,y_train,y_test,train=False)"
   ]
  },
  {
   "cell_type": "markdown",
   "id": "863848ec",
   "metadata": {},
   "source": [
    "------HYPER PARAMETER TUNING FOR ADABOOST CLASSIFIER-----------------"
   ]
  },
  {
   "cell_type": "code",
   "execution_count": 180,
   "id": "0a9f2a76",
   "metadata": {},
   "outputs": [
    {
     "data": {
      "text/plain": [
       "dict_keys(['algorithm', 'base_estimator', 'learning_rate', 'n_estimators', 'random_state'])"
      ]
     },
     "execution_count": 180,
     "metadata": {},
     "output_type": "execute_result"
    }
   ],
   "source": [
    "adc.get_params().keys()"
   ]
  },
  {
   "cell_type": "code",
   "execution_count": 181,
   "id": "ea9a1706",
   "metadata": {},
   "outputs": [],
   "source": [
    "adc=AdaBoostClassifier()"
   ]
  },
  {
   "cell_type": "code",
   "execution_count": 182,
   "id": "0310e4dd",
   "metadata": {},
   "outputs": [],
   "source": [
    "param={\"algorithm\":['SAMME', 'SAMME.R'],\n",
    "      'n_estimators':np.arange(60,70),\n",
    "      'random_state':[121,234,345,389,567]}\n"
   ]
  },
  {
   "cell_type": "code",
   "execution_count": 183,
   "id": "b0649091",
   "metadata": {},
   "outputs": [],
   "source": [
    "adgs=GridSearchCV(adc,param_grid=param)"
   ]
  },
  {
   "cell_type": "code",
   "execution_count": 184,
   "id": "574ce3b3",
   "metadata": {},
   "outputs": [
    {
     "data": {
      "text/html": [
       "<style>#sk-container-id-14 {color: black;background-color: white;}#sk-container-id-14 pre{padding: 0;}#sk-container-id-14 div.sk-toggleable {background-color: white;}#sk-container-id-14 label.sk-toggleable__label {cursor: pointer;display: block;width: 100%;margin-bottom: 0;padding: 0.3em;box-sizing: border-box;text-align: center;}#sk-container-id-14 label.sk-toggleable__label-arrow:before {content: \"▸\";float: left;margin-right: 0.25em;color: #696969;}#sk-container-id-14 label.sk-toggleable__label-arrow:hover:before {color: black;}#sk-container-id-14 div.sk-estimator:hover label.sk-toggleable__label-arrow:before {color: black;}#sk-container-id-14 div.sk-toggleable__content {max-height: 0;max-width: 0;overflow: hidden;text-align: left;background-color: #f0f8ff;}#sk-container-id-14 div.sk-toggleable__content pre {margin: 0.2em;color: black;border-radius: 0.25em;background-color: #f0f8ff;}#sk-container-id-14 input.sk-toggleable__control:checked~div.sk-toggleable__content {max-height: 200px;max-width: 100%;overflow: auto;}#sk-container-id-14 input.sk-toggleable__control:checked~label.sk-toggleable__label-arrow:before {content: \"▾\";}#sk-container-id-14 div.sk-estimator input.sk-toggleable__control:checked~label.sk-toggleable__label {background-color: #d4ebff;}#sk-container-id-14 div.sk-label input.sk-toggleable__control:checked~label.sk-toggleable__label {background-color: #d4ebff;}#sk-container-id-14 input.sk-hidden--visually {border: 0;clip: rect(1px 1px 1px 1px);clip: rect(1px, 1px, 1px, 1px);height: 1px;margin: -1px;overflow: hidden;padding: 0;position: absolute;width: 1px;}#sk-container-id-14 div.sk-estimator {font-family: monospace;background-color: #f0f8ff;border: 1px dotted black;border-radius: 0.25em;box-sizing: border-box;margin-bottom: 0.5em;}#sk-container-id-14 div.sk-estimator:hover {background-color: #d4ebff;}#sk-container-id-14 div.sk-parallel-item::after {content: \"\";width: 100%;border-bottom: 1px solid gray;flex-grow: 1;}#sk-container-id-14 div.sk-label:hover label.sk-toggleable__label {background-color: #d4ebff;}#sk-container-id-14 div.sk-serial::before {content: \"\";position: absolute;border-left: 1px solid gray;box-sizing: border-box;top: 0;bottom: 0;left: 50%;z-index: 0;}#sk-container-id-14 div.sk-serial {display: flex;flex-direction: column;align-items: center;background-color: white;padding-right: 0.2em;padding-left: 0.2em;position: relative;}#sk-container-id-14 div.sk-item {position: relative;z-index: 1;}#sk-container-id-14 div.sk-parallel {display: flex;align-items: stretch;justify-content: center;background-color: white;position: relative;}#sk-container-id-14 div.sk-item::before, #sk-container-id-14 div.sk-parallel-item::before {content: \"\";position: absolute;border-left: 1px solid gray;box-sizing: border-box;top: 0;bottom: 0;left: 50%;z-index: -1;}#sk-container-id-14 div.sk-parallel-item {display: flex;flex-direction: column;z-index: 1;position: relative;background-color: white;}#sk-container-id-14 div.sk-parallel-item:first-child::after {align-self: flex-end;width: 50%;}#sk-container-id-14 div.sk-parallel-item:last-child::after {align-self: flex-start;width: 50%;}#sk-container-id-14 div.sk-parallel-item:only-child::after {width: 0;}#sk-container-id-14 div.sk-dashed-wrapped {border: 1px dashed gray;margin: 0 0.4em 0.5em 0.4em;box-sizing: border-box;padding-bottom: 0.4em;background-color: white;}#sk-container-id-14 div.sk-label label {font-family: monospace;font-weight: bold;display: inline-block;line-height: 1.2em;}#sk-container-id-14 div.sk-label-container {text-align: center;}#sk-container-id-14 div.sk-container {/* jupyter's `normalize.less` sets `[hidden] { display: none; }` but bootstrap.min.css set `[hidden] { display: none !important; }` so we also need the `!important` here to be able to override the default hidden behavior on the sphinx rendered scikit-learn.org. See: https://github.com/scikit-learn/scikit-learn/issues/21755 */display: inline-block !important;position: relative;}#sk-container-id-14 div.sk-text-repr-fallback {display: none;}</style><div id=\"sk-container-id-14\" class=\"sk-top-container\"><div class=\"sk-text-repr-fallback\"><pre>GridSearchCV(estimator=AdaBoostClassifier(),\n",
       "             param_grid={&#x27;algorithm&#x27;: [&#x27;SAMME&#x27;, &#x27;SAMME.R&#x27;],\n",
       "                         &#x27;n_estimators&#x27;: array([60, 61, 62, 63, 64, 65, 66, 67, 68, 69]),\n",
       "                         &#x27;random_state&#x27;: [121, 234, 345, 389, 567]})</pre><b>In a Jupyter environment, please rerun this cell to show the HTML representation or trust the notebook. <br />On GitHub, the HTML representation is unable to render, please try loading this page with nbviewer.org.</b></div><div class=\"sk-container\" hidden><div class=\"sk-item sk-dashed-wrapped\"><div class=\"sk-label-container\"><div class=\"sk-label sk-toggleable\"><input class=\"sk-toggleable__control sk-hidden--visually\" id=\"sk-estimator-id-26\" type=\"checkbox\" ><label for=\"sk-estimator-id-26\" class=\"sk-toggleable__label sk-toggleable__label-arrow\">GridSearchCV</label><div class=\"sk-toggleable__content\"><pre>GridSearchCV(estimator=AdaBoostClassifier(),\n",
       "             param_grid={&#x27;algorithm&#x27;: [&#x27;SAMME&#x27;, &#x27;SAMME.R&#x27;],\n",
       "                         &#x27;n_estimators&#x27;: array([60, 61, 62, 63, 64, 65, 66, 67, 68, 69]),\n",
       "                         &#x27;random_state&#x27;: [121, 234, 345, 389, 567]})</pre></div></div></div><div class=\"sk-parallel\"><div class=\"sk-parallel-item\"><div class=\"sk-item\"><div class=\"sk-label-container\"><div class=\"sk-label sk-toggleable\"><input class=\"sk-toggleable__control sk-hidden--visually\" id=\"sk-estimator-id-27\" type=\"checkbox\" ><label for=\"sk-estimator-id-27\" class=\"sk-toggleable__label sk-toggleable__label-arrow\">estimator: AdaBoostClassifier</label><div class=\"sk-toggleable__content\"><pre>AdaBoostClassifier()</pre></div></div></div><div class=\"sk-serial\"><div class=\"sk-item\"><div class=\"sk-estimator sk-toggleable\"><input class=\"sk-toggleable__control sk-hidden--visually\" id=\"sk-estimator-id-28\" type=\"checkbox\" ><label for=\"sk-estimator-id-28\" class=\"sk-toggleable__label sk-toggleable__label-arrow\">AdaBoostClassifier</label><div class=\"sk-toggleable__content\"><pre>AdaBoostClassifier()</pre></div></div></div></div></div></div></div></div></div></div>"
      ],
      "text/plain": [
       "GridSearchCV(estimator=AdaBoostClassifier(),\n",
       "             param_grid={'algorithm': ['SAMME', 'SAMME.R'],\n",
       "                         'n_estimators': array([60, 61, 62, 63, 64, 65, 66, 67, 68, 69]),\n",
       "                         'random_state': [121, 234, 345, 389, 567]})"
      ]
     },
     "execution_count": 184,
     "metadata": {},
     "output_type": "execute_result"
    }
   ],
   "source": [
    "adgs.fit(x_train,y_train)"
   ]
  },
  {
   "cell_type": "code",
   "execution_count": 185,
   "id": "3463e349",
   "metadata": {},
   "outputs": [
    {
     "data": {
      "text/plain": [
       "{'algorithm': 'SAMME', 'n_estimators': 68, 'random_state': 121}"
      ]
     },
     "execution_count": 185,
     "metadata": {},
     "output_type": "execute_result"
    }
   ],
   "source": [
    "adgs.best_params_"
   ]
  },
  {
   "cell_type": "code",
   "execution_count": 186,
   "id": "3d727a3c",
   "metadata": {},
   "outputs": [],
   "source": [
    "adc=adgs.best_estimator_"
   ]
  },
  {
   "cell_type": "code",
   "execution_count": 187,
   "id": "e35666f2",
   "metadata": {},
   "outputs": [
    {
     "name": "stdout",
     "output_type": "stream",
     "text": [
      "\n",
      "\n",
      "Training SCORE FOR THE AdaBoostClassifier(algorithm='SAMME', n_estimators=68, random_state=121) is 100.0\n",
      "\n",
      "\n",
      "CONFUSION MATRIX FOR THE TRAINIG\n",
      "\n",
      "\n",
      " [[ 94   0]\n",
      " [  0 121]]\n",
      "\n",
      "\n",
      "CLASSIFICATION REPORT for training --\n",
      "\n",
      "\n",
      "               precision    recall  f1-score   support\n",
      "\n",
      "           0       1.00      1.00      1.00        94\n",
      "           1       1.00      1.00      1.00       121\n",
      "\n",
      "    accuracy                           1.00       215\n",
      "   macro avg       1.00      1.00      1.00       215\n",
      "weighted avg       1.00      1.00      1.00       215\n",
      "\n",
      "\n",
      "\n",
      "Testing SCORE FOR THE AdaBoostClassifier(algorithm='SAMME', n_estimators=68, random_state=121) is 96.3\n",
      "\n",
      "\n",
      "CONFUSION MATRIX FOR THE TESTING\n",
      "\n",
      "\n",
      " [[20  1]\n",
      " [ 1 32]]\n",
      "\n",
      "\n",
      "CLASSIFICATION REPORT for testing --\n",
      "\n",
      "\n",
      "               precision    recall  f1-score   support\n",
      "\n",
      "           0       0.95      0.95      0.95        21\n",
      "           1       0.97      0.97      0.97        33\n",
      "\n",
      "    accuracy                           0.96        54\n",
      "   macro avg       0.96      0.96      0.96        54\n",
      "weighted avg       0.96      0.96      0.96        54\n",
      "\n"
     ]
    }
   ],
   "source": [
    "score(adc,x_train,x_test,y_train,y_test,train=True)\n",
    "score(adc,x_train,x_test,y_train,y_test,train=False)"
   ]
  },
  {
   "cell_type": "code",
   "execution_count": 188,
   "id": "495c1ab1",
   "metadata": {},
   "outputs": [],
   "source": [
    "test_pred=adc.predict(x_test)\n",
    "adc_test_accuracy=round(accuracy_score(y_test,test_pred)*100,2)"
   ]
  },
  {
   "cell_type": "code",
   "execution_count": 189,
   "id": "c58d2c30",
   "metadata": {},
   "outputs": [],
   "source": [
    "cross_val=cross_val_score(adc,x_scaled,y,cv=5).mean()"
   ]
  },
  {
   "cell_type": "code",
   "execution_count": 190,
   "id": "df0cf408",
   "metadata": {},
   "outputs": [
    {
     "name": "stdout",
     "output_type": "stream",
     "text": [
      "\n",
      "CROSS VAL SCORE IS  94.8\n",
      "\n",
      "TEST ACCURACY SCORE IS  96.3\n"
     ]
    }
   ],
   "source": [
    "print('\\nCROSS VAL SCORE IS ',round(cross_val*100,2))\n",
    "print(\"\\nTEST ACCURACY SCORE IS \",adc_test_accuracy)"
   ]
  },
  {
   "cell_type": "markdown",
   "id": "4b8e0132",
   "metadata": {},
   "source": [
    "SINCE THE DIFFERENCE BETWEEN THE VALUES OF CROSS VAL AND TEST ACCURACY ARE CLOSE WE WILL CONTINUW WITH THESE PARAMETERS AS FINAL ONES"
   ]
  },
  {
   "cell_type": "markdown",
   "id": "d25ba1f3",
   "metadata": {},
   "source": [
    "------------PLOTTING ROC CURVES FOR BOTH TESTING AND TRAINIG------------\n",
    "---"
   ]
  },
  {
   "cell_type": "code",
   "execution_count": 191,
   "id": "ae0f0611",
   "metadata": {},
   "outputs": [],
   "source": [
    "from sklearn.metrics import plot_roc_curve"
   ]
  },
  {
   "cell_type": "markdown",
   "id": "1caab73a",
   "metadata": {},
   "source": [
    "ROC CURVE FOR TRAINING"
   ]
  },
  {
   "cell_type": "code",
   "execution_count": 192,
   "id": "6a9072f2",
   "metadata": {},
   "outputs": [
    {
     "data": {
      "image/png": "[encoded data removed]",
      "text/plain": [
       "<Figure size 432x288 with 1 Axes>"
      ]
     },
     "metadata": {
      "needs_background": "light"
     },
     "output_type": "display_data"
    }
   ],
   "source": [
    "disp=plot_roc_curve(lr,x_train,y_train)\n",
    "plot_roc_curve(dt,x_train,y_train,ax=disp.ax_)\n",
    "plot_roc_curve(knn,x_train,y_train,ax=disp.ax_)\n",
    "plot_roc_curve(svc,x_train,y_train,ax=disp.ax_)\n",
    "plot_roc_curve(rfc,x_train,y_train,ax=disp.ax_)\n",
    "plot_roc_curve(adc,x_train,y_train,ax=disp.ax_)\n",
    "plot_roc_curve(bc,x_train,y_train,ax=disp.ax_)\n",
    "\n",
    "plt.legend(prop={'size':11},loc='lower right')\n",
    "plt.show()"
   ]
  },
  {
   "cell_type": "markdown",
   "id": "206ea369",
   "metadata": {},
   "source": [
    "ROC CURVE FOR TESTING"
   ]
  },
  {
   "cell_type": "code",
   "execution_count": 194,
   "id": "36edc92b",
   "metadata": {},
   "outputs": [
    {
     "data": {
      "image/png": "[encoded data removed]",
      "text/plain": [
       "<Figure size 432x288 with 1 Axes>"
      ]
     },
     "metadata": {
      "needs_background": "light"
     },
     "output_type": "display_data"
    }
   ],
   "source": [
    "disp=plot_roc_curve(lr,x_test,y_test)\n",
    "plot_roc_curve(dt,x_test,y_test,ax=disp.ax_)\n",
    "plot_roc_curve(knn,x_test,y_test,ax=disp.ax_)\n",
    "plot_roc_curve(svc,x_test,y_test,ax=disp.ax_)\n",
    "plot_roc_curve(rfc,x_test,y_test,ax=disp.ax_)\n",
    "plot_roc_curve(adc,x_test,y_test,ax=disp.ax_)\n",
    "plot_roc_curve(bc,x_test,y_test,ax=disp.ax_)\n",
    "plt.legend(prop={'size':11},loc='lower right')\n",
    "plt.show()"
   ]
  },
  {
   "cell_type": "markdown",
   "id": "6951bf8c",
   "metadata": {},
   "source": [
    "CONCLUSION-<BR>\n",
    "#### SINCE FOR RANDOM FOREST CLASSIFIER THE AUC IS SAME AND THE DIFFERENCE BETWEEN THE CROSS VAL SCORE AND THE ACCURACY SCORE IS THE LOWEST WE WILL CHOOSE \"RANDOM FOREST CLASSIFIER \" AS OUR FINAL MODEL "
   ]
  },
  {
   "cell_type": "code",
   "execution_count": 195,
   "id": "fcafbd1b",
   "metadata": {},
   "outputs": [
    {
     "name": "stdout",
     "output_type": "stream",
     "text": [
      "\n",
      "\n",
      "Training SCORE FOR THE RandomForestClassifier(criterion='entropy', n_estimators=58, oob_score=True) is 100.0\n",
      "\n",
      "\n",
      "CONFUSION MATRIX FOR THE TRAINIG\n",
      "\n",
      "\n",
      " [[ 94   0]\n",
      " [  0 121]]\n",
      "\n",
      "\n",
      "CLASSIFICATION REPORT for training --\n",
      "\n",
      "\n",
      "               precision    recall  f1-score   support\n",
      "\n",
      "           0       1.00      1.00      1.00        94\n",
      "           1       1.00      1.00      1.00       121\n",
      "\n",
      "    accuracy                           1.00       215\n",
      "   macro avg       1.00      1.00      1.00       215\n",
      "weighted avg       1.00      1.00      1.00       215\n",
      "\n",
      "\n",
      "\n",
      "Testing SCORE FOR THE RandomForestClassifier(criterion='entropy', n_estimators=58, oob_score=True) is 98.15\n",
      "\n",
      "\n",
      "CONFUSION MATRIX FOR THE TESTING\n",
      "\n",
      "\n",
      " [[21  0]\n",
      " [ 1 32]]\n",
      "\n",
      "\n",
      "CLASSIFICATION REPORT for testing --\n",
      "\n",
      "\n",
      "               precision    recall  f1-score   support\n",
      "\n",
      "           0       0.95      1.00      0.98        21\n",
      "           1       1.00      0.97      0.98        33\n",
      "\n",
      "    accuracy                           0.98        54\n",
      "   macro avg       0.98      0.98      0.98        54\n",
      "weighted avg       0.98      0.98      0.98        54\n",
      "\n"
     ]
    }
   ],
   "source": [
    "score(rfc,x_train,x_test,y_train,y_test,train=True)\n",
    "score(rfc,x_train,x_test,y_train,y_test,train=False)"
   ]
  },
  {
   "cell_type": "code",
   "execution_count": 199,
   "id": "067c94b4",
   "metadata": {},
   "outputs": [],
   "source": [
    "test_pred=rfc.predict(x_test)\n",
    "rfc_test_accuracy=round(accuracy_score(y_test,test_pred)*100,2)"
   ]
  },
  {
   "cell_type": "code",
   "execution_count": 200,
   "id": "a5e302cb",
   "metadata": {},
   "outputs": [],
   "source": [
    "cross_val=cross_val_score(rfc,x_scaled,y,cv=5).mean()"
   ]
  },
  {
   "cell_type": "code",
   "execution_count": 201,
   "id": "8fbc8f56",
   "metadata": {},
   "outputs": [
    {
     "name": "stdout",
     "output_type": "stream",
     "text": [
      "\n",
      "CROSS VAL SCORE IS  95.91\n",
      "\n",
      "TEST ACCURACY SCORE IS  98.15\n"
     ]
    }
   ],
   "source": [
    "print('\\nCROSS VAL SCORE IS ',round(cross_val*100,2))\n",
    "print(\"\\nTEST ACCURACY SCORE IS \",rfc_test_accuracy)"
   ]
  },
  {
   "cell_type": "markdown",
   "id": "79251234",
   "metadata": {},
   "source": [
    "SAVING THE MODEL\n",
    "------------------"
   ]
  },
  {
   "cell_type": "code",
   "execution_count": 203,
   "id": "9e027127",
   "metadata": {},
   "outputs": [],
   "source": [
    "import pickle"
   ]
  },
  {
   "cell_type": "code",
   "execution_count": 204,
   "id": "7dba35f0",
   "metadata": {},
   "outputs": [],
   "source": [
    "with open('rfc_model_pkl', 'wb') as files:\n",
    "    pickle.dump(rfc, files)"
   ]
  },
  {
   "cell_type": "markdown",
   "id": "09cdd314",
   "metadata": {},
   "source": [
    "---------------------------------------------------------------"
   ]
  },
  {
   "cell_type": "code",
   "execution_count": null,
   "id": "98434c71",
   "metadata": {},
   "outputs": [],
   "source": []
  }
 ],
 "metadata": {
  "kernelspec": {
   "display_name": "Python 3 (ipykernel)",
   "language": "python",
   "name": "python3"
  },
  "language_info": {
   "codemirror_mode": {
    "name": "ipython",
    "version": 3
   },
   "file_extension": ".py",
   "mimetype": "text/x-python",
   "name": "python",
   "nbconvert_exporter": "python",
   "pygments_lexer": "ipython3",
   "version": "3.9.12"
  }
 },
 "nbformat": 4,
 "nbformat_minor": 5
}
